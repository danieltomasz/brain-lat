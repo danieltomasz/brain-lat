{
 "cells": [
  {
   "cell_type": "raw",
   "metadata": {},
   "source": [
    "---\n",
    "title: \"Load all subjects\"\n",
    "format: html\n",
    "---"
   ]
  },
  {
   "cell_type": "markdown",
   "metadata": {},
   "source": [
    "> Ongoing (resting-state), eyes-closed EEG was recorded for ten minutes using the same amplifier across centers, a 128-channel Biosemi Active-two acquisition system (pin-type active, sintered Ag-AgCl electrodes). The reference electrodes were set to linked mastoids. Furthermore, external electrodes were placed in periocular locations to record blinks and eye movements. Analog filters were set at 0.03 and 100 Hz. The EEG was monitored online for detecting drowsiness, and myogenic and sweat artifacts.The EEG was processed offline using an in-house pipeline built upon pre-existing EEGLab functions85.\n",
    "\n",
    "> Only basic steps were implemented (i.e., re-referencing, filtering, and eliminating bad channels) to allow dataset users to conduct custom analyses. The row data (_.bdf extension) was imported into EEGLab using the BDFimport plugging and processed in the _.set extension (default EEGLab extension).\n",
    "\n",
    "> Recordings were re-referenced to the average of all channels (average reference), and band-pass filtered between 0.5 and 40 Hz using a zero-phase shift Butterworth filter of order = 8. Data were down sampled to 512 Hz, and Independent Component Analysis (ICA) was used to correct EEG artifacts induced by blinking and eye movements. Malfunctioning channels were identified using a semiautomatic detection method and replaced using weighted spherical interpolation.\n"
   ]
  },
  {
   "cell_type": "markdown",
   "metadata": {},
   "source": [
    "# Characteristics of the dataset\n",
    "\n",
    "Biosemi 128 channels\n",
    "\n",
    "- 0.5-40 Hz\n",
    "- 512 Hz\n",
    "- ICA\n",
    "- 10 minutes\n"
   ]
  },
  {
   "cell_type": "markdown",
   "metadata": {},
   "source": [
    "# Step-by-step guide\n",
    "\n",
    "- Add cap locations\n",
    "- -divide data into equally sized epochs 30s\n",
    "- compute power spectrum on the epochs\n",
    "- compute `specparam` parameters on the epochs\n",
    "- average the parameters across epochs\n",
    "- visualize the parameters on the scalp per group\n",
    "- visualize the differences between groups\n"
   ]
  },
  {
   "cell_type": "code",
   "execution_count": 1,
   "metadata": {},
   "outputs": [
    {
     "name": "stdout",
     "output_type": "stream",
     "text": [
      "Using matplotlib as 2D backend.\n",
      "Total files: 256\n",
      "Set files: 162\n",
      "Fdt files: 94\n"
     ]
    },
    {
     "data": {
      "application/vnd.microsoft.datawrangler.viewer.v0+json": {
       "columns": [
        {
         "name": "index",
         "rawType": "int64",
         "type": "integer"
        },
        {
         "name": "folder_0",
         "rawType": "object",
         "type": "string"
        },
        {
         "name": "folder_1",
         "rawType": "object",
         "type": "string"
        },
        {
         "name": "folder_2",
         "rawType": "object",
         "type": "string"
        },
        {
         "name": "folder_3",
         "rawType": "object",
         "type": "string"
        },
        {
         "name": "folder_4",
         "rawType": "object",
         "type": "string"
        },
        {
         "name": "filename",
         "rawType": "object",
         "type": "string"
        },
        {
         "name": "full_path",
         "rawType": "object",
         "type": "string"
        },
        {
         "name": "extension",
         "rawType": "object",
         "type": "string"
        }
       ],
       "conversionMethod": "pd.DataFrame",
       "ref": "891aaeae-2df2-4733-8d27-c2b8960dd03a",
       "rows": [
        [
         "159",
         "1_AD",
         "AR",
         "sub-30001",
         "eeg",
         "",
         "s6_sub-30001_rs-HEP_eeg.set",
         "/Volumes/T7/BrainLat/EEG data/1_AD/AR/sub-30001/eeg/s6_sub-30001_rs-HEP_eeg.set",
         ".set"
        ],
        [
         "158",
         "1_AD",
         "AR",
         "sub-30002",
         "eeg",
         "",
         "s6_sub-30002_rs-HEP_eeg.set",
         "/Volumes/T7/BrainLat/EEG data/1_AD/AR/sub-30002/eeg/s6_sub-30002_rs-HEP_eeg.set",
         ".set"
        ],
        [
         "157",
         "1_AD",
         "AR",
         "sub-30004",
         "eeg",
         "",
         "s6_sub-30004_rs-HEP_eeg.set",
         "/Volumes/T7/BrainLat/EEG data/1_AD/AR/sub-30004/eeg/s6_sub-30004_rs-HEP_eeg.set",
         ".set"
        ],
        [
         "170",
         "1_AD",
         "AR",
         "sub-30008",
         "eeg",
         "",
         "s6_sub-30008_rs-HEP_eeg.set",
         "/Volumes/T7/BrainLat/EEG data/1_AD/AR/sub-30008/eeg/s6_sub-30008_rs-HEP_eeg.set",
         ".set"
        ],
        [
         "168",
         "1_AD",
         "AR",
         "sub-30009",
         "eeg",
         "",
         "s6_sub-30009_rs-HEP_eeg.set",
         "/Volumes/T7/BrainLat/EEG data/1_AD/AR/sub-30009/eeg/s6_sub-30009_rs-HEP_eeg.set",
         ".set"
        ]
       ],
       "shape": {
        "columns": 8,
        "rows": 5
       }
      },
      "text/html": [
       "<div>\n",
       "<style scoped>\n",
       "    .dataframe tbody tr th:only-of-type {\n",
       "        vertical-align: middle;\n",
       "    }\n",
       "\n",
       "    .dataframe tbody tr th {\n",
       "        vertical-align: top;\n",
       "    }\n",
       "\n",
       "    .dataframe thead th {\n",
       "        text-align: right;\n",
       "    }\n",
       "</style>\n",
       "<table border=\"1\" class=\"dataframe\">\n",
       "  <thead>\n",
       "    <tr style=\"text-align: right;\">\n",
       "      <th></th>\n",
       "      <th>folder_0</th>\n",
       "      <th>folder_1</th>\n",
       "      <th>folder_2</th>\n",
       "      <th>folder_3</th>\n",
       "      <th>folder_4</th>\n",
       "      <th>filename</th>\n",
       "      <th>full_path</th>\n",
       "      <th>extension</th>\n",
       "    </tr>\n",
       "  </thead>\n",
       "  <tbody>\n",
       "    <tr>\n",
       "      <th>159</th>\n",
       "      <td>1_AD</td>\n",
       "      <td>AR</td>\n",
       "      <td>sub-30001</td>\n",
       "      <td>eeg</td>\n",
       "      <td></td>\n",
       "      <td>s6_sub-30001_rs-HEP_eeg.set</td>\n",
       "      <td>/Volumes/T7/BrainLat/EEG data/1_AD/AR/sub-3000...</td>\n",
       "      <td>.set</td>\n",
       "    </tr>\n",
       "    <tr>\n",
       "      <th>158</th>\n",
       "      <td>1_AD</td>\n",
       "      <td>AR</td>\n",
       "      <td>sub-30002</td>\n",
       "      <td>eeg</td>\n",
       "      <td></td>\n",
       "      <td>s6_sub-30002_rs-HEP_eeg.set</td>\n",
       "      <td>/Volumes/T7/BrainLat/EEG data/1_AD/AR/sub-3000...</td>\n",
       "      <td>.set</td>\n",
       "    </tr>\n",
       "    <tr>\n",
       "      <th>157</th>\n",
       "      <td>1_AD</td>\n",
       "      <td>AR</td>\n",
       "      <td>sub-30004</td>\n",
       "      <td>eeg</td>\n",
       "      <td></td>\n",
       "      <td>s6_sub-30004_rs-HEP_eeg.set</td>\n",
       "      <td>/Volumes/T7/BrainLat/EEG data/1_AD/AR/sub-3000...</td>\n",
       "      <td>.set</td>\n",
       "    </tr>\n",
       "    <tr>\n",
       "      <th>170</th>\n",
       "      <td>1_AD</td>\n",
       "      <td>AR</td>\n",
       "      <td>sub-30008</td>\n",
       "      <td>eeg</td>\n",
       "      <td></td>\n",
       "      <td>s6_sub-30008_rs-HEP_eeg.set</td>\n",
       "      <td>/Volumes/T7/BrainLat/EEG data/1_AD/AR/sub-3000...</td>\n",
       "      <td>.set</td>\n",
       "    </tr>\n",
       "    <tr>\n",
       "      <th>168</th>\n",
       "      <td>1_AD</td>\n",
       "      <td>AR</td>\n",
       "      <td>sub-30009</td>\n",
       "      <td>eeg</td>\n",
       "      <td></td>\n",
       "      <td>s6_sub-30009_rs-HEP_eeg.set</td>\n",
       "      <td>/Volumes/T7/BrainLat/EEG data/1_AD/AR/sub-3000...</td>\n",
       "      <td>.set</td>\n",
       "    </tr>\n",
       "  </tbody>\n",
       "</table>\n",
       "</div>"
      ],
      "text/plain": [
       "    folder_0 folder_1   folder_2 folder_3 folder_4  \\\n",
       "159     1_AD       AR  sub-30001      eeg            \n",
       "158     1_AD       AR  sub-30002      eeg            \n",
       "157     1_AD       AR  sub-30004      eeg            \n",
       "170     1_AD       AR  sub-30008      eeg            \n",
       "168     1_AD       AR  sub-30009      eeg            \n",
       "\n",
       "                        filename  \\\n",
       "159  s6_sub-30001_rs-HEP_eeg.set   \n",
       "158  s6_sub-30002_rs-HEP_eeg.set   \n",
       "157  s6_sub-30004_rs-HEP_eeg.set   \n",
       "170  s6_sub-30008_rs-HEP_eeg.set   \n",
       "168  s6_sub-30009_rs-HEP_eeg.set   \n",
       "\n",
       "                                             full_path extension  \n",
       "159  /Volumes/T7/BrainLat/EEG data/1_AD/AR/sub-3000...      .set  \n",
       "158  /Volumes/T7/BrainLat/EEG data/1_AD/AR/sub-3000...      .set  \n",
       "157  /Volumes/T7/BrainLat/EEG data/1_AD/AR/sub-3000...      .set  \n",
       "170  /Volumes/T7/BrainLat/EEG data/1_AD/AR/sub-3000...      .set  \n",
       "168  /Volumes/T7/BrainLat/EEG data/1_AD/AR/sub-3000...      .set  "
      ]
     },
     "metadata": {},
     "output_type": "display_data"
    }
   ],
   "source": [
    "import os\n",
    "import pandas as pd\n",
    "from pathlib import Path\n",
    "import mne\n",
    "from pathlib import Path\n",
    "import matplotlib\n",
    "mne.viz.set_browser_backend(\"matplotlib\", verbose=None)\n",
    "\n",
    "def create_hierarchical_dataframe(root_dir):\n",
    "    data = []\n",
    "    root = Path(root_dir)\n",
    "    \n",
    "    # Find all non-hidden .set and .fdt files\n",
    "    files = [f for f in root.glob('**/*.*') \n",
    "             if (f.suffix in ['.set', '.fdt']) and not f.name.startswith('.')]\n",
    "    \n",
    "    # Process each file\n",
    "    for file in files:\n",
    "        # Get relative path components as a list\n",
    "        rel_path = file.relative_to(root)\n",
    "        path_parts = list(rel_path.parts)\n",
    "        \n",
    "        # Add full path as the last element\n",
    "        data.append(path_parts + [str(file)])\n",
    "    \n",
    "    # Find max depth and create column names\n",
    "    max_depth = max(len(row) - 1 for row in data) if data else 0\n",
    "    folder_cols = [f'folder_{i}' for i in range(max_depth)]\n",
    "    columns = folder_cols + ['filename', 'full_path']\n",
    "    \n",
    "    # Create DataFrame with consistent column count\n",
    "    df_data = []\n",
    "    for row in data:\n",
    "        filename = row[-2]\n",
    "        full_path = row[-1]\n",
    "        folders = row[:-2]\n",
    "        # Pad folders with empty strings if needed\n",
    "        padded_folders = folders + [''] * (max_depth - len(folders))\n",
    "        df_data.append(padded_folders + [filename, full_path])\n",
    "    \n",
    "    df = pd.DataFrame(df_data, columns=columns).sort_values('full_path')\n",
    "    \n",
    "    # Add extension column\n",
    "    df['extension'] = df['filename'].apply(lambda x: os.path.splitext(x)[1])\n",
    "    \n",
    "    return df\n",
    "\n",
    "# Usage\n",
    "root_dir = \"/Volumes/T7/BrainLat/EEG data\"\n",
    "df = create_hierarchical_dataframe(root_dir)\n",
    "df.to_csv('eeg_file_hierarchy.csv', index=False)\n",
    "\n",
    "# Summary stats\n",
    "print(f\"Total files: {len(df)}\")\n",
    "print(f\"Set files: {sum(df['filename'].str.endswith('.set'))}\")\n",
    "print(f\"Fdt files: {sum(df['filename'].str.endswith('.fdt'))}\")\n",
    "display(df.head())"
   ]
  },
  {
   "cell_type": "code",
   "execution_count": 2,
   "metadata": {},
   "outputs": [
    {
     "name": "stdout",
     "output_type": "stream",
     "text": [
      "Original dataset size: 256\n",
      "Filtered dataset size: 190\n",
      "Removed 66 entries with folder_0 = '4_MS'\n"
     ]
    },
    {
     "data": {
      "application/vnd.microsoft.datawrangler.viewer.v0+json": {
       "columns": [
        {
         "name": "index",
         "rawType": "int64",
         "type": "integer"
        },
        {
         "name": "extension",
         "rawType": "object",
         "type": "string"
        },
        {
         "name": "count",
         "rawType": "int64",
         "type": "integer"
        }
       ],
       "conversionMethod": "pd.DataFrame",
       "ref": "bfaa2b30-abe0-4cfe-8497-3594f209248f",
       "rows": [
        [
         "1",
         ".set",
         "129"
        ],
        [
         "0",
         ".fdt",
         "61"
        ]
       ],
       "shape": {
        "columns": 2,
        "rows": 2
       }
      },
      "text/html": [
       "<div>\n",
       "<style scoped>\n",
       "    .dataframe tbody tr th:only-of-type {\n",
       "        vertical-align: middle;\n",
       "    }\n",
       "\n",
       "    .dataframe tbody tr th {\n",
       "        vertical-align: top;\n",
       "    }\n",
       "\n",
       "    .dataframe thead th {\n",
       "        text-align: right;\n",
       "    }\n",
       "</style>\n",
       "<table border=\"1\" class=\"dataframe\">\n",
       "  <thead>\n",
       "    <tr style=\"text-align: right;\">\n",
       "      <th></th>\n",
       "      <th>extension</th>\n",
       "      <th>count</th>\n",
       "    </tr>\n",
       "  </thead>\n",
       "  <tbody>\n",
       "    <tr>\n",
       "      <th>1</th>\n",
       "      <td>.set</td>\n",
       "      <td>129</td>\n",
       "    </tr>\n",
       "    <tr>\n",
       "      <th>0</th>\n",
       "      <td>.fdt</td>\n",
       "      <td>61</td>\n",
       "    </tr>\n",
       "  </tbody>\n",
       "</table>\n",
       "</div>"
      ],
      "text/plain": [
       "  extension  count\n",
       "1      .set    129\n",
       "0      .fdt     61"
      ]
     },
     "metadata": {},
     "output_type": "display_data"
    },
    {
     "data": {
      "application/vnd.microsoft.datawrangler.viewer.v0+json": {
       "columns": [
        {
         "name": "index",
         "rawType": "int64",
         "type": "integer"
        },
        {
         "name": "folder_0",
         "rawType": "object",
         "type": "string"
        },
        {
         "name": "count",
         "rawType": "int64",
         "type": "integer"
        }
       ],
       "conversionMethod": "pd.DataFrame",
       "ref": "73e60e2c-84d2-4085-af10-bd551788a2a8",
       "rows": [
        [
         "3",
         "5_HC",
         "78"
        ],
        [
         "2",
         "3_PD",
         "58"
        ],
        [
         "0",
         "1_AD",
         "35"
        ],
        [
         "1",
         "2_bvFTD",
         "19"
        ]
       ],
       "shape": {
        "columns": 2,
        "rows": 4
       }
      },
      "text/html": [
       "<div>\n",
       "<style scoped>\n",
       "    .dataframe tbody tr th:only-of-type {\n",
       "        vertical-align: middle;\n",
       "    }\n",
       "\n",
       "    .dataframe tbody tr th {\n",
       "        vertical-align: top;\n",
       "    }\n",
       "\n",
       "    .dataframe thead th {\n",
       "        text-align: right;\n",
       "    }\n",
       "</style>\n",
       "<table border=\"1\" class=\"dataframe\">\n",
       "  <thead>\n",
       "    <tr style=\"text-align: right;\">\n",
       "      <th></th>\n",
       "      <th>folder_0</th>\n",
       "      <th>count</th>\n",
       "    </tr>\n",
       "  </thead>\n",
       "  <tbody>\n",
       "    <tr>\n",
       "      <th>3</th>\n",
       "      <td>5_HC</td>\n",
       "      <td>78</td>\n",
       "    </tr>\n",
       "    <tr>\n",
       "      <th>2</th>\n",
       "      <td>3_PD</td>\n",
       "      <td>58</td>\n",
       "    </tr>\n",
       "    <tr>\n",
       "      <th>0</th>\n",
       "      <td>1_AD</td>\n",
       "      <td>35</td>\n",
       "    </tr>\n",
       "    <tr>\n",
       "      <th>1</th>\n",
       "      <td>2_bvFTD</td>\n",
       "      <td>19</td>\n",
       "    </tr>\n",
       "  </tbody>\n",
       "</table>\n",
       "</div>"
      ],
      "text/plain": [
       "  folder_0  count\n",
       "3     5_HC     78\n",
       "2     3_PD     58\n",
       "0     1_AD     35\n",
       "1  2_bvFTD     19"
      ]
     },
     "metadata": {},
     "output_type": "display_data"
    },
    {
     "data": {
      "application/vnd.microsoft.datawrangler.viewer.v0+json": {
       "columns": [
        {
         "name": "index",
         "rawType": "int64",
         "type": "integer"
        },
        {
         "name": "folder_0",
         "rawType": "object",
         "type": "string"
        },
        {
         "name": "folder_1",
         "rawType": "object",
         "type": "string"
        },
        {
         "name": "folder_2",
         "rawType": "object",
         "type": "string"
        },
        {
         "name": "folder_3",
         "rawType": "object",
         "type": "string"
        },
        {
         "name": "folder_4",
         "rawType": "object",
         "type": "string"
        },
        {
         "name": "filename",
         "rawType": "object",
         "type": "string"
        },
        {
         "name": "full_path",
         "rawType": "object",
         "type": "string"
        },
        {
         "name": "extension",
         "rawType": "object",
         "type": "string"
        }
       ],
       "conversionMethod": "pd.DataFrame",
       "ref": "53465b45-4a7f-47c8-a55f-7099459250b6",
       "rows": [
        [
         "159",
         "1_AD",
         "AR",
         "sub-30001",
         "eeg",
         "",
         "s6_sub-30001_rs-HEP_eeg.set",
         "/Volumes/T7/BrainLat/EEG data/1_AD/AR/sub-30001/eeg/s6_sub-30001_rs-HEP_eeg.set",
         ".set"
        ],
        [
         "158",
         "1_AD",
         "AR",
         "sub-30002",
         "eeg",
         "",
         "s6_sub-30002_rs-HEP_eeg.set",
         "/Volumes/T7/BrainLat/EEG data/1_AD/AR/sub-30002/eeg/s6_sub-30002_rs-HEP_eeg.set",
         ".set"
        ],
        [
         "157",
         "1_AD",
         "AR",
         "sub-30004",
         "eeg",
         "",
         "s6_sub-30004_rs-HEP_eeg.set",
         "/Volumes/T7/BrainLat/EEG data/1_AD/AR/sub-30004/eeg/s6_sub-30004_rs-HEP_eeg.set",
         ".set"
        ],
        [
         "170",
         "1_AD",
         "AR",
         "sub-30008",
         "eeg",
         "",
         "s6_sub-30008_rs-HEP_eeg.set",
         "/Volumes/T7/BrainLat/EEG data/1_AD/AR/sub-30008/eeg/s6_sub-30008_rs-HEP_eeg.set",
         ".set"
        ],
        [
         "168",
         "1_AD",
         "AR",
         "sub-30009",
         "eeg",
         "",
         "s6_sub-30009_rs-HEP_eeg.set",
         "/Volumes/T7/BrainLat/EEG data/1_AD/AR/sub-30009/eeg/s6_sub-30009_rs-HEP_eeg.set",
         ".set"
        ]
       ],
       "shape": {
        "columns": 8,
        "rows": 5
       }
      },
      "text/html": [
       "<div>\n",
       "<style scoped>\n",
       "    .dataframe tbody tr th:only-of-type {\n",
       "        vertical-align: middle;\n",
       "    }\n",
       "\n",
       "    .dataframe tbody tr th {\n",
       "        vertical-align: top;\n",
       "    }\n",
       "\n",
       "    .dataframe thead th {\n",
       "        text-align: right;\n",
       "    }\n",
       "</style>\n",
       "<table border=\"1\" class=\"dataframe\">\n",
       "  <thead>\n",
       "    <tr style=\"text-align: right;\">\n",
       "      <th></th>\n",
       "      <th>folder_0</th>\n",
       "      <th>folder_1</th>\n",
       "      <th>folder_2</th>\n",
       "      <th>folder_3</th>\n",
       "      <th>folder_4</th>\n",
       "      <th>filename</th>\n",
       "      <th>full_path</th>\n",
       "      <th>extension</th>\n",
       "    </tr>\n",
       "  </thead>\n",
       "  <tbody>\n",
       "    <tr>\n",
       "      <th>159</th>\n",
       "      <td>1_AD</td>\n",
       "      <td>AR</td>\n",
       "      <td>sub-30001</td>\n",
       "      <td>eeg</td>\n",
       "      <td></td>\n",
       "      <td>s6_sub-30001_rs-HEP_eeg.set</td>\n",
       "      <td>/Volumes/T7/BrainLat/EEG data/1_AD/AR/sub-3000...</td>\n",
       "      <td>.set</td>\n",
       "    </tr>\n",
       "    <tr>\n",
       "      <th>158</th>\n",
       "      <td>1_AD</td>\n",
       "      <td>AR</td>\n",
       "      <td>sub-30002</td>\n",
       "      <td>eeg</td>\n",
       "      <td></td>\n",
       "      <td>s6_sub-30002_rs-HEP_eeg.set</td>\n",
       "      <td>/Volumes/T7/BrainLat/EEG data/1_AD/AR/sub-3000...</td>\n",
       "      <td>.set</td>\n",
       "    </tr>\n",
       "    <tr>\n",
       "      <th>157</th>\n",
       "      <td>1_AD</td>\n",
       "      <td>AR</td>\n",
       "      <td>sub-30004</td>\n",
       "      <td>eeg</td>\n",
       "      <td></td>\n",
       "      <td>s6_sub-30004_rs-HEP_eeg.set</td>\n",
       "      <td>/Volumes/T7/BrainLat/EEG data/1_AD/AR/sub-3000...</td>\n",
       "      <td>.set</td>\n",
       "    </tr>\n",
       "    <tr>\n",
       "      <th>170</th>\n",
       "      <td>1_AD</td>\n",
       "      <td>AR</td>\n",
       "      <td>sub-30008</td>\n",
       "      <td>eeg</td>\n",
       "      <td></td>\n",
       "      <td>s6_sub-30008_rs-HEP_eeg.set</td>\n",
       "      <td>/Volumes/T7/BrainLat/EEG data/1_AD/AR/sub-3000...</td>\n",
       "      <td>.set</td>\n",
       "    </tr>\n",
       "    <tr>\n",
       "      <th>168</th>\n",
       "      <td>1_AD</td>\n",
       "      <td>AR</td>\n",
       "      <td>sub-30009</td>\n",
       "      <td>eeg</td>\n",
       "      <td></td>\n",
       "      <td>s6_sub-30009_rs-HEP_eeg.set</td>\n",
       "      <td>/Volumes/T7/BrainLat/EEG data/1_AD/AR/sub-3000...</td>\n",
       "      <td>.set</td>\n",
       "    </tr>\n",
       "  </tbody>\n",
       "</table>\n",
       "</div>"
      ],
      "text/plain": [
       "    folder_0 folder_1   folder_2 folder_3 folder_4  \\\n",
       "159     1_AD       AR  sub-30001      eeg            \n",
       "158     1_AD       AR  sub-30002      eeg            \n",
       "157     1_AD       AR  sub-30004      eeg            \n",
       "170     1_AD       AR  sub-30008      eeg            \n",
       "168     1_AD       AR  sub-30009      eeg            \n",
       "\n",
       "                        filename  \\\n",
       "159  s6_sub-30001_rs-HEP_eeg.set   \n",
       "158  s6_sub-30002_rs-HEP_eeg.set   \n",
       "157  s6_sub-30004_rs-HEP_eeg.set   \n",
       "170  s6_sub-30008_rs-HEP_eeg.set   \n",
       "168  s6_sub-30009_rs-HEP_eeg.set   \n",
       "\n",
       "                                             full_path extension  \n",
       "159  /Volumes/T7/BrainLat/EEG data/1_AD/AR/sub-3000...      .set  \n",
       "158  /Volumes/T7/BrainLat/EEG data/1_AD/AR/sub-3000...      .set  \n",
       "157  /Volumes/T7/BrainLat/EEG data/1_AD/AR/sub-3000...      .set  \n",
       "170  /Volumes/T7/BrainLat/EEG data/1_AD/AR/sub-3000...      .set  \n",
       "168  /Volumes/T7/BrainLat/EEG data/1_AD/AR/sub-3000...      .set  "
      ]
     },
     "metadata": {},
     "output_type": "display_data"
    }
   ],
   "source": [
    "# Analysis cell - filter out folder_0 with value \"4_MS\"\n",
    "filtered_df = (df\n",
    "    .query('folder_0 != \"4_MS\"')\n",
    "    .copy()\n",
    ")\n",
    "\n",
    "# Display filtered results\n",
    "print(f\"Original dataset size: {len(df)}\")\n",
    "print(f\"Filtered dataset size: {len(filtered_df)}\")\n",
    "print(f\"Removed {len(df) - len(filtered_df)} entries with folder_0 = '4_MS'\")\n",
    "\n",
    "# Distribution by extension in filtered dataset\n",
    "extension_counts = (filtered_df\n",
    "    .groupby('extension')\n",
    "    .size()\n",
    "    .reset_index(name='count')\n",
    "    .sort_values('count', ascending=False)\n",
    ")\n",
    "\n",
    "# Distribution by top-level folders in filtered dataset\n",
    "folder_counts = (filtered_df\n",
    "    .groupby('folder_0')\n",
    "    .size()\n",
    "    .reset_index(name='count')\n",
    "    .sort_values('count', ascending=False)\n",
    ")\n",
    "\n",
    "# Display summary statistics\n",
    "display(extension_counts)\n",
    "display(folder_counts)\n",
    "display(filtered_df.head())"
   ]
  },
  {
   "cell_type": "code",
   "execution_count": 3,
   "metadata": {},
   "outputs": [
    {
     "data": {
      "application/vnd.microsoft.datawrangler.viewer.v0+json": {
       "columns": [
        {
         "name": "index",
         "rawType": "int64",
         "type": "integer"
        },
        {
         "name": "folder_0",
         "rawType": "object",
         "type": "string"
        },
        {
         "name": "folder_1",
         "rawType": "object",
         "type": "string"
        },
        {
         "name": "folder_2",
         "rawType": "object",
         "type": "string"
        },
        {
         "name": "folder_3",
         "rawType": "object",
         "type": "string"
        },
        {
         "name": "folder_4",
         "rawType": "object",
         "type": "string"
        },
        {
         "name": "filename",
         "rawType": "object",
         "type": "string"
        },
        {
         "name": "full_path",
         "rawType": "object",
         "type": "string"
        },
        {
         "name": "extension",
         "rawType": "object",
         "type": "string"
        }
       ],
       "conversionMethod": "pd.DataFrame",
       "ref": "57c52710-75d4-4231-9336-9d5adc51647e",
       "rows": [
        [
         "149",
         "3_PD",
         "AR",
         "sub-40001",
         "eeg",
         "",
         "s40001_AR_PD_reject.fdt",
         "/Volumes/T7/BrainLat/EEG data/3_PD/AR/sub-40001/eeg/s40001_AR_PD_reject.fdt",
         ".fdt"
        ],
        [
         "150",
         "3_PD",
         "AR",
         "sub-40001",
         "eeg",
         "",
         "s40001_AR_PD_reject.set",
         "/Volumes/T7/BrainLat/EEG data/3_PD/AR/sub-40001/eeg/s40001_AR_PD_reject.set",
         ".set"
        ],
        [
         "143",
         "3_PD",
         "AR",
         "sub-40006",
         "eeg",
         "",
         "s40006_AR_PD_reject.fdt",
         "/Volumes/T7/BrainLat/EEG data/3_PD/AR/sub-40006/eeg/s40006_AR_PD_reject.fdt",
         ".fdt"
        ],
        [
         "144",
         "3_PD",
         "AR",
         "sub-40006",
         "eeg",
         "",
         "s40006_AR_PD_reject.set",
         "/Volumes/T7/BrainLat/EEG data/3_PD/AR/sub-40006/eeg/s40006_AR_PD_reject.set",
         ".set"
        ],
        [
         "153",
         "3_PD",
         "AR",
         "sub-40008",
         "eeg",
         "",
         "s40008_AR_PD_reject.fdt",
         "/Volumes/T7/BrainLat/EEG data/3_PD/AR/sub-40008/eeg/s40008_AR_PD_reject.fdt",
         ".fdt"
        ]
       ],
       "shape": {
        "columns": 8,
        "rows": 5
       }
      },
      "text/html": [
       "<div>\n",
       "<style scoped>\n",
       "    .dataframe tbody tr th:only-of-type {\n",
       "        vertical-align: middle;\n",
       "    }\n",
       "\n",
       "    .dataframe tbody tr th {\n",
       "        vertical-align: top;\n",
       "    }\n",
       "\n",
       "    .dataframe thead th {\n",
       "        text-align: right;\n",
       "    }\n",
       "</style>\n",
       "<table border=\"1\" class=\"dataframe\">\n",
       "  <thead>\n",
       "    <tr style=\"text-align: right;\">\n",
       "      <th></th>\n",
       "      <th>folder_0</th>\n",
       "      <th>folder_1</th>\n",
       "      <th>folder_2</th>\n",
       "      <th>folder_3</th>\n",
       "      <th>folder_4</th>\n",
       "      <th>filename</th>\n",
       "      <th>full_path</th>\n",
       "      <th>extension</th>\n",
       "    </tr>\n",
       "  </thead>\n",
       "  <tbody>\n",
       "    <tr>\n",
       "      <th>149</th>\n",
       "      <td>3_PD</td>\n",
       "      <td>AR</td>\n",
       "      <td>sub-40001</td>\n",
       "      <td>eeg</td>\n",
       "      <td></td>\n",
       "      <td>s40001_AR_PD_reject.fdt</td>\n",
       "      <td>/Volumes/T7/BrainLat/EEG data/3_PD/AR/sub-4000...</td>\n",
       "      <td>.fdt</td>\n",
       "    </tr>\n",
       "    <tr>\n",
       "      <th>150</th>\n",
       "      <td>3_PD</td>\n",
       "      <td>AR</td>\n",
       "      <td>sub-40001</td>\n",
       "      <td>eeg</td>\n",
       "      <td></td>\n",
       "      <td>s40001_AR_PD_reject.set</td>\n",
       "      <td>/Volumes/T7/BrainLat/EEG data/3_PD/AR/sub-4000...</td>\n",
       "      <td>.set</td>\n",
       "    </tr>\n",
       "    <tr>\n",
       "      <th>143</th>\n",
       "      <td>3_PD</td>\n",
       "      <td>AR</td>\n",
       "      <td>sub-40006</td>\n",
       "      <td>eeg</td>\n",
       "      <td></td>\n",
       "      <td>s40006_AR_PD_reject.fdt</td>\n",
       "      <td>/Volumes/T7/BrainLat/EEG data/3_PD/AR/sub-4000...</td>\n",
       "      <td>.fdt</td>\n",
       "    </tr>\n",
       "    <tr>\n",
       "      <th>144</th>\n",
       "      <td>3_PD</td>\n",
       "      <td>AR</td>\n",
       "      <td>sub-40006</td>\n",
       "      <td>eeg</td>\n",
       "      <td></td>\n",
       "      <td>s40006_AR_PD_reject.set</td>\n",
       "      <td>/Volumes/T7/BrainLat/EEG data/3_PD/AR/sub-4000...</td>\n",
       "      <td>.set</td>\n",
       "    </tr>\n",
       "    <tr>\n",
       "      <th>153</th>\n",
       "      <td>3_PD</td>\n",
       "      <td>AR</td>\n",
       "      <td>sub-40008</td>\n",
       "      <td>eeg</td>\n",
       "      <td></td>\n",
       "      <td>s40008_AR_PD_reject.fdt</td>\n",
       "      <td>/Volumes/T7/BrainLat/EEG data/3_PD/AR/sub-4000...</td>\n",
       "      <td>.fdt</td>\n",
       "    </tr>\n",
       "  </tbody>\n",
       "</table>\n",
       "</div>"
      ],
      "text/plain": [
       "    folder_0 folder_1   folder_2 folder_3 folder_4                 filename  \\\n",
       "149     3_PD       AR  sub-40001      eeg           s40001_AR_PD_reject.fdt   \n",
       "150     3_PD       AR  sub-40001      eeg           s40001_AR_PD_reject.set   \n",
       "143     3_PD       AR  sub-40006      eeg           s40006_AR_PD_reject.fdt   \n",
       "144     3_PD       AR  sub-40006      eeg           s40006_AR_PD_reject.set   \n",
       "153     3_PD       AR  sub-40008      eeg           s40008_AR_PD_reject.fdt   \n",
       "\n",
       "                                             full_path extension  \n",
       "149  /Volumes/T7/BrainLat/EEG data/3_PD/AR/sub-4000...      .fdt  \n",
       "150  /Volumes/T7/BrainLat/EEG data/3_PD/AR/sub-4000...      .set  \n",
       "143  /Volumes/T7/BrainLat/EEG data/3_PD/AR/sub-4000...      .fdt  \n",
       "144  /Volumes/T7/BrainLat/EEG data/3_PD/AR/sub-4000...      .set  \n",
       "153  /Volumes/T7/BrainLat/EEG data/3_PD/AR/sub-4000...      .fdt  "
      ]
     },
     "metadata": {},
     "output_type": "display_data"
    },
    {
     "name": "stdout",
     "output_type": "stream",
     "text": [
      "/Volumes/T7/BrainLat/EEG data/3_PD/AR/sub-40001/eeg/s40001_AR_PD_reject.set\n"
     ]
    }
   ],
   "source": [
    "# check pd_for example\n",
    "pd_df = (df\n",
    "    .query('folder_0 == \"3_PD\"')\n",
    "    .copy()\n",
    ")\n",
    "display(pd_df.head())\n",
    "# Get the first value from the full_path column\n",
    "\n",
    "first_full_path = pd_df['full_path'].iloc[1]\n",
    "print(first_full_path)"
   ]
  },
  {
   "cell_type": "markdown",
   "metadata": {},
   "source": [
    "# Checking all files \n"
   ]
  },
  {
   "cell_type": "code",
   "execution_count": 4,
   "metadata": {},
   "outputs": [
    {
     "name": "stdout",
     "output_type": "stream",
     "text": [
      "Extracting parameters from /Volumes/T7/BrainLat/EEG data/3_PD/AR/sub-40001/eeg/s40001_AR_PD_reject.set...\n",
      "Not setting metadata\n",
      "360 matching events found\n",
      "No baseline correction applied\n",
      "0 projection items activated\n",
      "Ready.\n"
     ]
    },
    {
     "name": "stderr",
     "output_type": "stream",
     "text": [
      "/var/folders/xq/sl7xjp_95qx7wfngy6s6vvg00000gn/T/ipykernel_12950/806794016.py:13: RuntimeWarning: At least one epoch has multiple events. Only the latency of the first event will be retained.\n",
      "  mne.io.read_epochs_eeglab(row['full_path'])\n",
      "/var/folders/xq/sl7xjp_95qx7wfngy6s6vvg00000gn/T/ipykernel_12950/806794016.py:13: RuntimeWarning: Data file name in EEG.data (s401_AR_PD_reject.fdt) is incorrect, the file name must have changed on disk, using the correct file name (s40001_AR_PD_reject.fdt).\n",
      "  mne.io.read_epochs_eeglab(row['full_path'])\n"
     ]
    },
    {
     "name": "stdout",
     "output_type": "stream",
     "text": [
      "Extracting parameters from /Volumes/T7/BrainLat/EEG data/3_PD/AR/sub-40006/eeg/s40006_AR_PD_reject.set...\n",
      "Not setting metadata\n",
      "380 matching events found\n",
      "No baseline correction applied\n",
      "0 projection items activated\n",
      "Ready.\n"
     ]
    },
    {
     "name": "stderr",
     "output_type": "stream",
     "text": [
      "/var/folders/xq/sl7xjp_95qx7wfngy6s6vvg00000gn/T/ipykernel_12950/806794016.py:13: RuntimeWarning: At least one epoch has multiple events. Only the latency of the first event will be retained.\n",
      "  mne.io.read_epochs_eeglab(row['full_path'])\n",
      "/var/folders/xq/sl7xjp_95qx7wfngy6s6vvg00000gn/T/ipykernel_12950/806794016.py:13: RuntimeWarning: Data file name in EEG.data (s406_AR_PD_reject.fdt) is incorrect, the file name must have changed on disk, using the correct file name (s40006_AR_PD_reject.fdt).\n",
      "  mne.io.read_epochs_eeglab(row['full_path'])\n"
     ]
    },
    {
     "name": "stdout",
     "output_type": "stream",
     "text": [
      "Extracting parameters from /Volumes/T7/BrainLat/EEG data/3_PD/AR/sub-40008/eeg/s40008_AR_PD_reject.set...\n",
      "Not setting metadata\n",
      "369 matching events found\n",
      "No baseline correction applied\n",
      "0 projection items activated\n",
      "Ready.\n"
     ]
    },
    {
     "name": "stderr",
     "output_type": "stream",
     "text": [
      "/var/folders/xq/sl7xjp_95qx7wfngy6s6vvg00000gn/T/ipykernel_12950/806794016.py:13: RuntimeWarning: At least one epoch has multiple events. Only the latency of the first event will be retained.\n",
      "  mne.io.read_epochs_eeglab(row['full_path'])\n",
      "/var/folders/xq/sl7xjp_95qx7wfngy6s6vvg00000gn/T/ipykernel_12950/806794016.py:13: RuntimeWarning: Data file name in EEG.data (s408_AR_PD_reject.fdt) is incorrect, the file name must have changed on disk, using the correct file name (s40008_AR_PD_reject.fdt).\n",
      "  mne.io.read_epochs_eeglab(row['full_path'])\n",
      "/var/folders/xq/sl7xjp_95qx7wfngy6s6vvg00000gn/T/ipykernel_12950/806794016.py:13: RuntimeWarning: At least one epoch has multiple events. Only the latency of the first event will be retained.\n",
      "  mne.io.read_epochs_eeglab(row['full_path'])\n"
     ]
    },
    {
     "name": "stdout",
     "output_type": "stream",
     "text": [
      "Extracting parameters from /Volumes/T7/BrainLat/EEG data/3_PD/AR/sub-40010/eeg/s40010_AR_PD_reject.set...\n",
      "Not setting metadata\n",
      "386 matching events found\n",
      "No baseline correction applied\n",
      "0 projection items activated\n",
      "Ready.\n"
     ]
    },
    {
     "name": "stderr",
     "output_type": "stream",
     "text": [
      "/var/folders/xq/sl7xjp_95qx7wfngy6s6vvg00000gn/T/ipykernel_12950/806794016.py:13: RuntimeWarning: Data file name in EEG.data (s410_AR_PD_reject.fdt) is incorrect, the file name must have changed on disk, using the correct file name (s40010_AR_PD_reject.fdt).\n",
      "  mne.io.read_epochs_eeglab(row['full_path'])\n",
      "/var/folders/xq/sl7xjp_95qx7wfngy6s6vvg00000gn/T/ipykernel_12950/806794016.py:13: RuntimeWarning: At least one epoch has multiple events. Only the latency of the first event will be retained.\n",
      "  mne.io.read_epochs_eeglab(row['full_path'])\n"
     ]
    },
    {
     "name": "stdout",
     "output_type": "stream",
     "text": [
      "Extracting parameters from /Volumes/T7/BrainLat/EEG data/3_PD/AR/sub-40011/eeg/s40011_AR_PD_reject.set...\n",
      "Not setting metadata\n",
      "294 matching events found\n",
      "No baseline correction applied\n",
      "0 projection items activated\n",
      "Ready.\n",
      "Extracting parameters from /Volumes/T7/BrainLat/EEG data/3_PD/AR/sub-40012/eeg/s40012_AR_PD_reject.set...\n"
     ]
    },
    {
     "name": "stderr",
     "output_type": "stream",
     "text": [
      "/var/folders/xq/sl7xjp_95qx7wfngy6s6vvg00000gn/T/ipykernel_12950/806794016.py:13: RuntimeWarning: Data file name in EEG.data (s411_AR_PD_reject.fdt) is incorrect, the file name must have changed on disk, using the correct file name (s40011_AR_PD_reject.fdt).\n",
      "  mne.io.read_epochs_eeglab(row['full_path'])\n",
      "/var/folders/xq/sl7xjp_95qx7wfngy6s6vvg00000gn/T/ipykernel_12950/806794016.py:13: RuntimeWarning: At least one epoch has multiple events. Only the latency of the first event will be retained.\n",
      "  mne.io.read_epochs_eeglab(row['full_path'])\n",
      "/var/folders/xq/sl7xjp_95qx7wfngy6s6vvg00000gn/T/ipykernel_12950/806794016.py:13: RuntimeWarning: Data file name in EEG.data (s412_AR_PD_reject.fdt) is incorrect, the file name must have changed on disk, using the correct file name (s40012_AR_PD_reject.fdt).\n",
      "  mne.io.read_epochs_eeglab(row['full_path'])\n"
     ]
    },
    {
     "name": "stdout",
     "output_type": "stream",
     "text": [
      "Not setting metadata\n",
      "401 matching events found\n",
      "No baseline correction applied\n",
      "0 projection items activated\n",
      "Ready.\n",
      "Extracting parameters from /Volumes/T7/BrainLat/EEG data/3_PD/AR/sub-40013/eeg/s40013_AR_PD_reject.set...\n",
      "Not setting metadata\n",
      "422 matching events found\n",
      "No baseline correction applied\n",
      "0 projection items activated\n",
      "Ready.\n"
     ]
    },
    {
     "name": "stderr",
     "output_type": "stream",
     "text": [
      "/var/folders/xq/sl7xjp_95qx7wfngy6s6vvg00000gn/T/ipykernel_12950/806794016.py:13: RuntimeWarning: At least one epoch has multiple events. Only the latency of the first event will be retained.\n",
      "  mne.io.read_epochs_eeglab(row['full_path'])\n",
      "/var/folders/xq/sl7xjp_95qx7wfngy6s6vvg00000gn/T/ipykernel_12950/806794016.py:13: RuntimeWarning: Data file name in EEG.data (s413_AR_PD_reject.fdt) is incorrect, the file name must have changed on disk, using the correct file name (s40013_AR_PD_reject.fdt).\n",
      "  mne.io.read_epochs_eeglab(row['full_path'])\n"
     ]
    },
    {
     "name": "stdout",
     "output_type": "stream",
     "text": [
      "Extracting parameters from /Volumes/T7/BrainLat/EEG data/3_PD/CL/sub-40001/eeg/s40001_CH_PD_reject.set...\n"
     ]
    },
    {
     "name": "stderr",
     "output_type": "stream",
     "text": [
      "/var/folders/xq/sl7xjp_95qx7wfngy6s6vvg00000gn/T/ipykernel_12950/806794016.py:13: RuntimeWarning: At least one epoch has multiple events. Only the latency of the first event will be retained.\n",
      "  mne.io.read_epochs_eeglab(row['full_path'])\n",
      "/var/folders/xq/sl7xjp_95qx7wfngy6s6vvg00000gn/T/ipykernel_12950/806794016.py:13: RuntimeWarning: Data file name in EEG.data (s401_CH_PD_reject.fdt) is incorrect, the file name must have changed on disk, using the correct file name (s40001_CH_PD_reject.fdt).\n",
      "  mne.io.read_epochs_eeglab(row['full_path'])\n"
     ]
    },
    {
     "name": "stdout",
     "output_type": "stream",
     "text": [
      "Not setting metadata\n",
      "579 matching events found\n",
      "No baseline correction applied\n",
      "0 projection items activated\n",
      "Ready.\n",
      "Extracting parameters from /Volumes/T7/BrainLat/EEG data/3_PD/CL/sub-40004/eeg/s40004_CH_PD_reject.set...\n",
      "Not setting metadata\n",
      "516 matching events found\n"
     ]
    },
    {
     "name": "stderr",
     "output_type": "stream",
     "text": [
      "/var/folders/xq/sl7xjp_95qx7wfngy6s6vvg00000gn/T/ipykernel_12950/806794016.py:13: RuntimeWarning: At least one epoch has multiple events. Only the latency of the first event will be retained.\n",
      "  mne.io.read_epochs_eeglab(row['full_path'])\n",
      "/var/folders/xq/sl7xjp_95qx7wfngy6s6vvg00000gn/T/ipykernel_12950/806794016.py:13: RuntimeWarning: Data file name in EEG.data (s404_CH_PD_reject.fdt) is incorrect, the file name must have changed on disk, using the correct file name (s40004_CH_PD_reject.fdt).\n",
      "  mne.io.read_epochs_eeglab(row['full_path'])\n"
     ]
    },
    {
     "name": "stdout",
     "output_type": "stream",
     "text": [
      "No baseline correction applied\n",
      "0 projection items activated\n",
      "Ready.\n",
      "Reading /Volumes/T7/BrainLat/EEG data/3_PD/CL/sub-40005/eeg/sub-40005_rs_eeg.fdt\n",
      "Reading 0 ... 263167  =      0.000 ...   513.998 secs...\n"
     ]
    },
    {
     "name": "stderr",
     "output_type": "stream",
     "text": [
      "/var/folders/xq/sl7xjp_95qx7wfngy6s6vvg00000gn/T/ipykernel_12950/806794016.py:22: RuntimeWarning: Data file name in EEG.data (s6_sub-10005_rs_eeg.fdt) is incorrect, the file name must have changed on disk, using the correct file name (sub-40005_rs_eeg.fdt).\n",
      "  raw = mne.io.read_raw_eeglab(row['full_path'], preload=True)\n"
     ]
    },
    {
     "name": "stdout",
     "output_type": "stream",
     "text": [
      "Extracting parameters from /Volumes/T7/BrainLat/EEG data/3_PD/CL/sub-40006/eeg/s40006_CH_PD_reject.set...\n"
     ]
    },
    {
     "name": "stderr",
     "output_type": "stream",
     "text": [
      "/var/folders/xq/sl7xjp_95qx7wfngy6s6vvg00000gn/T/ipykernel_12950/806794016.py:13: RuntimeWarning: At least one epoch has multiple events. Only the latency of the first event will be retained.\n",
      "  mne.io.read_epochs_eeglab(row['full_path'])\n",
      "/var/folders/xq/sl7xjp_95qx7wfngy6s6vvg00000gn/T/ipykernel_12950/806794016.py:13: RuntimeWarning: Data file name in EEG.data (s406_CH_PD_reject.fdt) is incorrect, the file name must have changed on disk, using the correct file name (s40006_CH_PD_reject.fdt).\n",
      "  mne.io.read_epochs_eeglab(row['full_path'])\n"
     ]
    },
    {
     "name": "stdout",
     "output_type": "stream",
     "text": [
      "Not setting metadata\n",
      "585 matching events found\n",
      "No baseline correction applied\n",
      "0 projection items activated\n",
      "Ready.\n",
      "Reading /Volumes/T7/BrainLat/EEG data/3_PD/CL/sub-40007/eeg/sub-40007_rs_eeg.fdt\n",
      "Reading 0 ... 414719  =      0.000 ...   809.998 secs...\n"
     ]
    },
    {
     "name": "stderr",
     "output_type": "stream",
     "text": [
      "/var/folders/xq/sl7xjp_95qx7wfngy6s6vvg00000gn/T/ipykernel_12950/806794016.py:22: RuntimeWarning: Data file name in EEG.data (s6_sub-10007_rs_eeg.fdt) is incorrect, the file name must have changed on disk, using the correct file name (sub-40007_rs_eeg.fdt).\n",
      "  raw = mne.io.read_raw_eeglab(row['full_path'], preload=True)\n"
     ]
    },
    {
     "name": "stdout",
     "output_type": "stream",
     "text": [
      "Reading /Volumes/T7/BrainLat/EEG data/3_PD/CL/sub-40008/eeg/sub-40008_rs_eeg.fdt\n",
      "Reading 0 ... 236031  =      0.000 ...   460.998 secs...\n"
     ]
    },
    {
     "name": "stderr",
     "output_type": "stream",
     "text": [
      "/var/folders/xq/sl7xjp_95qx7wfngy6s6vvg00000gn/T/ipykernel_12950/806794016.py:22: RuntimeWarning: Data file name in EEG.data (s6_sub-10008_rs_eeg.fdt) is incorrect, the file name must have changed on disk, using the correct file name (sub-40008_rs_eeg.fdt).\n",
      "  raw = mne.io.read_raw_eeglab(row['full_path'], preload=True)\n"
     ]
    },
    {
     "name": "stdout",
     "output_type": "stream",
     "text": [
      "Extracting parameters from /Volumes/T7/BrainLat/EEG data/3_PD/CL/sub-40009/eeg/s40009_CH_PD_reject.set...\n"
     ]
    },
    {
     "name": "stderr",
     "output_type": "stream",
     "text": [
      "/var/folders/xq/sl7xjp_95qx7wfngy6s6vvg00000gn/T/ipykernel_12950/806794016.py:13: RuntimeWarning: At least one epoch has multiple events. Only the latency of the first event will be retained.\n",
      "  mne.io.read_epochs_eeglab(row['full_path'])\n",
      "/var/folders/xq/sl7xjp_95qx7wfngy6s6vvg00000gn/T/ipykernel_12950/806794016.py:13: RuntimeWarning: Data file name in EEG.data (s409_CH_PD_reject.fdt) is incorrect, the file name must have changed on disk, using the correct file name (s40009_CH_PD_reject.fdt).\n",
      "  mne.io.read_epochs_eeglab(row['full_path'])\n"
     ]
    },
    {
     "name": "stdout",
     "output_type": "stream",
     "text": [
      "Not setting metadata\n",
      "609 matching events found\n",
      "No baseline correction applied\n",
      "0 projection items activated\n",
      "Ready.\n",
      "Reading /Volumes/T7/BrainLat/EEG data/3_PD/CL/sub-40010/eeg/sub-40010_rs_eeg.fdt\n",
      "Reading 0 ... 351231  =      0.000 ...   685.998 secs...\n"
     ]
    },
    {
     "name": "stderr",
     "output_type": "stream",
     "text": [
      "/var/folders/xq/sl7xjp_95qx7wfngy6s6vvg00000gn/T/ipykernel_12950/806794016.py:22: RuntimeWarning: Data file name in EEG.data (s6_sub-100010_rs_eeg.fdt) is incorrect, the file name must have changed on disk, using the correct file name (sub-40010_rs_eeg.fdt).\n",
      "  raw = mne.io.read_raw_eeglab(row['full_path'], preload=True)\n"
     ]
    },
    {
     "name": "stdout",
     "output_type": "stream",
     "text": [
      "Extracting parameters from /Volumes/T7/BrainLat/EEG data/3_PD/CL/sub-40011/eeg/s40011_CH_PD_reject.set...\n",
      "Not setting metadata\n",
      "566 matching events found\n"
     ]
    },
    {
     "name": "stderr",
     "output_type": "stream",
     "text": [
      "/var/folders/xq/sl7xjp_95qx7wfngy6s6vvg00000gn/T/ipykernel_12950/806794016.py:13: RuntimeWarning: At least one epoch has multiple events. Only the latency of the first event will be retained.\n",
      "  mne.io.read_epochs_eeglab(row['full_path'])\n",
      "/var/folders/xq/sl7xjp_95qx7wfngy6s6vvg00000gn/T/ipykernel_12950/806794016.py:13: RuntimeWarning: Data file name in EEG.data (s411_CH_PD_reject.fdt) is incorrect, the file name must have changed on disk, using the correct file name (s40011_CH_PD_reject.fdt).\n",
      "  mne.io.read_epochs_eeglab(row['full_path'])\n"
     ]
    },
    {
     "name": "stdout",
     "output_type": "stream",
     "text": [
      "No baseline correction applied\n",
      "0 projection items activated\n",
      "Ready.\n",
      "Reading /Volumes/T7/BrainLat/EEG data/3_PD/CL/sub-40012/eeg/sub-40012_rs_eeg.fdt\n",
      "Reading 0 ... 460799  =      0.000 ...   899.998 secs...\n"
     ]
    },
    {
     "name": "stderr",
     "output_type": "stream",
     "text": [
      "/var/folders/xq/sl7xjp_95qx7wfngy6s6vvg00000gn/T/ipykernel_12950/806794016.py:22: RuntimeWarning: Data file name in EEG.data (s6_sub-100012_rs_eeg.fdt) is incorrect, the file name must have changed on disk, using the correct file name (sub-40012_rs_eeg.fdt).\n",
      "  raw = mne.io.read_raw_eeglab(row['full_path'], preload=True)\n"
     ]
    },
    {
     "name": "stdout",
     "output_type": "stream",
     "text": [
      "Extracting parameters from /Volumes/T7/BrainLat/EEG data/3_PD/CL/sub-40015/eeg/s40015_CH_PD_reject.set...\n"
     ]
    },
    {
     "name": "stderr",
     "output_type": "stream",
     "text": [
      "/var/folders/xq/sl7xjp_95qx7wfngy6s6vvg00000gn/T/ipykernel_12950/806794016.py:13: RuntimeWarning: At least one epoch has multiple events. Only the latency of the first event will be retained.\n",
      "  mne.io.read_epochs_eeglab(row['full_path'])\n",
      "/var/folders/xq/sl7xjp_95qx7wfngy6s6vvg00000gn/T/ipykernel_12950/806794016.py:13: RuntimeWarning: Data file name in EEG.data (s415_CH_PD_reject.fdt) is incorrect, the file name must have changed on disk, using the correct file name (s40015_CH_PD_reject.fdt).\n",
      "  mne.io.read_epochs_eeglab(row['full_path'])\n"
     ]
    },
    {
     "name": "stdout",
     "output_type": "stream",
     "text": [
      "Not setting metadata\n",
      "589 matching events found\n",
      "No baseline correction applied\n",
      "0 projection items activated\n",
      "Ready.\n",
      "Reading /Volumes/T7/BrainLat/EEG data/3_PD/CL/sub-40016/eeg/sub-40016_rs_eeg.fdt\n",
      "Reading 0 ... 374783  =      0.000 ...   731.998 secs...\n"
     ]
    },
    {
     "name": "stderr",
     "output_type": "stream",
     "text": [
      "/var/folders/xq/sl7xjp_95qx7wfngy6s6vvg00000gn/T/ipykernel_12950/806794016.py:22: RuntimeWarning: Data file name in EEG.data (s6_sub-100016_rs_eeg.fdt) is incorrect, the file name must have changed on disk, using the correct file name (sub-40016_rs_eeg.fdt).\n",
      "  raw = mne.io.read_raw_eeglab(row['full_path'], preload=True)\n"
     ]
    },
    {
     "name": "stdout",
     "output_type": "stream",
     "text": [
      "Reading /Volumes/T7/BrainLat/EEG data/3_PD/CL/sub-40017/eeg/sub-40017_rs_eeg.fdt\n",
      "Reading 0 ... 247807  =      0.000 ...   483.998 secs...\n"
     ]
    },
    {
     "name": "stderr",
     "output_type": "stream",
     "text": [
      "/var/folders/xq/sl7xjp_95qx7wfngy6s6vvg00000gn/T/ipykernel_12950/806794016.py:22: RuntimeWarning: Data file name in EEG.data (s6_sub-100017_rs_eeg.fdt) is incorrect, the file name must have changed on disk, using the correct file name (sub-40017_rs_eeg.fdt).\n",
      "  raw = mne.io.read_raw_eeglab(row['full_path'], preload=True)\n"
     ]
    },
    {
     "name": "stdout",
     "output_type": "stream",
     "text": [
      "Reading /Volumes/T7/BrainLat/EEG data/3_PD/CL/sub-40018/eeg/sub-40018_rs_eeg.fdt\n",
      "Reading 0 ... 425983  =      0.000 ...   831.998 secs...\n"
     ]
    },
    {
     "name": "stderr",
     "output_type": "stream",
     "text": [
      "/var/folders/xq/sl7xjp_95qx7wfngy6s6vvg00000gn/T/ipykernel_12950/806794016.py:22: RuntimeWarning: Data file name in EEG.data (s6_sub-100018_rs_eeg.fdt) is incorrect, the file name must have changed on disk, using the correct file name (sub-40018_rs_eeg.fdt).\n",
      "  raw = mne.io.read_raw_eeglab(row['full_path'], preload=True)\n"
     ]
    },
    {
     "name": "stdout",
     "output_type": "stream",
     "text": [
      "Reading /Volumes/T7/BrainLat/EEG data/3_PD/CL/sub-40019/eeg/sub-40019_rs_eeg.fdt\n",
      "Reading 0 ... 394751  =      0.000 ...   770.998 secs...\n"
     ]
    },
    {
     "name": "stderr",
     "output_type": "stream",
     "text": [
      "/var/folders/xq/sl7xjp_95qx7wfngy6s6vvg00000gn/T/ipykernel_12950/806794016.py:22: RuntimeWarning: Data file name in EEG.data (s6_sub-100019_rs_eeg.fdt) is incorrect, the file name must have changed on disk, using the correct file name (sub-40019_rs_eeg.fdt).\n",
      "  raw = mne.io.read_raw_eeglab(row['full_path'], preload=True)\n"
     ]
    },
    {
     "name": "stdout",
     "output_type": "stream",
     "text": [
      "Reading /Volumes/T7/BrainLat/EEG data/3_PD/CL/sub-40020/eeg/sub-40020_rs_eeg.fdt\n",
      "Reading 0 ... 247807  =      0.000 ...   483.998 secs...\n"
     ]
    },
    {
     "name": "stderr",
     "output_type": "stream",
     "text": [
      "/var/folders/xq/sl7xjp_95qx7wfngy6s6vvg00000gn/T/ipykernel_12950/806794016.py:22: RuntimeWarning: Data file name in EEG.data (s6_sub-100020_rs_eeg.fdt) is incorrect, the file name must have changed on disk, using the correct file name (sub-40020_rs_eeg.fdt).\n",
      "  raw = mne.io.read_raw_eeglab(row['full_path'], preload=True)\n"
     ]
    },
    {
     "name": "stdout",
     "output_type": "stream",
     "text": [
      "Reading /Volumes/T7/BrainLat/EEG data/3_PD/CL/sub-40021/eeg/sub-40021_rs_eeg.fdt\n",
      "Reading 0 ... 553983  =      0.000 ...  1081.998 secs...\n"
     ]
    },
    {
     "name": "stderr",
     "output_type": "stream",
     "text": [
      "/var/folders/xq/sl7xjp_95qx7wfngy6s6vvg00000gn/T/ipykernel_12950/806794016.py:22: RuntimeWarning: Data file name in EEG.data (s6_sub-100021_rs_eeg.fdt) is incorrect, the file name must have changed on disk, using the correct file name (sub-40021_rs_eeg.fdt).\n",
      "  raw = mne.io.read_raw_eeglab(row['full_path'], preload=True)\n"
     ]
    },
    {
     "name": "stdout",
     "output_type": "stream",
     "text": [
      "Reading /Volumes/T7/BrainLat/EEG data/3_PD/CL/sub-40022/eeg/sub-40022_rs_eeg.fdt\n",
      "Reading 0 ... 333311  =      0.000 ...   650.998 secs...\n"
     ]
    },
    {
     "name": "stderr",
     "output_type": "stream",
     "text": [
      "/var/folders/xq/sl7xjp_95qx7wfngy6s6vvg00000gn/T/ipykernel_12950/806794016.py:22: RuntimeWarning: Data file name in EEG.data (s6_sub-100022_rs_eeg.fdt) is incorrect, the file name must have changed on disk, using the correct file name (sub-40022_rs_eeg.fdt).\n",
      "  raw = mne.io.read_raw_eeglab(row['full_path'], preload=True)\n"
     ]
    },
    {
     "name": "stdout",
     "output_type": "stream",
     "text": [
      "Reading /Volumes/T7/BrainLat/EEG data/3_PD/CL/sub-40023/eeg/sub-40023_rs_eeg.fdt\n",
      "Reading 0 ... 231423  =      0.000 ...   451.998 secs...\n"
     ]
    },
    {
     "name": "stderr",
     "output_type": "stream",
     "text": [
      "/var/folders/xq/sl7xjp_95qx7wfngy6s6vvg00000gn/T/ipykernel_12950/806794016.py:22: RuntimeWarning: Data file name in EEG.data (s6_sub-100023_rs_eeg.fdt) is incorrect, the file name must have changed on disk, using the correct file name (sub-40023_rs_eeg.fdt).\n",
      "  raw = mne.io.read_raw_eeglab(row['full_path'], preload=True)\n"
     ]
    },
    {
     "name": "stdout",
     "output_type": "stream",
     "text": [
      "Reading /Volumes/T7/BrainLat/EEG data/3_PD/CL/sub-40024/eeg/sub-40024_rs_eeg.fdt\n",
      "Reading 0 ... 449023  =      0.000 ...   876.998 secs...\n"
     ]
    },
    {
     "name": "stderr",
     "output_type": "stream",
     "text": [
      "/var/folders/xq/sl7xjp_95qx7wfngy6s6vvg00000gn/T/ipykernel_12950/806794016.py:22: RuntimeWarning: Data file name in EEG.data (s6_sub-100024_rs_eeg.fdt) is incorrect, the file name must have changed on disk, using the correct file name (sub-40024_rs_eeg.fdt).\n",
      "  raw = mne.io.read_raw_eeglab(row['full_path'], preload=True)\n"
     ]
    },
    {
     "name": "stdout",
     "output_type": "stream",
     "text": [
      "Reading /Volumes/T7/BrainLat/EEG data/3_PD/CL/sub-40025/eeg/sub-40025_rs_eeg.fdt\n",
      "Reading 0 ... 332799  =      0.000 ...   649.998 secs...\n"
     ]
    },
    {
     "name": "stderr",
     "output_type": "stream",
     "text": [
      "/var/folders/xq/sl7xjp_95qx7wfngy6s6vvg00000gn/T/ipykernel_12950/806794016.py:22: RuntimeWarning: Data file name in EEG.data (s6_sub-100025_rs_eeg.fdt) is incorrect, the file name must have changed on disk, using the correct file name (sub-40025_rs_eeg.fdt).\n",
      "  raw = mne.io.read_raw_eeglab(row['full_path'], preload=True)\n"
     ]
    },
    {
     "name": "stdout",
     "output_type": "stream",
     "text": [
      "Reading /Volumes/T7/BrainLat/EEG data/3_PD/CL/sub-40026/eeg/sub-40026_rs_eeg.fdt\n",
      "Reading 0 ... 233471  =      0.000 ...   455.998 secs...\n"
     ]
    },
    {
     "name": "stderr",
     "output_type": "stream",
     "text": [
      "/var/folders/xq/sl7xjp_95qx7wfngy6s6vvg00000gn/T/ipykernel_12950/806794016.py:22: RuntimeWarning: Data file name in EEG.data (s6_sub-100026_rs_eeg.fdt) is incorrect, the file name must have changed on disk, using the correct file name (sub-40026_rs_eeg.fdt).\n",
      "  raw = mne.io.read_raw_eeglab(row['full_path'], preload=True)\n"
     ]
    },
    {
     "name": "stdout",
     "output_type": "stream",
     "text": [
      "Reading /Volumes/T7/BrainLat/EEG data/5_HC/AR/sub-100012/eeg/s6_sub-100012_rs_eeg.fdt\n",
      "Reading 0 ... 176941  =      0.000 ...   345.588 secs...\n",
      "Reading /Volumes/T7/BrainLat/EEG data/5_HC/AR/sub-100015/eeg/s6_sub-100015_rs_eeg.fdt\n",
      "Reading 0 ... 209992  =      0.000 ...   410.141 secs...\n",
      "Reading /Volumes/T7/BrainLat/EEG data/5_HC/AR/sub-100018/eeg/s6_sub-100018_rs_eeg.fdt\n",
      "Reading 0 ... 185470  =      0.000 ...   362.246 secs...\n",
      "Reading /Volumes/T7/BrainLat/EEG data/5_HC/AR/sub-10002/eeg/s6_sub-10002_rs_eeg.fdt\n",
      "Reading 0 ... 186584  =      0.000 ...   364.422 secs...\n",
      "Reading /Volumes/T7/BrainLat/EEG data/5_HC/AR/sub-100020/eeg/s6_sub-100020_rs_eeg.fdt\n",
      "Reading 0 ... 168239  =      0.000 ...   328.592 secs...\n",
      "Reading /Volumes/T7/BrainLat/EEG data/5_HC/AR/sub-100022/eeg/s6_sub-100022_rs_eeg.fdt\n",
      "Reading 0 ... 228144  =      0.000 ...   445.594 secs...\n",
      "Reading /Volumes/T7/BrainLat/EEG data/5_HC/AR/sub-100024/eeg/s6_sub-100024_rs_eeg.fdt\n",
      "Reading 0 ... 253980  =      0.000 ...   496.055 secs...\n",
      "Reading /Volumes/T7/BrainLat/EEG data/5_HC/AR/sub-100026/eeg/s6_sub-100026_rs_eeg.fdt\n",
      "Reading 0 ... 210344  =      0.000 ...   410.828 secs...\n",
      "Reading /Volumes/T7/BrainLat/EEG data/5_HC/AR/sub-100028/eeg/s6_sub-100028_rs_eeg.fdt\n",
      "Reading 0 ... 147641  =      0.000 ...   288.361 secs...\n",
      "Reading /Volumes/T7/BrainLat/EEG data/5_HC/AR/sub-10003/eeg/s6_sub-10003_rs_eeg.fdt\n",
      "Reading 0 ... 297293  =      0.000 ...   580.650 secs...\n",
      "Reading /Volumes/T7/BrainLat/EEG data/5_HC/AR/sub-100030/eeg/s6_sub-100030_rs_eeg.fdt\n",
      "Reading 0 ... 187289  =      0.000 ...   365.799 secs...\n",
      "Reading /Volumes/T7/BrainLat/EEG data/5_HC/AR/sub-100031/eeg/s6_sub-100031_rs_eeg.fdt\n",
      "Reading 0 ... 183375  =      0.000 ...   358.154 secs...\n",
      "Reading /Volumes/T7/BrainLat/EEG data/5_HC/AR/sub-100033/eeg/s6_sub-100033_rs_eeg.fdt\n",
      "Reading 0 ... 183671  =      0.000 ...   358.732 secs...\n",
      "Reading /Volumes/T7/BrainLat/EEG data/5_HC/AR/sub-100035/eeg/s6_sub-100035_rs_eeg.fdt\n",
      "Reading 0 ... 137259  =      0.000 ...   268.084 secs...\n",
      "Reading /Volumes/T7/BrainLat/EEG data/5_HC/AR/sub-100038/eeg/s6_sub-100038_rs_eeg.fdt\n",
      "Reading 0 ... 177141  =      0.000 ...   345.979 secs...\n",
      "Reading /Volumes/T7/BrainLat/EEG data/5_HC/AR/sub-10004/eeg/s6_sub-10004_rs_eeg.fdt\n",
      "Reading 0 ... 208426  =      0.000 ...   407.082 secs...\n",
      "Reading /Volumes/T7/BrainLat/EEG data/5_HC/AR/sub-10006/eeg/s6_sub-10006_rs_eeg.fdt\n",
      "Reading 0 ... 223889  =      0.000 ...   437.283 secs...\n",
      "Reading /Volumes/T7/BrainLat/EEG data/5_HC/AR/sub-10007/eeg/s6_sub-10007_rs_eeg.fdt\n",
      "Reading 0 ... 183014  =      0.000 ...   357.449 secs...\n",
      "Reading /Volumes/T7/BrainLat/EEG data/5_HC/AR/sub-10009/eeg/s6_sub-10009_rs_eeg.fdt\n",
      "Reading 0 ... 193067  =      0.000 ...   377.084 secs...\n",
      "Reading /Volumes/T7/BrainLat/EEG data/5_HC/CL/sub-10001/eeg/s6_sub-10001_rs_eeg.fdt\n",
      "Reading 0 ... 290720  =      0.000 ...   567.812 secs...\n",
      "Reading /Volumes/T7/BrainLat/EEG data/5_HC/CL/sub-100010/eeg/s6_sub-100010_rs_eeg.fdt\n",
      "Reading 0 ... 308527  =      0.000 ...   602.592 secs...\n",
      "Reading /Volumes/T7/BrainLat/EEG data/5_HC/CL/sub-100011/eeg/s6_sub-100011_rs_eeg.fdt\n",
      "Reading 0 ... 309348  =      0.000 ...   604.195 secs...\n",
      "Reading /Volumes/T7/BrainLat/EEG data/5_HC/CL/sub-100013/eeg/s6_sub-100013_rs_eeg.fdt\n",
      "Error reading /Volumes/T7/BrainLat/EEG data/5_HC/CL/sub-100013/eeg/s6_sub-100013_rs_eeg.set: File /Volumes/T7/BrainLat/EEG data/5_HC/CL/sub-100013/eeg/s6_sub-100013_rs_eeg.fdt not found.\n",
      "Reading /Volumes/T7/BrainLat/EEG data/5_HC/CL/sub-100014/eeg/s6_sub-100014_rs_eeg.fdt\n",
      "Reading 0 ... 270013  =      0.000 ...   527.369 secs...\n",
      "Reading /Volumes/T7/BrainLat/EEG data/5_HC/CL/sub-100016/eeg/s6_sub-100016_rs_eeg.fdt\n",
      "Reading 0 ... 282744  =      0.000 ...   552.234 secs...\n",
      "Reading /Volumes/T7/BrainLat/EEG data/5_HC/CL/sub-100017/eeg/s6_sub-100017_rs_eeg.fdt\n",
      "Reading 0 ... 303006  =      0.000 ...   591.809 secs...\n",
      "Reading /Volumes/T7/BrainLat/EEG data/5_HC/CL/sub-100019/eeg/s6_sub-100019_rs_eeg.fdt\n",
      "Error reading /Volumes/T7/BrainLat/EEG data/5_HC/CL/sub-100019/eeg/s6_sub-100019_rs_eeg.set: File /Volumes/T7/BrainLat/EEG data/5_HC/CL/sub-100019/eeg/s6_sub-100019_rs_eeg.fdt not found.\n",
      "Reading /Volumes/T7/BrainLat/EEG data/5_HC/CL/sub-100021/eeg/s6_sub-100021_rs_eeg.fdt\n",
      "Reading 0 ... 292126  =      0.000 ...   570.559 secs...\n",
      "Reading /Volumes/T7/BrainLat/EEG data/5_HC/CL/sub-100023/eeg/s6_sub-100023_rs_eeg.fdt\n",
      "Error reading /Volumes/T7/BrainLat/EEG data/5_HC/CL/sub-100023/eeg/s6_sub-100023_rs_eeg.set: File /Volumes/T7/BrainLat/EEG data/5_HC/CL/sub-100023/eeg/s6_sub-100023_rs_eeg.fdt not found.\n",
      "Reading /Volumes/T7/BrainLat/EEG data/5_HC/CL/sub-100025/eeg/s6_sub-100025_rs_eeg.fdt\n",
      "Error reading /Volumes/T7/BrainLat/EEG data/5_HC/CL/sub-100025/eeg/s6_sub-100025_rs_eeg.set: File /Volumes/T7/BrainLat/EEG data/5_HC/CL/sub-100025/eeg/s6_sub-100025_rs_eeg.fdt not found.\n",
      "Reading /Volumes/T7/BrainLat/EEG data/5_HC/CL/sub-100027/eeg/s6_sub-100027_rs_eeg.fdt\n",
      "Error reading /Volumes/T7/BrainLat/EEG data/5_HC/CL/sub-100027/eeg/s6_sub-100027_rs_eeg.set: File /Volumes/T7/BrainLat/EEG data/5_HC/CL/sub-100027/eeg/s6_sub-100027_rs_eeg.fdt not found.\n",
      "Reading /Volumes/T7/BrainLat/EEG data/5_HC/CL/sub-100029/eeg/s6_sub-100029_rs_eeg.fdt\n",
      "Reading 0 ... 339608  =      0.000 ...   663.297 secs...\n",
      "Reading /Volumes/T7/BrainLat/EEG data/5_HC/CL/sub-100032/eeg/s6_sub-100032_rs_eeg.fdt\n",
      "Error reading /Volumes/T7/BrainLat/EEG data/5_HC/CL/sub-100032/eeg/s6_sub-100032_rs_eeg.set: File /Volumes/T7/BrainLat/EEG data/5_HC/CL/sub-100032/eeg/s6_sub-100032_rs_eeg.fdt not found.\n",
      "Reading /Volumes/T7/BrainLat/EEG data/5_HC/CL/sub-100034/eeg/s6_sub-100034_rs_eeg.fdt\n",
      "Reading 0 ... 302179  =      0.000 ...   590.193 secs...\n",
      "Reading /Volumes/T7/BrainLat/EEG data/5_HC/CL/sub-100036/eeg/s6_sub-100036_rs_eeg.fdt\n",
      "Error reading /Volumes/T7/BrainLat/EEG data/5_HC/CL/sub-100036/eeg/s6_sub-100036_rs_eeg.set: File /Volumes/T7/BrainLat/EEG data/5_HC/CL/sub-100036/eeg/s6_sub-100036_rs_eeg.fdt not found.\n",
      "Reading /Volumes/T7/BrainLat/EEG data/5_HC/CL/sub-100037/eeg/s6_sub-100037_rs_eeg.fdt\n",
      "Reading 0 ... 278609  =      0.000 ...   544.158 secs...\n",
      "Reading /Volumes/T7/BrainLat/EEG data/5_HC/CL/sub-100039/eeg/s6_sub-100039_rs_eeg.fdt\n",
      "Error reading /Volumes/T7/BrainLat/EEG data/5_HC/CL/sub-100039/eeg/s6_sub-100039_rs_eeg.set: File /Volumes/T7/BrainLat/EEG data/5_HC/CL/sub-100039/eeg/s6_sub-100039_rs_eeg.fdt not found.\n",
      "Reading /Volumes/T7/BrainLat/EEG data/5_HC/CL/sub-100040/eeg/s6_sub-100040_rs_eeg.fdt\n",
      "Error reading /Volumes/T7/BrainLat/EEG data/5_HC/CL/sub-100040/eeg/s6_sub-100040_rs_eeg.set: File /Volumes/T7/BrainLat/EEG data/5_HC/CL/sub-100040/eeg/s6_sub-100040_rs_eeg.fdt not found.\n",
      "Reading /Volumes/T7/BrainLat/EEG data/5_HC/CL/sub-100041/eeg/s6_sub-100041_rs_eeg.fdt\n",
      "Error reading /Volumes/T7/BrainLat/EEG data/5_HC/CL/sub-100041/eeg/s6_sub-100041_rs_eeg.set: File /Volumes/T7/BrainLat/EEG data/5_HC/CL/sub-100041/eeg/s6_sub-100041_rs_eeg.fdt not found.\n",
      "Reading /Volumes/T7/BrainLat/EEG data/5_HC/CL/sub-100042/eeg/s6_sub-100042_rs_eeg.fdt\n",
      "Error reading /Volumes/T7/BrainLat/EEG data/5_HC/CL/sub-100042/eeg/s6_sub-100042_rs_eeg.set: File /Volumes/T7/BrainLat/EEG data/5_HC/CL/sub-100042/eeg/s6_sub-100042_rs_eeg.fdt not found.\n",
      "Reading /Volumes/T7/BrainLat/EEG data/5_HC/CL/sub-100043/eeg/s6_sub-100043_rs_eeg.fdt\n",
      "Reading 0 ... 302898  =      0.000 ...   591.598 secs...\n",
      "Reading /Volumes/T7/BrainLat/EEG data/5_HC/CL/sub-100044/eeg/s6_sub-100044_rs_eeg.fdt\n",
      "Error reading /Volumes/T7/BrainLat/EEG data/5_HC/CL/sub-100044/eeg/s6_sub-100044_rs_eeg.set: File /Volumes/T7/BrainLat/EEG data/5_HC/CL/sub-100044/eeg/s6_sub-100044_rs_eeg.fdt not found.\n",
      "Reading /Volumes/T7/BrainLat/EEG data/5_HC/CL/sub-100045/eeg/s6_sub-100045_rs_eeg.fdt\n",
      "Error reading /Volumes/T7/BrainLat/EEG data/5_HC/CL/sub-100045/eeg/s6_sub-100045_rs_eeg.set: File /Volumes/T7/BrainLat/EEG data/5_HC/CL/sub-100045/eeg/s6_sub-100045_rs_eeg.fdt not found.\n",
      "Reading /Volumes/T7/BrainLat/EEG data/5_HC/CL/sub-100046/eeg/s6_sub-100046_rs_eeg.fdt\n",
      "Error reading /Volumes/T7/BrainLat/EEG data/5_HC/CL/sub-100046/eeg/s6_sub-100046_rs_eeg.set: File /Volumes/T7/BrainLat/EEG data/5_HC/CL/sub-100046/eeg/s6_sub-100046_rs_eeg.fdt not found.\n",
      "Reading /Volumes/T7/BrainLat/EEG data/5_HC/CL/sub-10005/eeg/s6_sub-10005_rs_eeg.fdt\n",
      "Reading 0 ... 297654  =      0.000 ...   581.355 secs...\n",
      "Reading /Volumes/T7/BrainLat/EEG data/5_HC/CL/sub-10008/eeg/s6_sub-10008_rs_eeg.fdt\n",
      "Reading 0 ... 306326  =      0.000 ...   598.293 secs...\n",
      "115\n"
     ]
    }
   ],
   "source": [
    "counter = 0\n",
    "error_folders = []  # List to store folder_2 values that cause errors\n",
    "known_errors = ['3_PD_CL_sub-40005', '3_PD_CL_sub-40007', '3_PD_CL_sub-40008', '3_PD_CL_sub-40010', '3_PD_CL_sub-40012', '3_PD_CL_sub-40016', '3_PD_CL_sub-40017', '3_PD_CL_sub-40018' , '3_PD_CL_sub-40019', '3_PD_CL_sub-40020', '3_PD_CL_sub-40021', '3_PD_CL_sub-40022', '3_PD_CL_sub-40023', '3_PD_CL_sub-40024', '3_PD_CL_sub-40025', '3_PD_CL_sub-40026', ]  # List of known errors to ignore\n",
    "missing_data = []\n",
    "\n",
    "filtered_df_subset  = filtered_df[['folder_0','full_path', 'folder_1', 'folder_2', 'extension']].query('extension == \".set\"')\n",
    "filtered_df_subset['file_loadable'] = False  # Initialize all values to False\n",
    "filtered_df_subset['id'] = filtered_df_subset['folder_0'] + '_' + filtered_df_subset['folder_1'] + '_' + filtered_df_subset['folder_2']\n",
    "\n",
    "for index, row in filtered_df_subset.iterrows():\n",
    "    if row['folder_0'] == \"3_PD\" and row['id'] not in known_errors:\n",
    "            try:\n",
    "                mne.io.read_epochs_eeglab(row['full_path'])\n",
    "                filtered_df_subset.loc[index, 'file_loadable'] = True\n",
    "                counter += 1  # Increase the counter by 1\n",
    "            except Exception as e:\n",
    "                print(f\"Error reading {row['full_path']}: {e}\")\n",
    "                error_folders.append(row['id'])\n",
    "            \n",
    "    else:\n",
    "        try:\n",
    "            raw = mne.io.read_raw_eeglab(row['full_path'], preload=True)\n",
    "            filtered_df_subset.loc[index, 'file_loadable'] = True\n",
    "            counter += 1  # Increase the counter by 1\n",
    "        except Exception as e:\n",
    "                print(f\"Error reading {row['full_path']}: {e}\")\n",
    "                missing_data.append(row['id'])\n",
    "\n",
    "\n",
    "\n",
    "print(counter)  \n"
   ]
  },
  {
   "cell_type": "code",
   "execution_count": 5,
   "metadata": {},
   "outputs": [
    {
     "name": "stdout",
     "output_type": "stream",
     "text": [
      "['5_HC_CL_sub-100013', '5_HC_CL_sub-100019', '5_HC_CL_sub-100023', '5_HC_CL_sub-100025', '5_HC_CL_sub-100027', '5_HC_CL_sub-100032', '5_HC_CL_sub-100036', '5_HC_CL_sub-100039', '5_HC_CL_sub-100040', '5_HC_CL_sub-100041', '5_HC_CL_sub-100042', '5_HC_CL_sub-100044', '5_HC_CL_sub-100045', '5_HC_CL_sub-100046']\n",
      "115\n",
      "[]\n",
      "['3_PD_CL_sub-40005', '3_PD_CL_sub-40007', '3_PD_CL_sub-40008', '3_PD_CL_sub-40010', '3_PD_CL_sub-40012', '3_PD_CL_sub-40016', '3_PD_CL_sub-40017', '3_PD_CL_sub-40018', '3_PD_CL_sub-40019', '3_PD_CL_sub-40020', '3_PD_CL_sub-40021', '3_PD_CL_sub-40022', '3_PD_CL_sub-40023', '3_PD_CL_sub-40024', '3_PD_CL_sub-40025', '3_PD_CL_sub-40026']\n"
     ]
    }
   ],
   "source": [
    "print(missing_data)\n",
    "print(counter)  # Prints: \n",
    "print(error_folders )\n",
    "print(known_errors)  # Prints: 1\n",
    "filtered_df_subset.to_csv('available_eeg.csv', index=False)\n"
   ]
  },
  {
   "cell_type": "code",
   "execution_count": 6,
   "metadata": {},
   "outputs": [
    {
     "name": "stdout",
     "output_type": "stream",
     "text": [
      "| folder_0   | folder_1   |   total_files |   loadable_files |   loadable_percentage |\n",
      "|:-----------|:-----------|--------------:|-----------------:|----------------------:|\n",
      "| 1_AD       | AR         |            16 |               16 |                100    |\n",
      "| 1_AD       | CL         |            19 |               19 |                100    |\n",
      "| 2_bvFTD    | AR         |            13 |               13 |                100    |\n",
      "| 2_bvFTD    | CL         |             6 |                6 |                100    |\n",
      "| 3_PD       | AR         |             7 |                7 |                100    |\n",
      "| 3_PD       | CL         |            22 |               22 |                100    |\n",
      "| 5_HC       | AR         |            19 |               19 |                100    |\n",
      "| 5_HC       | CL         |            27 |               13 |                 48.15 |\n"
     ]
    }
   ],
   "source": [
    "# Group by folder_0 and folder_1 and count loadable files\n",
    "loadable_summary = filtered_df_subset.groupby(['folder_0', 'folder_1']).agg({\n",
    "    'file_loadable': ['count', 'sum', lambda x: round(x.mean() * 100, 2)]\n",
    "}).reset_index()\n",
    "\n",
    "# Rename the columns for clarity\n",
    "loadable_summary.columns = ['folder_0', 'folder_1', 'total_files', 'loadable_files', 'loadable_percentage']\n",
    "\n",
    "# Sort by folder_0 and folder_1\n",
    "loadable_summary = loadable_summary.sort_values(['folder_0', 'folder_1'])\n",
    "\n",
    "markdown_table = loadable_summary.to_markdown(index=False)\n",
    "\n",
    "# Print the markdown table\n",
    "print(markdown_table)\n"
   ]
  },
  {
   "cell_type": "markdown",
   "metadata": {},
   "source": [
    "# Load problematic files\n"
   ]
  },
  {
   "cell_type": "code",
   "execution_count": 18,
   "metadata": {},
   "outputs": [
    {
     "name": "stdout",
     "output_type": "stream",
     "text": [
      "Reading /Volumes/T7/BrainLat/EEG data/5_HC/CL/sub-100013/eeg/s6_sub-100013_rs_eeg.fdt\n",
      "Error reading /Volumes/T7/BrainLat/EEG data/5_HC/CL/sub-100013/eeg/s6_sub-100013_rs_eeg.set: File /Volumes/T7/BrainLat/EEG data/5_HC/CL/sub-100013/eeg/s6_sub-100013_rs_eeg.fdt not found.\n",
      "Reading /Volumes/T7/BrainLat/EEG data/5_HC/CL/sub-100019/eeg/s6_sub-100019_rs_eeg.fdt\n",
      "Error reading /Volumes/T7/BrainLat/EEG data/5_HC/CL/sub-100019/eeg/s6_sub-100019_rs_eeg.set: File /Volumes/T7/BrainLat/EEG data/5_HC/CL/sub-100019/eeg/s6_sub-100019_rs_eeg.fdt not found.\n",
      "Reading /Volumes/T7/BrainLat/EEG data/5_HC/CL/sub-100023/eeg/s6_sub-100023_rs_eeg.fdt\n",
      "Error reading /Volumes/T7/BrainLat/EEG data/5_HC/CL/sub-100023/eeg/s6_sub-100023_rs_eeg.set: File /Volumes/T7/BrainLat/EEG data/5_HC/CL/sub-100023/eeg/s6_sub-100023_rs_eeg.fdt not found.\n",
      "Reading /Volumes/T7/BrainLat/EEG data/5_HC/CL/sub-100025/eeg/s6_sub-100025_rs_eeg.fdt\n",
      "Error reading /Volumes/T7/BrainLat/EEG data/5_HC/CL/sub-100025/eeg/s6_sub-100025_rs_eeg.set: File /Volumes/T7/BrainLat/EEG data/5_HC/CL/sub-100025/eeg/s6_sub-100025_rs_eeg.fdt not found.\n",
      "Reading /Volumes/T7/BrainLat/EEG data/5_HC/CL/sub-100027/eeg/s6_sub-100027_rs_eeg.fdt\n",
      "Error reading /Volumes/T7/BrainLat/EEG data/5_HC/CL/sub-100027/eeg/s6_sub-100027_rs_eeg.set: File /Volumes/T7/BrainLat/EEG data/5_HC/CL/sub-100027/eeg/s6_sub-100027_rs_eeg.fdt not found.\n",
      "Reading /Volumes/T7/BrainLat/EEG data/5_HC/CL/sub-100032/eeg/s6_sub-100032_rs_eeg.fdt\n",
      "Error reading /Volumes/T7/BrainLat/EEG data/5_HC/CL/sub-100032/eeg/s6_sub-100032_rs_eeg.set: File /Volumes/T7/BrainLat/EEG data/5_HC/CL/sub-100032/eeg/s6_sub-100032_rs_eeg.fdt not found.\n",
      "Reading /Volumes/T7/BrainLat/EEG data/5_HC/CL/sub-100036/eeg/s6_sub-100036_rs_eeg.fdt\n",
      "Error reading /Volumes/T7/BrainLat/EEG data/5_HC/CL/sub-100036/eeg/s6_sub-100036_rs_eeg.set: File /Volumes/T7/BrainLat/EEG data/5_HC/CL/sub-100036/eeg/s6_sub-100036_rs_eeg.fdt not found.\n",
      "Reading /Volumes/T7/BrainLat/EEG data/5_HC/CL/sub-100039/eeg/s6_sub-100039_rs_eeg.fdt\n",
      "Error reading /Volumes/T7/BrainLat/EEG data/5_HC/CL/sub-100039/eeg/s6_sub-100039_rs_eeg.set: File /Volumes/T7/BrainLat/EEG data/5_HC/CL/sub-100039/eeg/s6_sub-100039_rs_eeg.fdt not found.\n",
      "Reading /Volumes/T7/BrainLat/EEG data/5_HC/CL/sub-100040/eeg/s6_sub-100040_rs_eeg.fdt\n",
      "Error reading /Volumes/T7/BrainLat/EEG data/5_HC/CL/sub-100040/eeg/s6_sub-100040_rs_eeg.set: File /Volumes/T7/BrainLat/EEG data/5_HC/CL/sub-100040/eeg/s6_sub-100040_rs_eeg.fdt not found.\n",
      "Reading /Volumes/T7/BrainLat/EEG data/5_HC/CL/sub-100041/eeg/s6_sub-100041_rs_eeg.fdt\n",
      "Error reading /Volumes/T7/BrainLat/EEG data/5_HC/CL/sub-100041/eeg/s6_sub-100041_rs_eeg.set: File /Volumes/T7/BrainLat/EEG data/5_HC/CL/sub-100041/eeg/s6_sub-100041_rs_eeg.fdt not found.\n",
      "Reading /Volumes/T7/BrainLat/EEG data/5_HC/CL/sub-100042/eeg/s6_sub-100042_rs_eeg.fdt\n",
      "Error reading /Volumes/T7/BrainLat/EEG data/5_HC/CL/sub-100042/eeg/s6_sub-100042_rs_eeg.set: File /Volumes/T7/BrainLat/EEG data/5_HC/CL/sub-100042/eeg/s6_sub-100042_rs_eeg.fdt not found.\n",
      "Reading /Volumes/T7/BrainLat/EEG data/5_HC/CL/sub-100044/eeg/s6_sub-100044_rs_eeg.fdt\n",
      "Error reading /Volumes/T7/BrainLat/EEG data/5_HC/CL/sub-100044/eeg/s6_sub-100044_rs_eeg.set: File /Volumes/T7/BrainLat/EEG data/5_HC/CL/sub-100044/eeg/s6_sub-100044_rs_eeg.fdt not found.\n",
      "Reading /Volumes/T7/BrainLat/EEG data/5_HC/CL/sub-100045/eeg/s6_sub-100045_rs_eeg.fdt\n",
      "Error reading /Volumes/T7/BrainLat/EEG data/5_HC/CL/sub-100045/eeg/s6_sub-100045_rs_eeg.set: File /Volumes/T7/BrainLat/EEG data/5_HC/CL/sub-100045/eeg/s6_sub-100045_rs_eeg.fdt not found.\n",
      "Reading /Volumes/T7/BrainLat/EEG data/5_HC/CL/sub-100046/eeg/s6_sub-100046_rs_eeg.fdt\n",
      "Error reading /Volumes/T7/BrainLat/EEG data/5_HC/CL/sub-100046/eeg/s6_sub-100046_rs_eeg.set: File /Volumes/T7/BrainLat/EEG data/5_HC/CL/sub-100046/eeg/s6_sub-100046_rs_eeg.fdt not found.\n"
     ]
    }
   ],
   "source": [
    "bad_subset = filtered_df_subset.query('file_loadable == False')\n",
    "\n",
    "for index, row in bad_subset.iterrows():\n",
    "        try:\n",
    "            raw = mne.io.read_raw_eeglab(row['full_path'], preload=True)\n",
    "            #filtered_df_subset.loc[index, 'file_loadable'] = True\n",
    "            counter += 1  # Increase the counter by 1\n",
    "        except Exception as e:\n",
    "            print(f\"Error reading {row['full_path']}: {e}\")\n",
    "            missing_data.append(row['folder_2'])"
   ]
  },
  {
   "cell_type": "code",
   "execution_count": 10,
   "metadata": {},
   "outputs": [
    {
     "data": {
      "application/vnd.microsoft.datawrangler.viewer.v0+json": {
       "columns": [
        {
         "name": "index",
         "rawType": "int64",
         "type": "integer"
        },
        {
         "name": "condition",
         "rawType": "object",
         "type": "string"
        },
        {
         "name": "country",
         "rawType": "object",
         "type": "string"
        },
        {
         "name": "id_EEG",
         "rawType": "object",
         "type": "string"
        },
        {
         "name": "file_loadable",
         "rawType": "bool",
         "type": "boolean"
        }
       ],
       "conversionMethod": "pd.DataFrame",
       "ref": "af7df960-20e1-4e30-824f-f9910167a0e8",
       "rows": [
        [
         "0",
         "1_AD",
         "AR",
         "sub-30001",
         "True"
        ],
        [
         "1",
         "1_AD",
         "AR",
         "sub-30002",
         "True"
        ],
        [
         "2",
         "1_AD",
         "AR",
         "sub-30004",
         "True"
        ],
        [
         "3",
         "1_AD",
         "AR",
         "sub-30008",
         "True"
        ],
        [
         "4",
         "1_AD",
         "AR",
         "sub-30009",
         "True"
        ],
        [
         "5",
         "1_AD",
         "AR",
         "sub-30011",
         "True"
        ],
        [
         "6",
         "1_AD",
         "AR",
         "sub-30012",
         "True"
        ],
        [
         "7",
         "1_AD",
         "AR",
         "sub-30013",
         "True"
        ],
        [
         "8",
         "1_AD",
         "AR",
         "sub-30015",
         "True"
        ],
        [
         "9",
         "1_AD",
         "AR",
         "sub-30017",
         "True"
        ],
        [
         "10",
         "1_AD",
         "AR",
         "sub-30018",
         "True"
        ],
        [
         "11",
         "1_AD",
         "AR",
         "sub-30020",
         "True"
        ],
        [
         "12",
         "1_AD",
         "AR",
         "sub-30022",
         "True"
        ],
        [
         "13",
         "1_AD",
         "AR",
         "sub-30026",
         "True"
        ],
        [
         "14",
         "1_AD",
         "AR",
         "sub-30029",
         "True"
        ],
        [
         "15",
         "1_AD",
         "AR",
         "sub-30031",
         "True"
        ],
        [
         "16",
         "1_AD",
         "CL",
         "sub-30003",
         "True"
        ],
        [
         "17",
         "1_AD",
         "CL",
         "sub-30005",
         "True"
        ],
        [
         "18",
         "1_AD",
         "CL",
         "sub-30006",
         "True"
        ],
        [
         "19",
         "1_AD",
         "CL",
         "sub-30007",
         "True"
        ],
        [
         "20",
         "1_AD",
         "CL",
         "sub-30010",
         "True"
        ],
        [
         "21",
         "1_AD",
         "CL",
         "sub-30014",
         "True"
        ],
        [
         "22",
         "1_AD",
         "CL",
         "sub-30016",
         "True"
        ],
        [
         "23",
         "1_AD",
         "CL",
         "sub-30019",
         "True"
        ],
        [
         "24",
         "1_AD",
         "CL",
         "sub-30021",
         "True"
        ],
        [
         "25",
         "1_AD",
         "CL",
         "sub-30023",
         "True"
        ],
        [
         "26",
         "1_AD",
         "CL",
         "sub-30024",
         "True"
        ],
        [
         "27",
         "1_AD",
         "CL",
         "sub-30025",
         "True"
        ],
        [
         "28",
         "1_AD",
         "CL",
         "sub-30027",
         "True"
        ],
        [
         "29",
         "1_AD",
         "CL",
         "sub-30028",
         "True"
        ],
        [
         "30",
         "1_AD",
         "CL",
         "sub-30030",
         "True"
        ],
        [
         "31",
         "1_AD",
         "CL",
         "sub-30032",
         "True"
        ],
        [
         "32",
         "1_AD",
         "CL",
         "sub-30033",
         "True"
        ],
        [
         "33",
         "1_AD",
         "CL",
         "sub-30034",
         "True"
        ],
        [
         "34",
         "1_AD",
         "CL",
         "sub-30035",
         "True"
        ],
        [
         "35",
         "2_bvFTD",
         "AR",
         "sub-20001",
         "True"
        ],
        [
         "36",
         "2_bvFTD",
         "AR",
         "sub-20003",
         "True"
        ],
        [
         "37",
         "2_bvFTD",
         "AR",
         "sub-20006",
         "True"
        ],
        [
         "38",
         "2_bvFTD",
         "AR",
         "sub-20009",
         "True"
        ],
        [
         "39",
         "2_bvFTD",
         "AR",
         "sub-20010",
         "True"
        ],
        [
         "40",
         "2_bvFTD",
         "AR",
         "sub-20012",
         "True"
        ],
        [
         "41",
         "2_bvFTD",
         "AR",
         "sub-20013",
         "True"
        ],
        [
         "42",
         "2_bvFTD",
         "AR",
         "sub-20014",
         "True"
        ],
        [
         "43",
         "2_bvFTD",
         "AR",
         "sub-20015",
         "True"
        ],
        [
         "44",
         "2_bvFTD",
         "AR",
         "sub-20016",
         "True"
        ],
        [
         "45",
         "2_bvFTD",
         "AR",
         "sub-20017",
         "True"
        ],
        [
         "46",
         "2_bvFTD",
         "AR",
         "sub-20018",
         "True"
        ],
        [
         "47",
         "2_bvFTD",
         "AR",
         "sub-20019",
         "True"
        ],
        [
         "48",
         "2_bvFTD",
         "CL",
         "sub-20002",
         "True"
        ],
        [
         "49",
         "2_bvFTD",
         "CL",
         "sub-20004",
         "True"
        ]
       ],
       "shape": {
        "columns": 4,
        "rows": 129
       }
      },
      "text/html": [
       "<div>\n",
       "<style scoped>\n",
       "    .dataframe tbody tr th:only-of-type {\n",
       "        vertical-align: middle;\n",
       "    }\n",
       "\n",
       "    .dataframe tbody tr th {\n",
       "        vertical-align: top;\n",
       "    }\n",
       "\n",
       "    .dataframe thead th {\n",
       "        text-align: right;\n",
       "    }\n",
       "</style>\n",
       "<table border=\"1\" class=\"dataframe\">\n",
       "  <thead>\n",
       "    <tr style=\"text-align: right;\">\n",
       "      <th></th>\n",
       "      <th>condition</th>\n",
       "      <th>country</th>\n",
       "      <th>id_EEG</th>\n",
       "      <th>file_loadable</th>\n",
       "    </tr>\n",
       "  </thead>\n",
       "  <tbody>\n",
       "    <tr>\n",
       "      <th>0</th>\n",
       "      <td>1_AD</td>\n",
       "      <td>AR</td>\n",
       "      <td>sub-30001</td>\n",
       "      <td>True</td>\n",
       "    </tr>\n",
       "    <tr>\n",
       "      <th>1</th>\n",
       "      <td>1_AD</td>\n",
       "      <td>AR</td>\n",
       "      <td>sub-30002</td>\n",
       "      <td>True</td>\n",
       "    </tr>\n",
       "    <tr>\n",
       "      <th>2</th>\n",
       "      <td>1_AD</td>\n",
       "      <td>AR</td>\n",
       "      <td>sub-30004</td>\n",
       "      <td>True</td>\n",
       "    </tr>\n",
       "    <tr>\n",
       "      <th>3</th>\n",
       "      <td>1_AD</td>\n",
       "      <td>AR</td>\n",
       "      <td>sub-30008</td>\n",
       "      <td>True</td>\n",
       "    </tr>\n",
       "    <tr>\n",
       "      <th>4</th>\n",
       "      <td>1_AD</td>\n",
       "      <td>AR</td>\n",
       "      <td>sub-30009</td>\n",
       "      <td>True</td>\n",
       "    </tr>\n",
       "    <tr>\n",
       "      <th>...</th>\n",
       "      <td>...</td>\n",
       "      <td>...</td>\n",
       "      <td>...</td>\n",
       "      <td>...</td>\n",
       "    </tr>\n",
       "    <tr>\n",
       "      <th>124</th>\n",
       "      <td>5_HC</td>\n",
       "      <td>CL</td>\n",
       "      <td>sub-100044</td>\n",
       "      <td>False</td>\n",
       "    </tr>\n",
       "    <tr>\n",
       "      <th>125</th>\n",
       "      <td>5_HC</td>\n",
       "      <td>CL</td>\n",
       "      <td>sub-100045</td>\n",
       "      <td>False</td>\n",
       "    </tr>\n",
       "    <tr>\n",
       "      <th>126</th>\n",
       "      <td>5_HC</td>\n",
       "      <td>CL</td>\n",
       "      <td>sub-100046</td>\n",
       "      <td>False</td>\n",
       "    </tr>\n",
       "    <tr>\n",
       "      <th>127</th>\n",
       "      <td>5_HC</td>\n",
       "      <td>CL</td>\n",
       "      <td>sub-10005</td>\n",
       "      <td>True</td>\n",
       "    </tr>\n",
       "    <tr>\n",
       "      <th>128</th>\n",
       "      <td>5_HC</td>\n",
       "      <td>CL</td>\n",
       "      <td>sub-10008</td>\n",
       "      <td>True</td>\n",
       "    </tr>\n",
       "  </tbody>\n",
       "</table>\n",
       "<p>129 rows × 4 columns</p>\n",
       "</div>"
      ],
      "text/plain": [
       "    condition country      id_EEG  file_loadable\n",
       "0        1_AD      AR   sub-30001           True\n",
       "1        1_AD      AR   sub-30002           True\n",
       "2        1_AD      AR   sub-30004           True\n",
       "3        1_AD      AR   sub-30008           True\n",
       "4        1_AD      AR   sub-30009           True\n",
       "..        ...     ...         ...            ...\n",
       "124      5_HC      CL  sub-100044          False\n",
       "125      5_HC      CL  sub-100045          False\n",
       "126      5_HC      CL  sub-100046          False\n",
       "127      5_HC      CL   sub-10005           True\n",
       "128      5_HC      CL   sub-10008           True\n",
       "\n",
       "[129 rows x 4 columns]"
      ]
     },
     "execution_count": 10,
     "metadata": {},
     "output_type": "execute_result"
    }
   ],
   "source": [
    "df_eeg "
   ]
  },
  {
   "cell_type": "code",
   "execution_count": 11,
   "metadata": {},
   "outputs": [
    {
     "data": {
      "application/vnd.microsoft.datawrangler.viewer.v0+json": {
       "columns": [
        {
         "name": "index",
         "rawType": "int64",
         "type": "integer"
        },
        {
         "name": "condition",
         "rawType": "object",
         "type": "string"
        },
        {
         "name": "country",
         "rawType": "object",
         "type": "string"
        },
        {
         "name": "path",
         "rawType": "object",
         "type": "string"
        },
        {
         "name": "id_EEG",
         "rawType": "object",
         "type": "string"
        },
        {
         "name": "diagnosis",
         "rawType": "object",
         "type": "string"
        },
        {
         "name": "T1",
         "rawType": "float64",
         "type": "float"
        },
        {
         "name": "Rest",
         "rawType": "float64",
         "type": "float"
        },
        {
         "name": "DWI",
         "rawType": "float64",
         "type": "float"
        },
        {
         "name": "MF",
         "rawType": "float64",
         "type": "float"
        },
        {
         "name": "eeg",
         "rawType": "float64",
         "type": "float"
        },
        {
         "name": "id",
         "rawType": "object",
         "type": "unknown"
        },
        {
         "name": "id_MRI",
         "rawType": "object",
         "type": "unknown"
        },
        {
         "name": "MRI_path",
         "rawType": "object",
         "type": "unknown"
        },
        {
         "name": "path_demo",
         "rawType": "object",
         "type": "string"
        },
        {
         "name": "id_EEG_demo",
         "rawType": "object",
         "type": "string"
        },
        {
         "name": "diagnosis_demo",
         "rawType": "object",
         "type": "string"
        },
        {
         "name": "sex",
         "rawType": "int64",
         "type": "integer"
        },
        {
         "name": "Age",
         "rawType": "int64",
         "type": "integer"
        },
        {
         "name": "years_education",
         "rawType": "int64",
         "type": "integer"
        },
        {
         "name": "laterality",
         "rawType": "float64",
         "type": "float"
        },
        {
         "name": "condition_demo",
         "rawType": "object",
         "type": "string"
        },
        {
         "name": "id_demo",
         "rawType": "float64",
         "type": "float"
        },
        {
         "name": "id_cog",
         "rawType": "object",
         "type": "string"
        },
        {
         "name": "path_cog",
         "rawType": "object",
         "type": "string"
        },
        {
         "name": "id_EEG_cog",
         "rawType": "object",
         "type": "string"
        },
        {
         "name": "diagnosis_cog",
         "rawType": "object",
         "type": "string"
        },
        {
         "name": "moca_total",
         "rawType": "float64",
         "type": "float"
        },
        {
         "name": "moca_visuospatial",
         "rawType": "float64",
         "type": "float"
        },
        {
         "name": "moca_recog",
         "rawType": "float64",
         "type": "float"
        },
        {
         "name": "moca_attention",
         "rawType": "float64",
         "type": "float"
        },
        {
         "name": "moca_language",
         "rawType": "float64",
         "type": "float"
        },
        {
         "name": "moca_abstraction",
         "rawType": "float64",
         "type": "float"
        },
        {
         "name": "moca_memory",
         "rawType": "float64",
         "type": "float"
        },
        {
         "name": "moca_orientation",
         "rawType": "float64",
         "type": "float"
        },
        {
         "name": "ifs_total_score",
         "rawType": "float64",
         "type": "float"
        },
        {
         "name": "ifs_motor_series",
         "rawType": "float64",
         "type": "float"
        },
        {
         "name": "ifs_conflicting_instructions",
         "rawType": "float64",
         "type": "float"
        },
        {
         "name": "ifs_motor_inhibition",
         "rawType": "float64",
         "type": "float"
        },
        {
         "name": "ifs_digits",
         "rawType": "float64",
         "type": "float"
        },
        {
         "name": "ifs_months",
         "rawType": "float64",
         "type": "float"
        },
        {
         "name": "ifs_visual_wm",
         "rawType": "float64",
         "type": "float"
        },
        {
         "name": "ifs_proverb",
         "rawType": "float64",
         "type": "float"
        },
        {
         "name": "ifs_verbal_inhibition",
         "rawType": "float64",
         "type": "float"
        },
        {
         "name": "mini_sea_fer",
         "rawType": "float64",
         "type": "float"
        },
        {
         "name": "mini_sea_tom",
         "rawType": "float64",
         "type": "float"
        },
        {
         "name": "emotion recog",
         "rawType": "float64",
         "type": "float"
        },
        {
         "name": "condition_cog",
         "rawType": "object",
         "type": "string"
        },
        {
         "name": "MMSE",
         "rawType": "float64",
         "type": "float"
        }
       ],
       "conversionMethod": "pd.DataFrame",
       "ref": "0e3d97d5-7827-47d3-8758-c9cb934c7e86",
       "rows": [
        [
         "0",
         "2_bvFTD",
         "AR",
         "2_bvFTD/AR",
         "sub-20001",
         "FTD",
         "1.0",
         "0.0",
         "0.0",
         "3.0",
         "1.0",
         null,
         null,
         null,
         "2_bvFTD/AR",
         "sub-20001",
         "FTD",
         "1",
         "62",
         "18",
         "1.0",
         "2_bvFTD",
         null,
         "PIB00056",
         "2_bvFTD/AR",
         "sub-20001",
         "FTD",
         "26.0",
         "5.0",
         "3.0",
         "5.0",
         "3.0",
         "2.0",
         "2.0",
         "6.0",
         "26.0",
         "3.0",
         "3.0",
         "3.0",
         "5.0",
         "2.0",
         "4.0",
         "3.0",
         "3.0",
         "14.6",
         "15.0",
         null,
         "2_bvFTD",
         null
        ],
        [
         "1",
         "2_bvFTD",
         "AR",
         "2_bvFTD/AR",
         "sub-20003",
         "FTD",
         "1.0",
         "1.0",
         "1.0",
         "3.0",
         "1.0",
         null,
         null,
         null,
         "2_bvFTD/AR",
         "sub-20003",
         "FTD",
         "1",
         "70",
         "15",
         "0.0",
         "2_bvFTD",
         null,
         "PIB00057",
         "2_bvFTD/AR",
         "sub-20003",
         "FTD",
         "23.0",
         "5.0",
         "3.0",
         "5.0",
         "3.0",
         "2.0",
         "0.0",
         "5.0",
         "23.0",
         "3.0",
         "3.0",
         "2.0",
         "3.0",
         "2.0",
         "3.0",
         "3.0",
         "4.0",
         "11.6",
         "11.3",
         null,
         "2_bvFTD",
         null
        ],
        [
         "2",
         "2_bvFTD",
         "AR",
         "2_bvFTD/AR",
         "sub-20006",
         "FTD",
         "1.0",
         "1.0",
         "1.0",
         "3.0",
         "1.0",
         null,
         null,
         null,
         "2_bvFTD/AR",
         "sub-20006",
         "FTD",
         "1",
         "87",
         "7",
         "1.0",
         "2_bvFTD",
         null,
         "PIB00059",
         "2_bvFTD/AR",
         "sub-20006",
         "FTD",
         "12.0",
         "1.0",
         "2.0",
         "4.0",
         "3.0",
         "0.0",
         "0.0",
         "2.0",
         "18.0",
         "3.0",
         "3.0",
         "3.0",
         "3.0",
         "0.0",
         "1.0",
         "2.0",
         "3.0",
         "9.4",
         "14.3",
         null,
         "2_bvFTD",
         null
        ],
        [
         "3",
         "2_bvFTD",
         "AR",
         "2_bvFTD/AR",
         "sub-20009",
         "FTD",
         "1.0",
         "1.0",
         "1.0",
         "3.0",
         "1.0",
         null,
         null,
         null,
         "2_bvFTD/AR",
         "sub-20009",
         "FTD",
         "1",
         "57",
         "14",
         "1.0",
         "2_bvFTD",
         null,
         "PIB00061",
         "2_bvFTD/AR",
         "sub-20009",
         "FTD",
         "15.0",
         "4.0",
         "4.0",
         "1.0",
         "4.0",
         "0.0",
         "1.0",
         "2.0",
         "16.0",
         "4.0",
         "3.0",
         "3.0",
         "2.0",
         "2.0",
         "0.0",
         "2.0",
         "0.0",
         "4.0",
         "6.9",
         null,
         "2_bvFTD",
         null
        ],
        [
         "4",
         "2_bvFTD",
         "AR",
         "2_bvFTD/AR",
         "sub-20010",
         "FTD",
         "1.0",
         "1.0",
         "1.0",
         "3.0",
         "1.0",
         null,
         null,
         null,
         "2_bvFTD/AR",
         "sub-20010",
         "FTD",
         "0",
         "81",
         "6",
         "1.0",
         "2_bvFTD",
         null,
         "PIB00062",
         "2_bvFTD/AR",
         "sub-20010",
         "FTD",
         "18.0",
         "2.0",
         "2.0",
         "4.0",
         "2.0",
         "1.0",
         "1.0",
         "6.0",
         "20.0",
         "3.0",
         "2.0",
         "0.0",
         "3.0",
         "2.0",
         "2.0",
         "3.0",
         "5.0",
         "10.7",
         "12.8",
         null,
         "2_bvFTD",
         null
        ]
       ],
       "shape": {
        "columns": 48,
        "rows": 5
       }
      },
      "text/html": [
       "<div>\n",
       "<style scoped>\n",
       "    .dataframe tbody tr th:only-of-type {\n",
       "        vertical-align: middle;\n",
       "    }\n",
       "\n",
       "    .dataframe tbody tr th {\n",
       "        vertical-align: top;\n",
       "    }\n",
       "\n",
       "    .dataframe thead th {\n",
       "        text-align: right;\n",
       "    }\n",
       "</style>\n",
       "<table border=\"1\" class=\"dataframe\">\n",
       "  <thead>\n",
       "    <tr style=\"text-align: right;\">\n",
       "      <th></th>\n",
       "      <th>condition</th>\n",
       "      <th>country</th>\n",
       "      <th>path</th>\n",
       "      <th>id_EEG</th>\n",
       "      <th>diagnosis</th>\n",
       "      <th>T1</th>\n",
       "      <th>Rest</th>\n",
       "      <th>DWI</th>\n",
       "      <th>MF</th>\n",
       "      <th>eeg</th>\n",
       "      <th>...</th>\n",
       "      <th>ifs_digits</th>\n",
       "      <th>ifs_months</th>\n",
       "      <th>ifs_visual_wm</th>\n",
       "      <th>ifs_proverb</th>\n",
       "      <th>ifs_verbal_inhibition</th>\n",
       "      <th>mini_sea_fer</th>\n",
       "      <th>mini_sea_tom</th>\n",
       "      <th>emotion recog</th>\n",
       "      <th>condition_cog</th>\n",
       "      <th>MMSE</th>\n",
       "    </tr>\n",
       "  </thead>\n",
       "  <tbody>\n",
       "    <tr>\n",
       "      <th>0</th>\n",
       "      <td>2_bvFTD</td>\n",
       "      <td>AR</td>\n",
       "      <td>2_bvFTD/AR</td>\n",
       "      <td>sub-20001</td>\n",
       "      <td>FTD</td>\n",
       "      <td>1.0</td>\n",
       "      <td>0.0</td>\n",
       "      <td>0.0</td>\n",
       "      <td>3.0</td>\n",
       "      <td>1.0</td>\n",
       "      <td>...</td>\n",
       "      <td>5.0</td>\n",
       "      <td>2.0</td>\n",
       "      <td>4.0</td>\n",
       "      <td>3.0</td>\n",
       "      <td>3.0</td>\n",
       "      <td>14.6</td>\n",
       "      <td>15.0</td>\n",
       "      <td>NaN</td>\n",
       "      <td>2_bvFTD</td>\n",
       "      <td>NaN</td>\n",
       "    </tr>\n",
       "    <tr>\n",
       "      <th>1</th>\n",
       "      <td>2_bvFTD</td>\n",
       "      <td>AR</td>\n",
       "      <td>2_bvFTD/AR</td>\n",
       "      <td>sub-20003</td>\n",
       "      <td>FTD</td>\n",
       "      <td>1.0</td>\n",
       "      <td>1.0</td>\n",
       "      <td>1.0</td>\n",
       "      <td>3.0</td>\n",
       "      <td>1.0</td>\n",
       "      <td>...</td>\n",
       "      <td>3.0</td>\n",
       "      <td>2.0</td>\n",
       "      <td>3.0</td>\n",
       "      <td>3.0</td>\n",
       "      <td>4.0</td>\n",
       "      <td>11.6</td>\n",
       "      <td>11.3</td>\n",
       "      <td>NaN</td>\n",
       "      <td>2_bvFTD</td>\n",
       "      <td>NaN</td>\n",
       "    </tr>\n",
       "    <tr>\n",
       "      <th>2</th>\n",
       "      <td>2_bvFTD</td>\n",
       "      <td>AR</td>\n",
       "      <td>2_bvFTD/AR</td>\n",
       "      <td>sub-20006</td>\n",
       "      <td>FTD</td>\n",
       "      <td>1.0</td>\n",
       "      <td>1.0</td>\n",
       "      <td>1.0</td>\n",
       "      <td>3.0</td>\n",
       "      <td>1.0</td>\n",
       "      <td>...</td>\n",
       "      <td>3.0</td>\n",
       "      <td>0.0</td>\n",
       "      <td>1.0</td>\n",
       "      <td>2.0</td>\n",
       "      <td>3.0</td>\n",
       "      <td>9.4</td>\n",
       "      <td>14.3</td>\n",
       "      <td>NaN</td>\n",
       "      <td>2_bvFTD</td>\n",
       "      <td>NaN</td>\n",
       "    </tr>\n",
       "    <tr>\n",
       "      <th>3</th>\n",
       "      <td>2_bvFTD</td>\n",
       "      <td>AR</td>\n",
       "      <td>2_bvFTD/AR</td>\n",
       "      <td>sub-20009</td>\n",
       "      <td>FTD</td>\n",
       "      <td>1.0</td>\n",
       "      <td>1.0</td>\n",
       "      <td>1.0</td>\n",
       "      <td>3.0</td>\n",
       "      <td>1.0</td>\n",
       "      <td>...</td>\n",
       "      <td>2.0</td>\n",
       "      <td>2.0</td>\n",
       "      <td>0.0</td>\n",
       "      <td>2.0</td>\n",
       "      <td>0.0</td>\n",
       "      <td>4.0</td>\n",
       "      <td>6.9</td>\n",
       "      <td>NaN</td>\n",
       "      <td>2_bvFTD</td>\n",
       "      <td>NaN</td>\n",
       "    </tr>\n",
       "    <tr>\n",
       "      <th>4</th>\n",
       "      <td>2_bvFTD</td>\n",
       "      <td>AR</td>\n",
       "      <td>2_bvFTD/AR</td>\n",
       "      <td>sub-20010</td>\n",
       "      <td>FTD</td>\n",
       "      <td>1.0</td>\n",
       "      <td>1.0</td>\n",
       "      <td>1.0</td>\n",
       "      <td>3.0</td>\n",
       "      <td>1.0</td>\n",
       "      <td>...</td>\n",
       "      <td>3.0</td>\n",
       "      <td>2.0</td>\n",
       "      <td>2.0</td>\n",
       "      <td>3.0</td>\n",
       "      <td>5.0</td>\n",
       "      <td>10.7</td>\n",
       "      <td>12.8</td>\n",
       "      <td>NaN</td>\n",
       "      <td>2_bvFTD</td>\n",
       "      <td>NaN</td>\n",
       "    </tr>\n",
       "  </tbody>\n",
       "</table>\n",
       "<p>5 rows × 48 columns</p>\n",
       "</div>"
      ],
      "text/plain": [
       "  condition country        path     id_EEG diagnosis   T1  Rest  DWI   MF  \\\n",
       "0   2_bvFTD      AR  2_bvFTD/AR  sub-20001       FTD  1.0   0.0  0.0  3.0   \n",
       "1   2_bvFTD      AR  2_bvFTD/AR  sub-20003       FTD  1.0   1.0  1.0  3.0   \n",
       "2   2_bvFTD      AR  2_bvFTD/AR  sub-20006       FTD  1.0   1.0  1.0  3.0   \n",
       "3   2_bvFTD      AR  2_bvFTD/AR  sub-20009       FTD  1.0   1.0  1.0  3.0   \n",
       "4   2_bvFTD      AR  2_bvFTD/AR  sub-20010       FTD  1.0   1.0  1.0  3.0   \n",
       "\n",
       "   eeg  ... ifs_digits ifs_months ifs_visual_wm ifs_proverb  \\\n",
       "0  1.0  ...        5.0        2.0           4.0         3.0   \n",
       "1  1.0  ...        3.0        2.0           3.0         3.0   \n",
       "2  1.0  ...        3.0        0.0           1.0         2.0   \n",
       "3  1.0  ...        2.0        2.0           0.0         2.0   \n",
       "4  1.0  ...        3.0        2.0           2.0         3.0   \n",
       "\n",
       "  ifs_verbal_inhibition mini_sea_fer  mini_sea_tom  emotion recog  \\\n",
       "0                   3.0         14.6          15.0            NaN   \n",
       "1                   4.0         11.6          11.3            NaN   \n",
       "2                   3.0          9.4          14.3            NaN   \n",
       "3                   0.0          4.0           6.9            NaN   \n",
       "4                   5.0         10.7          12.8            NaN   \n",
       "\n",
       "   condition_cog  MMSE  \n",
       "0        2_bvFTD   NaN  \n",
       "1        2_bvFTD   NaN  \n",
       "2        2_bvFTD   NaN  \n",
       "3        2_bvFTD   NaN  \n",
       "4        2_bvFTD   NaN  \n",
       "\n",
       "[5 rows x 48 columns]"
      ]
     },
     "metadata": {},
     "output_type": "display_data"
    },
    {
     "data": {
      "application/vnd.microsoft.datawrangler.viewer.v0+json": {
       "columns": [
        {
         "name": "index",
         "rawType": "int64",
         "type": "integer"
        },
        {
         "name": "condition",
         "rawType": "object",
         "type": "string"
        },
        {
         "name": "country",
         "rawType": "object",
         "type": "string"
        },
        {
         "name": "path",
         "rawType": "object",
         "type": "string"
        },
        {
         "name": "id_EEG",
         "rawType": "object",
         "type": "string"
        },
        {
         "name": "diagnosis",
         "rawType": "object",
         "type": "string"
        },
        {
         "name": "T1",
         "rawType": "float64",
         "type": "float"
        },
        {
         "name": "Rest",
         "rawType": "float64",
         "type": "float"
        },
        {
         "name": "DWI",
         "rawType": "float64",
         "type": "float"
        },
        {
         "name": "MF",
         "rawType": "float64",
         "type": "float"
        },
        {
         "name": "eeg",
         "rawType": "float64",
         "type": "float"
        },
        {
         "name": "id",
         "rawType": "object",
         "type": "unknown"
        },
        {
         "name": "id_MRI",
         "rawType": "object",
         "type": "unknown"
        },
        {
         "name": "MRI_path",
         "rawType": "object",
         "type": "unknown"
        },
        {
         "name": "path_demo",
         "rawType": "object",
         "type": "string"
        },
        {
         "name": "id_EEG_demo",
         "rawType": "object",
         "type": "string"
        },
        {
         "name": "diagnosis_demo",
         "rawType": "object",
         "type": "string"
        },
        {
         "name": "sex",
         "rawType": "int64",
         "type": "integer"
        },
        {
         "name": "Age",
         "rawType": "int64",
         "type": "integer"
        },
        {
         "name": "years_education",
         "rawType": "int64",
         "type": "integer"
        },
        {
         "name": "laterality",
         "rawType": "float64",
         "type": "float"
        },
        {
         "name": "condition_demo",
         "rawType": "object",
         "type": "string"
        },
        {
         "name": "id_demo",
         "rawType": "float64",
         "type": "float"
        },
        {
         "name": "id_cog",
         "rawType": "object",
         "type": "string"
        },
        {
         "name": "path_cog",
         "rawType": "object",
         "type": "string"
        },
        {
         "name": "id_EEG_cog",
         "rawType": "object",
         "type": "string"
        },
        {
         "name": "diagnosis_cog",
         "rawType": "object",
         "type": "string"
        },
        {
         "name": "moca_total",
         "rawType": "float64",
         "type": "float"
        },
        {
         "name": "moca_visuospatial",
         "rawType": "float64",
         "type": "float"
        },
        {
         "name": "moca_recog",
         "rawType": "float64",
         "type": "float"
        },
        {
         "name": "moca_attention",
         "rawType": "float64",
         "type": "float"
        },
        {
         "name": "moca_language",
         "rawType": "float64",
         "type": "float"
        },
        {
         "name": "moca_abstraction",
         "rawType": "float64",
         "type": "float"
        },
        {
         "name": "moca_memory",
         "rawType": "float64",
         "type": "float"
        },
        {
         "name": "moca_orientation",
         "rawType": "float64",
         "type": "float"
        },
        {
         "name": "ifs_total_score",
         "rawType": "float64",
         "type": "float"
        },
        {
         "name": "ifs_motor_series",
         "rawType": "float64",
         "type": "float"
        },
        {
         "name": "ifs_conflicting_instructions",
         "rawType": "float64",
         "type": "float"
        },
        {
         "name": "ifs_motor_inhibition",
         "rawType": "float64",
         "type": "float"
        },
        {
         "name": "ifs_digits",
         "rawType": "float64",
         "type": "float"
        },
        {
         "name": "ifs_months",
         "rawType": "float64",
         "type": "float"
        },
        {
         "name": "ifs_visual_wm",
         "rawType": "float64",
         "type": "float"
        },
        {
         "name": "ifs_proverb",
         "rawType": "float64",
         "type": "float"
        },
        {
         "name": "ifs_verbal_inhibition",
         "rawType": "float64",
         "type": "float"
        },
        {
         "name": "mini_sea_fer",
         "rawType": "float64",
         "type": "float"
        },
        {
         "name": "mini_sea_tom",
         "rawType": "float64",
         "type": "float"
        },
        {
         "name": "emotion recog",
         "rawType": "float64",
         "type": "float"
        },
        {
         "name": "condition_cog",
         "rawType": "object",
         "type": "string"
        },
        {
         "name": "MMSE",
         "rawType": "float64",
         "type": "float"
        },
        {
         "name": "file_loadable",
         "rawType": "object",
         "type": "unknown"
        }
       ],
       "conversionMethod": "pd.DataFrame",
       "ref": "7191e7bb-20fb-4c6e-9e38-28ac8a93d6c6",
       "rows": [
        [
         "0",
         "2_bvFTD",
         "AR",
         "2_bvFTD/AR",
         "sub-20001",
         "FTD",
         "1.0",
         "0.0",
         "0.0",
         "3.0",
         "1.0",
         null,
         null,
         null,
         "2_bvFTD/AR",
         "sub-20001",
         "FTD",
         "1",
         "62",
         "18",
         "1.0",
         "2_bvFTD",
         null,
         "PIB00056",
         "2_bvFTD/AR",
         "sub-20001",
         "FTD",
         "26.0",
         "5.0",
         "3.0",
         "5.0",
         "3.0",
         "2.0",
         "2.0",
         "6.0",
         "26.0",
         "3.0",
         "3.0",
         "3.0",
         "5.0",
         "2.0",
         "4.0",
         "3.0",
         "3.0",
         "14.6",
         "15.0",
         null,
         "2_bvFTD",
         null,
         "True"
        ],
        [
         "1",
         "2_bvFTD",
         "AR",
         "2_bvFTD/AR",
         "sub-20003",
         "FTD",
         "1.0",
         "1.0",
         "1.0",
         "3.0",
         "1.0",
         null,
         null,
         null,
         "2_bvFTD/AR",
         "sub-20003",
         "FTD",
         "1",
         "70",
         "15",
         "0.0",
         "2_bvFTD",
         null,
         "PIB00057",
         "2_bvFTD/AR",
         "sub-20003",
         "FTD",
         "23.0",
         "5.0",
         "3.0",
         "5.0",
         "3.0",
         "2.0",
         "0.0",
         "5.0",
         "23.0",
         "3.0",
         "3.0",
         "2.0",
         "3.0",
         "2.0",
         "3.0",
         "3.0",
         "4.0",
         "11.6",
         "11.3",
         null,
         "2_bvFTD",
         null,
         "True"
        ],
        [
         "2",
         "2_bvFTD",
         "AR",
         "2_bvFTD/AR",
         "sub-20006",
         "FTD",
         "1.0",
         "1.0",
         "1.0",
         "3.0",
         "1.0",
         null,
         null,
         null,
         "2_bvFTD/AR",
         "sub-20006",
         "FTD",
         "1",
         "87",
         "7",
         "1.0",
         "2_bvFTD",
         null,
         "PIB00059",
         "2_bvFTD/AR",
         "sub-20006",
         "FTD",
         "12.0",
         "1.0",
         "2.0",
         "4.0",
         "3.0",
         "0.0",
         "0.0",
         "2.0",
         "18.0",
         "3.0",
         "3.0",
         "3.0",
         "3.0",
         "0.0",
         "1.0",
         "2.0",
         "3.0",
         "9.4",
         "14.3",
         null,
         "2_bvFTD",
         null,
         "True"
        ],
        [
         "3",
         "2_bvFTD",
         "AR",
         "2_bvFTD/AR",
         "sub-20009",
         "FTD",
         "1.0",
         "1.0",
         "1.0",
         "3.0",
         "1.0",
         null,
         null,
         null,
         "2_bvFTD/AR",
         "sub-20009",
         "FTD",
         "1",
         "57",
         "14",
         "1.0",
         "2_bvFTD",
         null,
         "PIB00061",
         "2_bvFTD/AR",
         "sub-20009",
         "FTD",
         "15.0",
         "4.0",
         "4.0",
         "1.0",
         "4.0",
         "0.0",
         "1.0",
         "2.0",
         "16.0",
         "4.0",
         "3.0",
         "3.0",
         "2.0",
         "2.0",
         "0.0",
         "2.0",
         "0.0",
         "4.0",
         "6.9",
         null,
         "2_bvFTD",
         null,
         "True"
        ],
        [
         "4",
         "2_bvFTD",
         "AR",
         "2_bvFTD/AR",
         "sub-20010",
         "FTD",
         "1.0",
         "1.0",
         "1.0",
         "3.0",
         "1.0",
         null,
         null,
         null,
         "2_bvFTD/AR",
         "sub-20010",
         "FTD",
         "0",
         "81",
         "6",
         "1.0",
         "2_bvFTD",
         null,
         "PIB00062",
         "2_bvFTD/AR",
         "sub-20010",
         "FTD",
         "18.0",
         "2.0",
         "2.0",
         "4.0",
         "2.0",
         "1.0",
         "1.0",
         "6.0",
         "20.0",
         "3.0",
         "2.0",
         "0.0",
         "3.0",
         "2.0",
         "2.0",
         "3.0",
         "5.0",
         "10.7",
         "12.8",
         null,
         "2_bvFTD",
         null,
         "True"
        ]
       ],
       "shape": {
        "columns": 49,
        "rows": 5
       }
      },
      "text/html": [
       "<div>\n",
       "<style scoped>\n",
       "    .dataframe tbody tr th:only-of-type {\n",
       "        vertical-align: middle;\n",
       "    }\n",
       "\n",
       "    .dataframe tbody tr th {\n",
       "        vertical-align: top;\n",
       "    }\n",
       "\n",
       "    .dataframe thead th {\n",
       "        text-align: right;\n",
       "    }\n",
       "</style>\n",
       "<table border=\"1\" class=\"dataframe\">\n",
       "  <thead>\n",
       "    <tr style=\"text-align: right;\">\n",
       "      <th></th>\n",
       "      <th>condition</th>\n",
       "      <th>country</th>\n",
       "      <th>path</th>\n",
       "      <th>id_EEG</th>\n",
       "      <th>diagnosis</th>\n",
       "      <th>T1</th>\n",
       "      <th>Rest</th>\n",
       "      <th>DWI</th>\n",
       "      <th>MF</th>\n",
       "      <th>eeg</th>\n",
       "      <th>...</th>\n",
       "      <th>ifs_months</th>\n",
       "      <th>ifs_visual_wm</th>\n",
       "      <th>ifs_proverb</th>\n",
       "      <th>ifs_verbal_inhibition</th>\n",
       "      <th>mini_sea_fer</th>\n",
       "      <th>mini_sea_tom</th>\n",
       "      <th>emotion recog</th>\n",
       "      <th>condition_cog</th>\n",
       "      <th>MMSE</th>\n",
       "      <th>file_loadable</th>\n",
       "    </tr>\n",
       "  </thead>\n",
       "  <tbody>\n",
       "    <tr>\n",
       "      <th>0</th>\n",
       "      <td>2_bvFTD</td>\n",
       "      <td>AR</td>\n",
       "      <td>2_bvFTD/AR</td>\n",
       "      <td>sub-20001</td>\n",
       "      <td>FTD</td>\n",
       "      <td>1.0</td>\n",
       "      <td>0.0</td>\n",
       "      <td>0.0</td>\n",
       "      <td>3.0</td>\n",
       "      <td>1.0</td>\n",
       "      <td>...</td>\n",
       "      <td>2.0</td>\n",
       "      <td>4.0</td>\n",
       "      <td>3.0</td>\n",
       "      <td>3.0</td>\n",
       "      <td>14.6</td>\n",
       "      <td>15.0</td>\n",
       "      <td>NaN</td>\n",
       "      <td>2_bvFTD</td>\n",
       "      <td>NaN</td>\n",
       "      <td>True</td>\n",
       "    </tr>\n",
       "    <tr>\n",
       "      <th>1</th>\n",
       "      <td>2_bvFTD</td>\n",
       "      <td>AR</td>\n",
       "      <td>2_bvFTD/AR</td>\n",
       "      <td>sub-20003</td>\n",
       "      <td>FTD</td>\n",
       "      <td>1.0</td>\n",
       "      <td>1.0</td>\n",
       "      <td>1.0</td>\n",
       "      <td>3.0</td>\n",
       "      <td>1.0</td>\n",
       "      <td>...</td>\n",
       "      <td>2.0</td>\n",
       "      <td>3.0</td>\n",
       "      <td>3.0</td>\n",
       "      <td>4.0</td>\n",
       "      <td>11.6</td>\n",
       "      <td>11.3</td>\n",
       "      <td>NaN</td>\n",
       "      <td>2_bvFTD</td>\n",
       "      <td>NaN</td>\n",
       "      <td>True</td>\n",
       "    </tr>\n",
       "    <tr>\n",
       "      <th>2</th>\n",
       "      <td>2_bvFTD</td>\n",
       "      <td>AR</td>\n",
       "      <td>2_bvFTD/AR</td>\n",
       "      <td>sub-20006</td>\n",
       "      <td>FTD</td>\n",
       "      <td>1.0</td>\n",
       "      <td>1.0</td>\n",
       "      <td>1.0</td>\n",
       "      <td>3.0</td>\n",
       "      <td>1.0</td>\n",
       "      <td>...</td>\n",
       "      <td>0.0</td>\n",
       "      <td>1.0</td>\n",
       "      <td>2.0</td>\n",
       "      <td>3.0</td>\n",
       "      <td>9.4</td>\n",
       "      <td>14.3</td>\n",
       "      <td>NaN</td>\n",
       "      <td>2_bvFTD</td>\n",
       "      <td>NaN</td>\n",
       "      <td>True</td>\n",
       "    </tr>\n",
       "    <tr>\n",
       "      <th>3</th>\n",
       "      <td>2_bvFTD</td>\n",
       "      <td>AR</td>\n",
       "      <td>2_bvFTD/AR</td>\n",
       "      <td>sub-20009</td>\n",
       "      <td>FTD</td>\n",
       "      <td>1.0</td>\n",
       "      <td>1.0</td>\n",
       "      <td>1.0</td>\n",
       "      <td>3.0</td>\n",
       "      <td>1.0</td>\n",
       "      <td>...</td>\n",
       "      <td>2.0</td>\n",
       "      <td>0.0</td>\n",
       "      <td>2.0</td>\n",
       "      <td>0.0</td>\n",
       "      <td>4.0</td>\n",
       "      <td>6.9</td>\n",
       "      <td>NaN</td>\n",
       "      <td>2_bvFTD</td>\n",
       "      <td>NaN</td>\n",
       "      <td>True</td>\n",
       "    </tr>\n",
       "    <tr>\n",
       "      <th>4</th>\n",
       "      <td>2_bvFTD</td>\n",
       "      <td>AR</td>\n",
       "      <td>2_bvFTD/AR</td>\n",
       "      <td>sub-20010</td>\n",
       "      <td>FTD</td>\n",
       "      <td>1.0</td>\n",
       "      <td>1.0</td>\n",
       "      <td>1.0</td>\n",
       "      <td>3.0</td>\n",
       "      <td>1.0</td>\n",
       "      <td>...</td>\n",
       "      <td>2.0</td>\n",
       "      <td>2.0</td>\n",
       "      <td>3.0</td>\n",
       "      <td>5.0</td>\n",
       "      <td>10.7</td>\n",
       "      <td>12.8</td>\n",
       "      <td>NaN</td>\n",
       "      <td>2_bvFTD</td>\n",
       "      <td>NaN</td>\n",
       "      <td>True</td>\n",
       "    </tr>\n",
       "  </tbody>\n",
       "</table>\n",
       "<p>5 rows × 49 columns</p>\n",
       "</div>"
      ],
      "text/plain": [
       "  condition country        path     id_EEG diagnosis   T1  Rest  DWI   MF  \\\n",
       "0   2_bvFTD      AR  2_bvFTD/AR  sub-20001       FTD  1.0   0.0  0.0  3.0   \n",
       "1   2_bvFTD      AR  2_bvFTD/AR  sub-20003       FTD  1.0   1.0  1.0  3.0   \n",
       "2   2_bvFTD      AR  2_bvFTD/AR  sub-20006       FTD  1.0   1.0  1.0  3.0   \n",
       "3   2_bvFTD      AR  2_bvFTD/AR  sub-20009       FTD  1.0   1.0  1.0  3.0   \n",
       "4   2_bvFTD      AR  2_bvFTD/AR  sub-20010       FTD  1.0   1.0  1.0  3.0   \n",
       "\n",
       "   eeg  ... ifs_months ifs_visual_wm ifs_proverb ifs_verbal_inhibition  \\\n",
       "0  1.0  ...        2.0           4.0         3.0                   3.0   \n",
       "1  1.0  ...        2.0           3.0         3.0                   4.0   \n",
       "2  1.0  ...        0.0           1.0         2.0                   3.0   \n",
       "3  1.0  ...        2.0           0.0         2.0                   0.0   \n",
       "4  1.0  ...        2.0           2.0         3.0                   5.0   \n",
       "\n",
       "  mini_sea_fer mini_sea_tom  emotion recog  condition_cog  MMSE  file_loadable  \n",
       "0         14.6         15.0            NaN        2_bvFTD   NaN           True  \n",
       "1         11.6         11.3            NaN        2_bvFTD   NaN           True  \n",
       "2          9.4         14.3            NaN        2_bvFTD   NaN           True  \n",
       "3          4.0          6.9            NaN        2_bvFTD   NaN           True  \n",
       "4         10.7         12.8            NaN        2_bvFTD   NaN           True  \n",
       "\n",
       "[5 rows x 49 columns]"
      ]
     },
     "metadata": {},
     "output_type": "display_data"
    }
   ],
   "source": [
    "# combine the two dataframes\n",
    "df_metadata = pd.read_csv('brainlat_metadata_clean.csv').query('condition!= \"4_MS\"')#.join(filtered_df_subset.set_index('full_path'), on='full_path', how='left')\n",
    "display(df_metadata.head())\n",
    "df_eeg = pd.read_csv('available_eeg.csv')\n",
    "\n",
    "df_eeg = df_eeg.rename(columns={'folder_2': 'id_EEG',  'folder_0': 'condition',\n",
    "    'folder_1': 'country' })[[\"condition\", \"country\", \"id_EEG\",  \"file_loadable\"]]\n",
    "df_eeg.head()\n",
    "df_combined = pd.merge(\n",
    "    df_metadata,\n",
    "    df_eeg,\n",
    "    on=['condition', 'country', 'id_EEG'],\n",
    "    how='left'\n",
    ")\n",
    "display(df_combined.head())\n",
    "df_combined.to_csv('brainlat_metadata_eeg_info.csv', index=False)\n"
   ]
  },
  {
   "cell_type": "code",
   "execution_count": 12,
   "metadata": {},
   "outputs": [
    {
     "data": {
      "application/vnd.microsoft.datawrangler.viewer.v0+json": {
       "columns": [
        {
         "name": "index",
         "rawType": "int64",
         "type": "integer"
        },
        {
         "name": "condition",
         "rawType": "object",
         "type": "string"
        },
        {
         "name": "country",
         "rawType": "object",
         "type": "string"
        },
        {
         "name": "path",
         "rawType": "object",
         "type": "string"
        },
        {
         "name": "id_EEG",
         "rawType": "object",
         "type": "string"
        },
        {
         "name": "diagnosis",
         "rawType": "object",
         "type": "string"
        },
        {
         "name": "T1",
         "rawType": "float64",
         "type": "float"
        },
        {
         "name": "Rest",
         "rawType": "float64",
         "type": "float"
        },
        {
         "name": "DWI",
         "rawType": "float64",
         "type": "float"
        },
        {
         "name": "MF",
         "rawType": "float64",
         "type": "float"
        },
        {
         "name": "eeg",
         "rawType": "float64",
         "type": "float"
        },
        {
         "name": "id",
         "rawType": "object",
         "type": "unknown"
        },
        {
         "name": "id_MRI",
         "rawType": "object",
         "type": "unknown"
        },
        {
         "name": "MRI_path",
         "rawType": "object",
         "type": "unknown"
        },
        {
         "name": "path_demo",
         "rawType": "object",
         "type": "string"
        },
        {
         "name": "id_EEG_demo",
         "rawType": "object",
         "type": "string"
        },
        {
         "name": "diagnosis_demo",
         "rawType": "object",
         "type": "string"
        },
        {
         "name": "sex",
         "rawType": "int64",
         "type": "integer"
        },
        {
         "name": "Age",
         "rawType": "int64",
         "type": "integer"
        },
        {
         "name": "years_education",
         "rawType": "int64",
         "type": "integer"
        },
        {
         "name": "laterality",
         "rawType": "float64",
         "type": "float"
        },
        {
         "name": "condition_demo",
         "rawType": "object",
         "type": "string"
        },
        {
         "name": "id_demo",
         "rawType": "float64",
         "type": "float"
        },
        {
         "name": "id_cog",
         "rawType": "object",
         "type": "string"
        },
        {
         "name": "path_cog",
         "rawType": "object",
         "type": "string"
        },
        {
         "name": "id_EEG_cog",
         "rawType": "object",
         "type": "string"
        },
        {
         "name": "diagnosis_cog",
         "rawType": "object",
         "type": "string"
        },
        {
         "name": "moca_total",
         "rawType": "float64",
         "type": "float"
        },
        {
         "name": "moca_visuospatial",
         "rawType": "float64",
         "type": "float"
        },
        {
         "name": "moca_recog",
         "rawType": "float64",
         "type": "float"
        },
        {
         "name": "moca_attention",
         "rawType": "float64",
         "type": "float"
        },
        {
         "name": "moca_language",
         "rawType": "float64",
         "type": "float"
        },
        {
         "name": "moca_abstraction",
         "rawType": "float64",
         "type": "float"
        },
        {
         "name": "moca_memory",
         "rawType": "float64",
         "type": "float"
        },
        {
         "name": "moca_orientation",
         "rawType": "float64",
         "type": "float"
        },
        {
         "name": "ifs_total_score",
         "rawType": "float64",
         "type": "float"
        },
        {
         "name": "ifs_motor_series",
         "rawType": "float64",
         "type": "float"
        },
        {
         "name": "ifs_conflicting_instructions",
         "rawType": "float64",
         "type": "float"
        },
        {
         "name": "ifs_motor_inhibition",
         "rawType": "float64",
         "type": "float"
        },
        {
         "name": "ifs_digits",
         "rawType": "float64",
         "type": "float"
        },
        {
         "name": "ifs_months",
         "rawType": "float64",
         "type": "float"
        },
        {
         "name": "ifs_visual_wm",
         "rawType": "float64",
         "type": "float"
        },
        {
         "name": "ifs_proverb",
         "rawType": "float64",
         "type": "float"
        },
        {
         "name": "ifs_verbal_inhibition",
         "rawType": "float64",
         "type": "float"
        },
        {
         "name": "mini_sea_fer",
         "rawType": "float64",
         "type": "float"
        },
        {
         "name": "mini_sea_tom",
         "rawType": "float64",
         "type": "float"
        },
        {
         "name": "emotion recog",
         "rawType": "float64",
         "type": "float"
        },
        {
         "name": "condition_cog",
         "rawType": "object",
         "type": "string"
        },
        {
         "name": "MMSE",
         "rawType": "float64",
         "type": "float"
        },
        {
         "name": "file_loadable",
         "rawType": "object",
         "type": "unknown"
        }
       ],
       "conversionMethod": "pd.DataFrame",
       "ref": "05e8cd61-545d-460f-87cc-f68c6f7fe7e8",
       "rows": [
        [
         "18",
         "2_bvFTD",
         "CL",
         "2_bvFTD/CL",
         "sub-20009",
         "FTD",
         "0.0",
         "0.0",
         "0.0",
         "0.0",
         "1.0",
         null,
         null,
         null,
         "2_bvFTD/CL",
         "sub-20009",
         "FTD",
         "1",
         "65",
         "16",
         "1.0",
         "2_bvFTD",
         null,
         "PSL00084",
         "2_bvFTD/CL",
         "sub-20009",
         "FTD",
         null,
         null,
         null,
         null,
         null,
         null,
         null,
         null,
         "13.0",
         "1.0",
         "1.0",
         "2.0",
         "2.0",
         "3.0",
         "3.0",
         "1.0",
         "2.0",
         "0.0",
         "1.0",
         null,
         "2_bvFTD",
         null,
         null
        ]
       ],
       "shape": {
        "columns": 49,
        "rows": 1
       }
      },
      "text/html": [
       "<div>\n",
       "<style scoped>\n",
       "    .dataframe tbody tr th:only-of-type {\n",
       "        vertical-align: middle;\n",
       "    }\n",
       "\n",
       "    .dataframe tbody tr th {\n",
       "        vertical-align: top;\n",
       "    }\n",
       "\n",
       "    .dataframe thead th {\n",
       "        text-align: right;\n",
       "    }\n",
       "</style>\n",
       "<table border=\"1\" class=\"dataframe\">\n",
       "  <thead>\n",
       "    <tr style=\"text-align: right;\">\n",
       "      <th></th>\n",
       "      <th>condition</th>\n",
       "      <th>country</th>\n",
       "      <th>path</th>\n",
       "      <th>id_EEG</th>\n",
       "      <th>diagnosis</th>\n",
       "      <th>T1</th>\n",
       "      <th>Rest</th>\n",
       "      <th>DWI</th>\n",
       "      <th>MF</th>\n",
       "      <th>eeg</th>\n",
       "      <th>...</th>\n",
       "      <th>ifs_months</th>\n",
       "      <th>ifs_visual_wm</th>\n",
       "      <th>ifs_proverb</th>\n",
       "      <th>ifs_verbal_inhibition</th>\n",
       "      <th>mini_sea_fer</th>\n",
       "      <th>mini_sea_tom</th>\n",
       "      <th>emotion recog</th>\n",
       "      <th>condition_cog</th>\n",
       "      <th>MMSE</th>\n",
       "      <th>file_loadable</th>\n",
       "    </tr>\n",
       "  </thead>\n",
       "  <tbody>\n",
       "    <tr>\n",
       "      <th>18</th>\n",
       "      <td>2_bvFTD</td>\n",
       "      <td>CL</td>\n",
       "      <td>2_bvFTD/CL</td>\n",
       "      <td>sub-20009</td>\n",
       "      <td>FTD</td>\n",
       "      <td>0.0</td>\n",
       "      <td>0.0</td>\n",
       "      <td>0.0</td>\n",
       "      <td>0.0</td>\n",
       "      <td>1.0</td>\n",
       "      <td>...</td>\n",
       "      <td>3.0</td>\n",
       "      <td>3.0</td>\n",
       "      <td>1.0</td>\n",
       "      <td>2.0</td>\n",
       "      <td>0.0</td>\n",
       "      <td>1.0</td>\n",
       "      <td>NaN</td>\n",
       "      <td>2_bvFTD</td>\n",
       "      <td>NaN</td>\n",
       "      <td>NaN</td>\n",
       "    </tr>\n",
       "  </tbody>\n",
       "</table>\n",
       "<p>1 rows × 49 columns</p>\n",
       "</div>"
      ],
      "text/plain": [
       "   condition country        path     id_EEG diagnosis   T1  Rest  DWI   MF  \\\n",
       "18   2_bvFTD      CL  2_bvFTD/CL  sub-20009       FTD  0.0   0.0  0.0  0.0   \n",
       "\n",
       "    eeg  ... ifs_months ifs_visual_wm ifs_proverb ifs_verbal_inhibition  \\\n",
       "18  1.0  ...        3.0           3.0         1.0                   2.0   \n",
       "\n",
       "   mini_sea_fer mini_sea_tom  emotion recog  condition_cog  MMSE  \\\n",
       "18          0.0          1.0            NaN        2_bvFTD   NaN   \n",
       "\n",
       "    file_loadable  \n",
       "18            NaN  \n",
       "\n",
       "[1 rows x 49 columns]"
      ]
     },
     "metadata": {},
     "output_type": "display_data"
    },
    {
     "data": {
      "text/plain": [
       "'| condition   | country   | id_EEG    |   file_loadable |\\n|:------------|:----------|:----------|----------------:|\\n| 2_bvFTD     | CL        | sub-20009 |             nan |'"
      ]
     },
     "execution_count": 12,
     "metadata": {},
     "output_type": "execute_result"
    }
   ],
   "source": [
    "non_boolean_loadable = df_combined[~df_combined['file_loadable'].isin([True, False])]\n",
    "display(non_boolean_loadable.head())\n",
    "non_boolean_loadable[['condition', 'country', 'id_EEG', 'file_loadable']].to_markdown(index=False) "
   ]
  }
 ],
 "metadata": {
  "kernelspec": {
   "display_name": "brainlat-3.12.9",
   "language": "python",
   "name": "brainlat-3.12.9"
  },
  "language_info": {
   "codemirror_mode": {
    "name": "ipython",
    "version": 3
   },
   "file_extension": ".py",
   "mimetype": "text/x-python",
   "name": "python",
   "nbconvert_exporter": "python",
   "pygments_lexer": "ipython3",
   "version": "3.12.9"
  }
 },
 "nbformat": 4,
 "nbformat_minor": 2
}
