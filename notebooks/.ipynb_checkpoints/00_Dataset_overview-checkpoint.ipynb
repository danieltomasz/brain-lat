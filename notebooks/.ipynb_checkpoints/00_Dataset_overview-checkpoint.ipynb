{
 "cells": [
  {
   "cell_type": "raw",
   "metadata": {
    "vscode": {
     "languageId": "raw"
    }
   },
   "source": [
    "---\n",
    "title: \"Exploring brainlat dataset\"\n",
    "format: \n",
    "  html:\n",
    "    embed-resources: true\n",
    "    self-contained: true\n",
    "    code-fold: true  # Optional: adds code folding\n",
    "    toc: true  # Optional: adds table of contents\n",
    "    theme: cosmo \n",
    "---"
   ]
  },
  {
   "cell_type": "code",
   "execution_count": null,
   "metadata": {},
   "outputs": [],
   "source": [
    "# | echo: true\n",
    "# | output: false\n",
    "\n",
    "import polars as pl\n",
    "import seaborn.objects as so\n",
    "from tabulate import tabulate\n",
    "import glob\n",
    "import os\n",
    "\n",
    "# Find all files matching the pattern\n",
    "root_dir = \"/Volumes/T7/BrainLat/EEG data\"\n"
   ]
  },
  {
   "cell_type": "code",
   "execution_count": null,
   "metadata": {},
   "outputs": [
    {
     "name": "stdout",
     "output_type": "stream",
     "text": [
      "Error in 2_bvFTD: path\n",
      "\n",
      "Resolved plan until failure:\n",
      "\n",
      "\t---> FAILED HERE RESOLVING 'sink' <---\n",
      "DF [\"id_EEG\", \"diagnosis\", \"sex\", \"Age\", ...]; PROJECT */6 COLUMNS\n",
      "Error in 5_HC: path\n",
      "\n",
      "Resolved plan until failure:\n",
      "\n",
      "\t---> FAILED HERE RESOLVING 'sink' <---\n",
      "DF [\"id_EEG\", \"diagnosis\", \"sex\", \"Age\", ...]; PROJECT */6 COLUMNS\n",
      "Error in 3_PD: path\n",
      "\n",
      "Resolved plan until failure:\n",
      "\n",
      "\t---> FAILED HERE RESOLVING 'sink' <---\n",
      "DF [\"id_EEG\", \"diagnosis\", \"sex\", \"Age\", ...]; PROJECT */6 COLUMNS\n",
      "Error in 1_AD: path\n",
      "\n",
      "Resolved plan until failure:\n",
      "\n",
      "\t---> FAILED HERE RESOLVING 'sink' <---\n",
      "DF [\"id_EEG\", \"diagnosis\", \"sex\", \"Age\", ...]; PROJECT */6 COLUMNS\n",
      "Error in 4_MS: path\n",
      "\n",
      "Resolved plan until failure:\n",
      "\n",
      "\t---> FAILED HERE RESOLVING 'sink' <---\n",
      "DF [\"id_EEG\", \"diagnosis\", \"sex\", \"Age\", ...]; PROJECT */6 COLUMNS\n"
     ]
    }
   ],
   "source": [
    "import polars as pl\n",
    "import os\n",
    "import glob\n",
    "from pathlib import Path\n",
    "\n",
    "def process_folder(folder_path):\n",
    "    try:\n",
    "        # Get the files using simple glob patterns\n",
    "        cognition = glob.glob(f\"{folder_path}/Cognition_*_EEG_data.csv\")[0]\n",
    "        demographics = glob.glob(f\"{folder_path}/Demographics_*_EEG_data.csv\")[0]\n",
    "        records = glob.glob(f\"{folder_path}/Records_*_EEG_data.csv\")[0]\n",
    "        \n",
    "        # Read the CSVs\n",
    "        eeg_columns = [\"path\", \"id_EEG\", \"diagnosis\", \"eeg\"]\n",
    "        demo_columns = ['id_EEG', 'diagnosis', 'sex' ,'Age',  'years_education',  'laterality']\n",
    "        \n",
    "        int_columns = [\n",
    "        'ifs_months', 'ifs_verbal_inhibition', 'laterality', 'moca_total',\n",
    "        'moca_visuospatial', 'moca_recog', 'moca_attention', 'moca_language',\n",
    "        'moca_abstraction', 'moca_memory', 'moca_orientation', 'ifs_total_score',\n",
    "        'ifs_motor_series', 'ifs_conflicting_instructions', 'ifs_motor_inhibition',\n",
    "        'ifs_digits', 'ifs_months', 'ifs_visual_wm', 'ifs_proverb', 'ifs_verbal_inhibition'\n",
    "        ]\n",
    "        \n",
    "        schema = {col: pl.Int64 for col in int_columns}\n",
    "        # Add float columns to the schema\n",
    "        float_columns = ['mini_sea_fer', 'mini_sea_tom']\n",
    "        for col in float_columns:\n",
    "            schema[col] = pl.Float64\n",
    "\n",
    "        records_df = pl.read_csv(records).select(eeg_columns)\n",
    "        # Handle the column name difference\n",
    "        demographics_df = pl.read_csv(demographics, schema_overrides={'laterality':pl.Int64 }).rename({\"id EEG\": \"id_EEG\"}).select(demo_columns)\n",
    "        cognition_df = pl.read_csv(cognition,  schema_overrides=schema).rename({\"id EEG\": \"id_EEG\"})\n",
    "\n",
    "        # Join the dataframes\n",
    "        joined_df = (\n",
    "            records_df\n",
    "            .join(demographics_df, on=[\"id_EEG\",  \"diagnosis\"], suffix=\"_demo\")\n",
    "            .join(cognition_df, on=[\"id_EEG\", \"diagnosis\"], suffix=\"_cog\")\n",
    "            .with_columns(pl.lit(Path(folder_path).name).alias(\"condition\"))\n",
    "        )\n",
    "        print(joined_df.head())\n",
    "        return joined_df\n",
    "    \n",
    "    except (IndexError, Exception) as e:\n",
    "        print(f\"Error in {Path(folder_path).name}: {e}\")\n",
    "        return None\n",
    "\n",
    "# Find all condition folders and process them\n",
    "root_dir = \"/Volumes/T7/BrainLat/EEG data\"\n",
    "all_processed_dfs = [\n",
    "    df for df in [\n",
    "        process_folder(folder) \n",
    "        for folder in glob.glob(f\"{root_dir}/*_*\")\n",
    "        if os.path.isdir(folder)\n",
    "    ] \n",
    "    if df is not None\n",
    "]\n",
    "\n"
   ]
  },
  {
   "cell_type": "code",
   "execution_count": 90,
   "metadata": {},
   "outputs": [
    {
     "name": "stdout",
     "output_type": "stream",
     "text": [
      "shape: (5, 32)\n",
      "┌─────────┬───────────┬───────────┬─────┬───┬───────────────┬───────────┬──────────┬──────┐\n",
      "│ path    ┆ id_EEG    ┆ diagnosis ┆ eeg ┆ … ┆ emotion recog ┆ condition ┆ path_cog ┆ MMSE │\n",
      "│ ---     ┆ ---       ┆ ---       ┆ --- ┆   ┆ ---           ┆ ---       ┆ ---      ┆ ---  │\n",
      "│ str     ┆ str       ┆ str       ┆ i64 ┆   ┆ str           ┆ str       ┆ str      ┆ i64  │\n",
      "╞═════════╪═══════════╪═══════════╪═════╪═══╪═══════════════╪═══════════╪══════════╪══════╡\n",
      "│ 1_AD/AR ┆ sub-30001 ┆ AD        ┆ 1   ┆ … ┆ null          ┆ 1_AD      ┆ 1_AD/AR  ┆ null │\n",
      "│ 1_AD/AR ┆ sub-30002 ┆ AD        ┆ 1   ┆ … ┆ null          ┆ 1_AD      ┆ 1_AD/AR  ┆ null │\n",
      "│ 1_AD/AR ┆ sub-30004 ┆ AD        ┆ 1   ┆ … ┆ null          ┆ 1_AD      ┆ 1_AD/AR  ┆ null │\n",
      "│ 1_AD/AR ┆ sub-30008 ┆ AD        ┆ 1   ┆ … ┆ null          ┆ 1_AD      ┆ 1_AD/AR  ┆ null │\n",
      "│ 1_AD/AR ┆ sub-30009 ┆ AD        ┆ 1   ┆ … ┆ null          ┆ 1_AD      ┆ 1_AD/AR  ┆ null │\n",
      "└─────────┴───────────┴───────────┴─────┴───┴───────────────┴───────────┴──────────┴──────┘\n"
     ]
    }
   ],
   "source": [
    "combined_df = pl.concat(all_processed_dfs, how=\"diagonal\").sort(\"path\")\n",
    "\n",
    "print(combined_df.head())\n",
    "combined_df  = combined_df.drop([\"path_cog\", \"emotion recog\", \"MMSE\", \"id\"]).with_columns([\n",
    "        pl.col(\"path\").str.split(\"/\").list.get(1).alias(\"country\")\n",
    "    ])\n",
    "\n",
    "# For specific column names\n",
    "\n",
    "columns_to_move = [\"condition\", \"country\"]\n",
    "\n",
    "# Move to beginning\n",
    "new_column_order = columns_to_move + [col for col in combined_df.columns if col not in columns_to_move]\n",
    "result_df = combined_df.select(new_column_order)\n",
    "\n",
    "\n",
    "result_df.write_csv(\"brainlat_metadata.csv\")\n"
   ]
  },
  {
   "cell_type": "code",
   "execution_count": 91,
   "metadata": {},
   "outputs": [
    {
     "name": "stdout",
     "output_type": "stream",
     "text": [
      "Reference schema (first dataframe):\n",
      "path: String\n",
      "id_EEG: String\n",
      "diagnosis: String\n",
      "eeg: Int64\n",
      "sex: Int64\n",
      "Age: Int64\n",
      "years_education: Int64\n",
      "laterality: Int64\n",
      "id: String\n",
      "moca_total: Int64\n",
      "moca_visuospatial: Int64\n",
      "moca_recog: Int64\n",
      "moca_attention: Int64\n",
      "moca_language: Int64\n",
      "moca_abstraction: Int64\n",
      "moca_memory: Int64\n",
      "moca_orientation: Int64\n",
      "ifs_total_score: Int64\n",
      "ifs_motor_series: Int64\n",
      "ifs_conflicting_instructions: Int64\n",
      "ifs_motor_inhibition: Int64\n",
      "ifs_digits: Int64\n",
      "ifs_months: Int64\n",
      "ifs_visual_wm: Int64\n",
      "ifs_proverb: Int64\n",
      "ifs_verbal_inhibition: Int64\n",
      "mini_sea_fer: Float64\n",
      "mini_sea_tom: Float64\n",
      "emotion recog: String\n",
      "condition: String\n",
      "Combined dataframe shape: (172, 32)\n",
      "Successfully saved to combined_eeg_data.csv\n"
     ]
    }
   ],
   "source": [
    "# In a separate notebook cell\n",
    "# Check schemas to identify mismatches\n",
    "if 'all_processed_dfs' in globals() and all_processed_dfs:\n",
    "    # Print schema of first dataframe as reference\n",
    "    print(\"Reference schema (first dataframe):\")\n",
    "    for col, dtype in zip(all_processed_dfs[0].columns, all_processed_dfs[0].dtypes):\n",
    "        print(f\"{col}: {dtype}\")\n",
    "    \n",
    "    # Check for type inconsistencies\n",
    "    for i, df in enumerate(all_processed_dfs[1:], 1):\n",
    "        for col in df.columns:\n",
    "            if col in all_processed_dfs[0].columns:\n",
    "                ref_type = all_processed_dfs[0].schema[col]\n",
    "                curr_type = df.schema[col]\n",
    "                if ref_type != curr_type:\n",
    "                    print(f\"Type mismatch in dataframe {i}, column '{col}': {ref_type} vs {curr_type}\")\n",
    "    \n",
    "    # Now try to concatenate\n",
    "    try:\n",
    "        combined_df = pl.concat(all_processed_dfs, how=\"diagonal\")\n",
    "        print(f\"Combined dataframe shape: {combined_df.shape}\")\n",
    "        \n",
    "        # Save result\n",
    "        combined_df.write_csv(\"combined_eeg_data.csv\")\n",
    "        print(\"Successfully saved to combined_eeg_data.csv\")\n",
    "    except Exception as e:\n",
    "        print(f\"Error during concatenation: {e}\")\n",
    "        print(\"You may need to convert column types to be consistent\")\n",
    "else:\n",
    "    print(\"No processed dataframes found\")"
   ]
  },
  {
   "cell_type": "markdown",
   "metadata": {},
   "source": [
    "First lets have 2 models first model that is used only on behavioral variables, then the second we use only on the people who have a eeg data\n"
   ]
  },
  {
   "cell_type": "code",
   "execution_count": 95,
   "metadata": {
    "execution": {
     "iopub.execute_input": "2024-01-22T01:12:53.335193Z",
     "iopub.status.busy": "2024-01-22T01:12:53.335079Z",
     "iopub.status.idle": "2024-01-22T01:12:53.342311Z",
     "shell.execute_reply": "2024-01-22T01:12:53.342031Z"
    }
   },
   "outputs": [
    {
     "data": {
      "text/html": [
       "<div><style>\n",
       ".dataframe > thead > tr,\n",
       ".dataframe > tbody > tr {\n",
       "  text-align: right;\n",
       "  white-space: pre-wrap;\n",
       "}\n",
       "</style>\n",
       "<small>shape: (5, 29)</small><table border=\"1\" class=\"dataframe\"><thead><tr><th>diagnosis</th><th>condition</th><th>country</th><th>path</th><th>id_EEG</th><th>eeg</th><th>sex</th><th>Age</th><th>years_education</th><th>laterality</th><th>moca_total</th><th>moca_visuospatial</th><th>moca_recog</th><th>moca_attention</th><th>moca_language</th><th>moca_abstraction</th><th>moca_memory</th><th>moca_orientation</th><th>ifs_total_score</th><th>ifs_motor_series</th><th>ifs_conflicting_instructions</th><th>ifs_motor_inhibition</th><th>ifs_digits</th><th>ifs_months</th><th>ifs_visual_wm</th><th>ifs_proverb</th><th>ifs_verbal_inhibition</th><th>mini_sea_fer</th><th>mini_sea_tom</th></tr><tr><td>str</td><td>u32</td><td>u32</td><td>u32</td><td>u32</td><td>u32</td><td>u32</td><td>u32</td><td>u32</td><td>u32</td><td>u32</td><td>u32</td><td>u32</td><td>u32</td><td>u32</td><td>u32</td><td>u32</td><td>u32</td><td>u32</td><td>u32</td><td>u32</td><td>u32</td><td>u32</td><td>u32</td><td>u32</td><td>u32</td><td>u32</td><td>u32</td><td>u32</td></tr></thead><tbody><tr><td>&quot;PD&quot;</td><td>34</td><td>34</td><td>34</td><td>34</td><td>34</td><td>34</td><td>34</td><td>34</td><td>34</td><td>34</td><td>15</td><td>15</td><td>34</td><td>34</td><td>34</td><td>34</td><td>34</td><td>34</td><td>15</td><td>15</td><td>15</td><td>19</td><td>0</td><td>34</td><td>19</td><td>0</td><td>34</td><td>34</td></tr><tr><td>&quot;CN&quot;</td><td>46</td><td>46</td><td>46</td><td>46</td><td>45</td><td>46</td><td>46</td><td>46</td><td>46</td><td>31</td><td>31</td><td>31</td><td>31</td><td>31</td><td>31</td><td>31</td><td>31</td><td>28</td><td>25</td><td>25</td><td>24</td><td>24</td><td>24</td><td>24</td><td>24</td><td>26</td><td>30</td><td>30</td></tr><tr><td>&quot;MS&quot;</td><td>32</td><td>32</td><td>32</td><td>32</td><td>32</td><td>32</td><td>32</td><td>32</td><td>0</td><td>0</td><td>0</td><td>0</td><td>0</td><td>0</td><td>0</td><td>0</td><td>0</td><td>0</td><td>0</td><td>0</td><td>0</td><td>0</td><td>0</td><td>0</td><td>0</td><td>0</td><td>0</td><td>0</td></tr><tr><td>&quot;AD&quot;</td><td>35</td><td>35</td><td>35</td><td>35</td><td>35</td><td>35</td><td>35</td><td>35</td><td>34</td><td>29</td><td>29</td><td>29</td><td>29</td><td>29</td><td>29</td><td>29</td><td>29</td><td>33</td><td>31</td><td>30</td><td>31</td><td>31</td><td>31</td><td>31</td><td>31</td><td>31</td><td>31</td><td>31</td></tr><tr><td>&quot;FTD&quot;</td><td>25</td><td>25</td><td>25</td><td>25</td><td>25</td><td>25</td><td>25</td><td>25</td><td>24</td><td>17</td><td>17</td><td>17</td><td>17</td><td>17</td><td>17</td><td>17</td><td>17</td><td>23</td><td>23</td><td>23</td><td>23</td><td>23</td><td>22</td><td>23</td><td>23</td><td>25</td><td>25</td><td>25</td></tr></tbody></table></div>"
      ],
      "text/plain": [
       "shape: (5, 29)\n",
       "┌───────────┬───────────┬─────────┬──────┬───┬─────────────┬─────────────┬────────────┬────────────┐\n",
       "│ diagnosis ┆ condition ┆ country ┆ path ┆ … ┆ ifs_proverb ┆ ifs_verbal_ ┆ mini_sea_f ┆ mini_sea_t │\n",
       "│ ---       ┆ ---       ┆ ---     ┆ ---  ┆   ┆ ---         ┆ inhibition  ┆ er         ┆ om         │\n",
       "│ str       ┆ u32       ┆ u32     ┆ u32  ┆   ┆ u32         ┆ ---         ┆ ---        ┆ ---        │\n",
       "│           ┆           ┆         ┆      ┆   ┆             ┆ u32         ┆ u32        ┆ u32        │\n",
       "╞═══════════╪═══════════╪═════════╪══════╪═══╪═════════════╪═════════════╪════════════╪════════════╡\n",
       "│ PD        ┆ 34        ┆ 34      ┆ 34   ┆ … ┆ 19          ┆ 0           ┆ 34         ┆ 34         │\n",
       "│ CN        ┆ 46        ┆ 46      ┆ 46   ┆ … ┆ 24          ┆ 26          ┆ 30         ┆ 30         │\n",
       "│ MS        ┆ 32        ┆ 32      ┆ 32   ┆ … ┆ 0           ┆ 0           ┆ 0          ┆ 0          │\n",
       "│ AD        ┆ 35        ┆ 35      ┆ 35   ┆ … ┆ 31          ┆ 31          ┆ 31         ┆ 31         │\n",
       "│ FTD       ┆ 25        ┆ 25      ┆ 25   ┆ … ┆ 23          ┆ 25          ┆ 25         ┆ 25         │\n",
       "└───────────┴───────────┴─────────┴──────┴───┴─────────────┴─────────────┴────────────┴────────────┘"
      ]
     },
     "metadata": {},
     "output_type": "display_data"
    }
   ],
   "source": [
    "# | output: false\n",
    "\n",
    "cognition_path = \"brainlat_metadata.csv\"\n",
    "cognition_all = (\n",
    "    pl.scan_csv(cognition_path)\n",
    "    .collect()\n",
    "    .filter(~pl.all_horizontal(pl.all().is_null()))\n",
    "    .group_by(\"diagnosis\")\n",
    "    .agg(pl.all().count())\n",
    ")\n",
    "display(cognition_all)"
   ]
  },
  {
   "cell_type": "code",
   "execution_count": 98,
   "metadata": {
    "execution": {
     "iopub.execute_input": "2024-01-22T01:12:53.343768Z",
     "iopub.status.busy": "2024-01-22T01:12:53.343659Z",
     "iopub.status.idle": "2024-01-22T01:12:53.347988Z",
     "shell.execute_reply": "2024-01-22T01:12:53.347723Z"
    }
   },
   "outputs": [
    {
     "name": "stdout",
     "output_type": "stream",
     "text": [
      "+------------------------------+------+------+------+------+-------+\n",
      "|                              |   PD |   CN |   MS |   AD |   FTD |\n",
      "+==============================+======+======+======+======+=======+\n",
      "| condition                    |   34 |   46 |   32 |   35 |    25 |\n",
      "+------------------------------+------+------+------+------+-------+\n",
      "| country                      |   34 |   46 |   32 |   35 |    25 |\n",
      "+------------------------------+------+------+------+------+-------+\n",
      "| path                         |   34 |   46 |   32 |   35 |    25 |\n",
      "+------------------------------+------+------+------+------+-------+\n",
      "| id_EEG                       |   34 |   46 |   32 |   35 |    25 |\n",
      "+------------------------------+------+------+------+------+-------+\n",
      "| eeg                          |   34 |   45 |   32 |   35 |    25 |\n",
      "+------------------------------+------+------+------+------+-------+\n",
      "| sex                          |   34 |   46 |   32 |   35 |    25 |\n",
      "+------------------------------+------+------+------+------+-------+\n",
      "| Age                          |   34 |   46 |   32 |   35 |    25 |\n",
      "+------------------------------+------+------+------+------+-------+\n",
      "| years_education              |   34 |   46 |   32 |   35 |    25 |\n",
      "+------------------------------+------+------+------+------+-------+\n",
      "| laterality                   |   34 |   46 |    0 |   34 |    24 |\n",
      "+------------------------------+------+------+------+------+-------+\n",
      "| moca_total                   |   34 |   31 |    0 |   29 |    17 |\n",
      "+------------------------------+------+------+------+------+-------+\n",
      "| moca_visuospatial            |   15 |   31 |    0 |   29 |    17 |\n",
      "+------------------------------+------+------+------+------+-------+\n",
      "| moca_recog                   |   15 |   31 |    0 |   29 |    17 |\n",
      "+------------------------------+------+------+------+------+-------+\n",
      "| moca_attention               |   34 |   31 |    0 |   29 |    17 |\n",
      "+------------------------------+------+------+------+------+-------+\n",
      "| moca_language                |   34 |   31 |    0 |   29 |    17 |\n",
      "+------------------------------+------+------+------+------+-------+\n",
      "| moca_abstraction             |   34 |   31 |    0 |   29 |    17 |\n",
      "+------------------------------+------+------+------+------+-------+\n",
      "| moca_memory                  |   34 |   31 |    0 |   29 |    17 |\n",
      "+------------------------------+------+------+------+------+-------+\n",
      "| moca_orientation             |   34 |   31 |    0 |   29 |    17 |\n",
      "+------------------------------+------+------+------+------+-------+\n",
      "| ifs_total_score              |   34 |   28 |    0 |   33 |    23 |\n",
      "+------------------------------+------+------+------+------+-------+\n",
      "| ifs_motor_series             |   15 |   25 |    0 |   31 |    23 |\n",
      "+------------------------------+------+------+------+------+-------+\n",
      "| ifs_conflicting_instructions |   15 |   25 |    0 |   30 |    23 |\n",
      "+------------------------------+------+------+------+------+-------+\n",
      "| ifs_motor_inhibition         |   15 |   24 |    0 |   31 |    23 |\n",
      "+------------------------------+------+------+------+------+-------+\n",
      "| ifs_digits                   |   19 |   24 |    0 |   31 |    23 |\n",
      "+------------------------------+------+------+------+------+-------+\n",
      "| ifs_months                   |    0 |   24 |    0 |   31 |    22 |\n",
      "+------------------------------+------+------+------+------+-------+\n",
      "| ifs_visual_wm                |   34 |   24 |    0 |   31 |    23 |\n",
      "+------------------------------+------+------+------+------+-------+\n",
      "| ifs_proverb                  |   19 |   24 |    0 |   31 |    23 |\n",
      "+------------------------------+------+------+------+------+-------+\n",
      "| ifs_verbal_inhibition        |    0 |   26 |    0 |   31 |    25 |\n",
      "+------------------------------+------+------+------+------+-------+\n",
      "| mini_sea_fer                 |   34 |   30 |    0 |   31 |    25 |\n",
      "+------------------------------+------+------+------+------+-------+\n",
      "| mini_sea_tom                 |   34 |   30 |    0 |   31 |    25 |\n",
      "+------------------------------+------+------+------+------+-------+\n"
     ]
    }
   ],
   "source": [
    "df_all = cognition_all.to_pandas().T\n",
    "df_all.columns = df_all.iloc[0]\n",
    "df_all = df_all.iloc[1:]\n",
    "print(tabulate(df_all, headers=\"keys\", tablefmt=\"grid\"))"
   ]
  }
 ],
 "metadata": {
  "kernelspec": {
   "display_name": "brainlat-3.12.9",
   "language": "python",
   "name": "brainlat-3.12.9"
  },
  "language_info": {
   "codemirror_mode": {
    "name": "ipython",
    "version": 3
   },
   "file_extension": ".py",
   "mimetype": "text/x-python",
   "name": "python",
   "nbconvert_exporter": "python",
   "pygments_lexer": "ipython3",
   "version": "3.12.9"
  }
 },
 "nbformat": 4,
 "nbformat_minor": 2
}
