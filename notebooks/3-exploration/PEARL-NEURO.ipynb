{
 "cells": [
  {
   "cell_type": "raw",
   "metadata": {},
   "source": [
    "---\n",
    "title: \"Untitled\"\n",
    "format: html\n",
    "---"
   ]
  },
  {
   "cell_type": "code",
   "execution_count": 1,
   "metadata": {},
   "outputs": [
    {
     "name": "stdout",
     "output_type": "stream",
     "text": [
      "shape: (192, 87)\n",
      "┌────────────┬────────────┬────────────┬───────────┬───┬───────────┬───────────┬───────────┬───────┐\n",
      "│ participan ┆ second_pha ┆ session_or ┆ APOE_rs42 ┆ … ┆ non-HDL_c ┆ LDL_chole ┆ triglycer ┆ HSV_r │\n",
      "│ t_id       ┆ se         ┆ der        ┆ 9358      ┆   ┆ holestero ┆ sterol    ┆ ides      ┆ ---   │\n",
      "│ ---        ┆ ---        ┆ ---        ┆ ---       ┆   ┆ l         ┆ ---       ┆ ---       ┆ i64   │\n",
      "│ str        ┆ i64        ┆ i64        ┆ str       ┆   ┆ ---       ┆ f64       ┆ f64       ┆       │\n",
      "│            ┆            ┆            ┆           ┆   ┆ f64       ┆           ┆           ┆       │\n",
      "╞════════════╪════════════╪════════════╪═══════════╪═══╪═══════════╪═══════════╪═══════════╪═══════╡\n",
      "│ sub-01     ┆ 1          ┆ 1          ┆ T/T       ┆ … ┆ 136.4     ┆ 100.48    ┆ 179.6     ┆ 1     │\n",
      "│ sub-02     ┆ 1          ┆ 1          ┆ T/T       ┆ … ┆ 117.3     ┆ 84.56     ┆ 163.7     ┆ 1     │\n",
      "│ sub-03     ┆ 1          ┆ 0          ┆ T/T       ┆ … ┆ 109.6     ┆ 100.88    ┆ 43.6      ┆ 1     │\n",
      "│ sub-04     ┆ 1          ┆ 0          ┆ T/T       ┆ … ┆ 170.6     ┆ 154.3     ┆ 81.5      ┆ 0     │\n",
      "│ sub-05     ┆ 1          ┆ 0          ┆ T/T       ┆ … ┆ 217.0     ┆ 188.28    ┆ 143.6     ┆ 1     │\n",
      "│ …          ┆ …          ┆ …          ┆ …         ┆ … ┆ …         ┆ …         ┆ …         ┆ …     │\n",
      "│ sub-95     ┆ 0          ┆ null       ┆ T/T       ┆ … ┆ null      ┆ null      ┆ null      ┆ null  │\n",
      "│ sub-96     ┆ 0          ┆ null       ┆ T/T       ┆ … ┆ null      ┆ null      ┆ null      ┆ null  │\n",
      "│ sub-97     ┆ 0          ┆ null       ┆ T/T       ┆ … ┆ null      ┆ null      ┆ null      ┆ null  │\n",
      "│ sub-98     ┆ 0          ┆ null       ┆ T/T       ┆ … ┆ null      ┆ null      ┆ null      ┆ null  │\n",
      "│ sub-99     ┆ 0          ┆ null       ┆ T/T       ┆ … ┆ null      ┆ null      ┆ null      ┆ null  │\n",
      "└────────────┴────────────┴────────────┴───────────┴───┴───────────┴───────────┴───────────┴───────┘\n",
      "shape: (192, 87)\n",
      "┌────────────┬────────────┬────────────┬───────────┬───┬───────────┬───────────┬───────────┬───────┐\n",
      "│ participan ┆ second_pha ┆ session_or ┆ APOE_rs42 ┆ … ┆ non-HDL_c ┆ LDL_chole ┆ triglycer ┆ HSV_r │\n",
      "│ t_id       ┆ se         ┆ der        ┆ 9358      ┆   ┆ holestero ┆ sterol    ┆ ides      ┆ ---   │\n",
      "│ ---        ┆ ---        ┆ ---        ┆ ---       ┆   ┆ l         ┆ ---       ┆ ---       ┆ i64   │\n",
      "│ str        ┆ i64        ┆ i64        ┆ str       ┆   ┆ ---       ┆ f64       ┆ f64       ┆       │\n",
      "│            ┆            ┆            ┆           ┆   ┆ f64       ┆           ┆           ┆       │\n",
      "╞════════════╪════════════╪════════════╪═══════════╪═══╪═══════════╪═══════════╪═══════════╪═══════╡\n",
      "│ sub-01     ┆ 1          ┆ 1          ┆ T/T       ┆ … ┆ 136.4     ┆ 100.48    ┆ 179.6     ┆ 1     │\n",
      "│ sub-02     ┆ 1          ┆ 1          ┆ T/T       ┆ … ┆ 117.3     ┆ 84.56     ┆ 163.7     ┆ 1     │\n",
      "│ sub-03     ┆ 1          ┆ 0          ┆ T/T       ┆ … ┆ 109.6     ┆ 100.88    ┆ 43.6      ┆ 1     │\n",
      "│ sub-04     ┆ 1          ┆ 0          ┆ T/T       ┆ … ┆ 170.6     ┆ 154.3     ┆ 81.5      ┆ 0     │\n",
      "│ sub-05     ┆ 1          ┆ 0          ┆ T/T       ┆ … ┆ 217.0     ┆ 188.28    ┆ 143.6     ┆ 1     │\n",
      "│ …          ┆ …          ┆ …          ┆ …         ┆ … ┆ …         ┆ …         ┆ …         ┆ …     │\n",
      "│ sub-95     ┆ 0          ┆ null       ┆ T/T       ┆ … ┆ null      ┆ null      ┆ null      ┆ null  │\n",
      "│ sub-96     ┆ 0          ┆ null       ┆ T/T       ┆ … ┆ null      ┆ null      ┆ null      ┆ null  │\n",
      "│ sub-97     ┆ 0          ┆ null       ┆ T/T       ┆ … ┆ null      ┆ null      ┆ null      ┆ null  │\n",
      "│ sub-98     ┆ 0          ┆ null       ┆ T/T       ┆ … ┆ null      ┆ null      ┆ null      ┆ null  │\n",
      "│ sub-99     ┆ 0          ┆ null       ┆ T/T       ┆ … ┆ null      ┆ null      ┆ null      ┆ null  │\n",
      "└────────────┴────────────┴────────────┴───────────┴───┴───────────┴───────────┴───────────┴───────┘\n"
     ]
    }
   ],
   "source": [
    "import polars as pl\n",
    "import io\n",
    "\n",
    "# Replace 'your_file.tsv' with the path to your TSV file\n",
    "df = pl.read_csv('participants.tsv', separator='\\t', null_values=[\"n/a\"], infer_schema_length=200)\n",
    "\n",
    "print(df)"
   ]
  },
  {
   "cell_type": "code",
   "execution_count": 17,
   "metadata": {},
   "outputs": [
    {
     "name": "stdout",
     "output_type": "stream",
     "text": [
      "APOE_haplotype Counts:\n"
     ]
    },
    {
     "data": {
      "text/html": [
       "<div><style>\n",
       ".dataframe > thead > tr,\n",
       ".dataframe > tbody > tr {\n",
       "  text-align: right;\n",
       "  white-space: pre-wrap;\n",
       "}\n",
       "</style>\n",
       "<small>shape: (7, 2)</small><table border=\"1\" class=\"dataframe\"><thead><tr><th>APOE_haplotype</th><th>count</th></tr><tr><td>str</td><td>u32</td></tr></thead><tbody><tr><td>&quot;e4/e4&quot;</td><td>2</td></tr><tr><td>&quot;e2/e2&quot;</td><td>1</td></tr><tr><td>&quot;e3/e2 &quot;</td><td>2</td></tr><tr><td>&quot;e3/e3&quot;</td><td>119</td></tr><tr><td>&quot;e2/e4&quot;</td><td>3</td></tr><tr><td>&quot;e3/e4&quot;</td><td>46</td></tr><tr><td>&quot;e3/e2&quot;</td><td>19</td></tr></tbody></table></div>"
      ],
      "text/plain": [
       "shape: (7, 2)\n",
       "┌────────────────┬───────┐\n",
       "│ APOE_haplotype ┆ count │\n",
       "│ ---            ┆ ---   │\n",
       "│ str            ┆ u32   │\n",
       "╞════════════════╪═══════╡\n",
       "│ e4/e4          ┆ 2     │\n",
       "│ e2/e2          ┆ 1     │\n",
       "│ e3/e2          ┆ 2     │\n",
       "│ e3/e3          ┆ 119   │\n",
       "│ e2/e4          ┆ 3     │\n",
       "│ e3/e4          ┆ 46    │\n",
       "│ e3/e2          ┆ 19    │\n",
       "└────────────────┴───────┘"
      ]
     },
     "metadata": {},
     "output_type": "display_data"
    },
    {
     "name": "stdout",
     "output_type": "stream",
     "text": [
      "APOE_rs429358 Counts:\n"
     ]
    },
    {
     "data": {
      "text/html": [
       "<div><style>\n",
       ".dataframe > thead > tr,\n",
       ".dataframe > tbody > tr {\n",
       "  text-align: right;\n",
       "  white-space: pre-wrap;\n",
       "}\n",
       "</style>\n",
       "<small>shape: (4, 2)</small><table border=\"1\" class=\"dataframe\"><thead><tr><th>APOE_rs429358</th><th>count</th></tr><tr><td>str</td><td>u32</td></tr></thead><tbody><tr><td>&quot;T/?&quot;</td><td>1</td></tr><tr><td>&quot;T/T&quot;</td><td>140</td></tr><tr><td>&quot;T/C&quot;</td><td>49</td></tr><tr><td>&quot;C/C&quot;</td><td>2</td></tr></tbody></table></div>"
      ],
      "text/plain": [
       "shape: (4, 2)\n",
       "┌───────────────┬───────┐\n",
       "│ APOE_rs429358 ┆ count │\n",
       "│ ---           ┆ ---   │\n",
       "│ str           ┆ u32   │\n",
       "╞═══════════════╪═══════╡\n",
       "│ T/?           ┆ 1     │\n",
       "│ T/T           ┆ 140   │\n",
       "│ T/C           ┆ 49    │\n",
       "│ C/C           ┆ 2     │\n",
       "└───────────────┴───────┘"
      ]
     },
     "metadata": {},
     "output_type": "display_data"
    },
    {
     "name": "stdout",
     "output_type": "stream",
     "text": [
      "education Counts:\n"
     ]
    },
    {
     "data": {
      "text/html": [
       "<div><style>\n",
       ".dataframe > thead > tr,\n",
       ".dataframe > tbody > tr {\n",
       "  text-align: right;\n",
       "  white-space: pre-wrap;\n",
       "}\n",
       "</style>\n",
       "<small>shape: (4, 2)</small><table border=\"1\" class=\"dataframe\"><thead><tr><th>education</th><th>count</th></tr><tr><td>i64</td><td>u32</td></tr></thead><tbody><tr><td>null</td><td>18</td></tr><tr><td>1</td><td>20</td></tr><tr><td>3</td><td>149</td></tr><tr><td>2</td><td>5</td></tr></tbody></table></div>"
      ],
      "text/plain": [
       "shape: (4, 2)\n",
       "┌───────────┬───────┐\n",
       "│ education ┆ count │\n",
       "│ ---       ┆ ---   │\n",
       "│ i64       ┆ u32   │\n",
       "╞═══════════╪═══════╡\n",
       "│ null      ┆ 18    │\n",
       "│ 1         ┆ 20    │\n",
       "│ 3         ┆ 149   │\n",
       "│ 2         ┆ 5     │\n",
       "└───────────┴───────┘"
      ]
     },
     "metadata": {},
     "output_type": "display_data"
    }
   ],
   "source": [
    "# Count the different levels of APOE_haplotype\n",
    "for col in  [\"APOE_haplotype\", \"APOE_rs429358\", \"education\"]:\n",
    "    apoe_counts = df[col].value_counts()\n",
    "\n",
    "    print(f\"{col} Counts:\")\n",
    "    display(apoe_counts)"
   ]
  },
  {
   "cell_type": "code",
   "execution_count": 18,
   "metadata": {},
   "outputs": [
    {
     "data": {
      "text/html": [
       "<div><style>\n",
       ".dataframe > thead > tr,\n",
       ".dataframe > tbody > tr {\n",
       "  text-align: right;\n",
       "  white-space: pre-wrap;\n",
       "}\n",
       "</style>\n",
       "<small>shape: (9, 88)</small><table border=\"1\" class=\"dataframe\"><thead><tr><th>statistic</th><th>participant_id</th><th>second_phase</th><th>session_order</th><th>APOE_rs429358</th><th>APOE_rs7412</th><th>APOE_haplotype</th><th>PICALM_rs3851179</th><th>age</th><th>sex</th><th>education</th><th>learning_deficits</th><th>BMI</th><th>allergies</th><th>drugs</th><th>ibuprofen_intake</th><th>thyroid_diseases</th><th>hypertension</th><th>diabetes</th><th>other_diseases</th><th>smoking_status</th><th>coffee_status</th><th>dementia_history_parents</th><th>BDI</th><th>SES</th><th>RPM</th><th>EHI</th><th>NEO_NEU</th><th>NEO_EXT</th><th>NEO_OPE</th><th>NEO_AGR</th><th>NEO_CON</th><th>AUDIT</th><th>MINI-COPE_1</th><th>MINI-COPE_2</th><th>MINI-COPE_3</th><th>MINI-COPE_4</th><th>&hellip;</th><th>CVLT_5</th><th>CVLT_6</th><th>CVLT_7</th><th>CVLT_8</th><th>CVLT_9</th><th>CVLT_10</th><th>CVLT_11</th><th>CVLT_12</th><th>CVLT_13</th><th>leukocytes</th><th>erythrocytes</th><th>hemoglobin</th><th>hematocrit</th><th>MCV</th><th>MCH</th><th>MCHC</th><th>RDW-CV</th><th>platelets</th><th>PDW</th><th>MPV</th><th>P-LCR</th><th>neutrophils</th><th>lymphocytes</th><th>monocytes</th><th>eosinophils</th><th>basophils</th><th>neutrophils_%</th><th>lymphocytes_%</th><th>monocytes_%</th><th>eosinophils_%</th><th>basophils_%</th><th>total_cholesterol</th><th>cholesterol_HDL</th><th>non-HDL_cholesterol</th><th>LDL_cholesterol</th><th>triglycerides</th><th>HSV_r</th></tr><tr><td>str</td><td>str</td><td>f64</td><td>f64</td><td>str</td><td>str</td><td>str</td><td>str</td><td>f64</td><td>f64</td><td>f64</td><td>str</td><td>f64</td><td>f64</td><td>f64</td><td>f64</td><td>f64</td><td>f64</td><td>f64</td><td>f64</td><td>f64</td><td>f64</td><td>f64</td><td>f64</td><td>f64</td><td>f64</td><td>f64</td><td>f64</td><td>f64</td><td>f64</td><td>f64</td><td>f64</td><td>f64</td><td>f64</td><td>f64</td><td>f64</td><td>f64</td><td>&hellip;</td><td>f64</td><td>f64</td><td>f64</td><td>f64</td><td>f64</td><td>f64</td><td>f64</td><td>f64</td><td>f64</td><td>f64</td><td>f64</td><td>f64</td><td>f64</td><td>f64</td><td>f64</td><td>f64</td><td>f64</td><td>f64</td><td>f64</td><td>f64</td><td>f64</td><td>f64</td><td>f64</td><td>f64</td><td>f64</td><td>f64</td><td>f64</td><td>f64</td><td>f64</td><td>f64</td><td>f64</td><td>f64</td><td>f64</td><td>f64</td><td>f64</td><td>f64</td><td>f64</td></tr></thead><tbody><tr><td>&quot;count&quot;</td><td>&quot;192&quot;</td><td>192.0</td><td>70.0</td><td>&quot;192&quot;</td><td>&quot;192&quot;</td><td>&quot;192&quot;</td><td>&quot;192&quot;</td><td>192.0</td><td>192.0</td><td>174.0</td><td>&quot;175&quot;</td><td>192.0</td><td>73.0</td><td>192.0</td><td>191.0</td><td>191.0</td><td>191.0</td><td>192.0</td><td>189.0</td><td>191.0</td><td>192.0</td><td>192.0</td><td>192.0</td><td>192.0</td><td>192.0</td><td>192.0</td><td>191.0</td><td>191.0</td><td>191.0</td><td>191.0</td><td>191.0</td><td>192.0</td><td>190.0</td><td>188.0</td><td>187.0</td><td>188.0</td><td>&hellip;</td><td>192.0</td><td>192.0</td><td>192.0</td><td>192.0</td><td>192.0</td><td>192.0</td><td>192.0</td><td>191.0</td><td>191.0</td><td>76.0</td><td>76.0</td><td>76.0</td><td>76.0</td><td>76.0</td><td>76.0</td><td>76.0</td><td>76.0</td><td>76.0</td><td>76.0</td><td>76.0</td><td>76.0</td><td>76.0</td><td>76.0</td><td>76.0</td><td>76.0</td><td>76.0</td><td>76.0</td><td>76.0</td><td>76.0</td><td>76.0</td><td>76.0</td><td>76.0</td><td>76.0</td><td>76.0</td><td>76.0</td><td>76.0</td><td>76.0</td></tr><tr><td>&quot;null_count&quot;</td><td>&quot;0&quot;</td><td>0.0</td><td>122.0</td><td>&quot;0&quot;</td><td>&quot;0&quot;</td><td>&quot;0&quot;</td><td>&quot;0&quot;</td><td>0.0</td><td>0.0</td><td>18.0</td><td>&quot;17&quot;</td><td>0.0</td><td>119.0</td><td>0.0</td><td>1.0</td><td>1.0</td><td>1.0</td><td>0.0</td><td>3.0</td><td>1.0</td><td>0.0</td><td>0.0</td><td>0.0</td><td>0.0</td><td>0.0</td><td>0.0</td><td>1.0</td><td>1.0</td><td>1.0</td><td>1.0</td><td>1.0</td><td>0.0</td><td>2.0</td><td>4.0</td><td>5.0</td><td>4.0</td><td>&hellip;</td><td>0.0</td><td>0.0</td><td>0.0</td><td>0.0</td><td>0.0</td><td>0.0</td><td>0.0</td><td>1.0</td><td>1.0</td><td>116.0</td><td>116.0</td><td>116.0</td><td>116.0</td><td>116.0</td><td>116.0</td><td>116.0</td><td>116.0</td><td>116.0</td><td>116.0</td><td>116.0</td><td>116.0</td><td>116.0</td><td>116.0</td><td>116.0</td><td>116.0</td><td>116.0</td><td>116.0</td><td>116.0</td><td>116.0</td><td>116.0</td><td>116.0</td><td>116.0</td><td>116.0</td><td>116.0</td><td>116.0</td><td>116.0</td><td>116.0</td></tr><tr><td>&quot;mean&quot;</td><td>null</td><td>0.411458</td><td>0.557143</td><td>null</td><td>null</td><td>null</td><td>null</td><td>55.052083</td><td>0.536458</td><td>2.741379</td><td>null</td><td>26.876458</td><td>0.232877</td><td>0.510417</td><td>1.157068</td><td>0.209424</td><td>0.230366</td><td>0.005208</td><td>0.185185</td><td>0.52356</td><td>1.098958</td><td>0.34375</td><td>8.520833</td><td>31.375</td><td>52.791667</td><td>84.05724</td><td>18.167539</td><td>26.157068</td><td>31.183246</td><td>32.298429</td><td>30.769634</td><td>3.796875</td><td>2.371053</td><td>2.414894</td><td>1.863636</td><td>2.125</td><td>&hellip;</td><td>12.75</td><td>13.4375</td><td>13.416667</td><td>13.635417</td><td>4.098958</td><td>1.135417</td><td>0.75</td><td>15.376963</td><td>0.52356</td><td>6.157237</td><td>4.869737</td><td>14.648684</td><td>44.210526</td><td>91.039474</td><td>30.131579</td><td>33.052632</td><td>13.147368</td><td>255.671053</td><td>13.746053</td><td>11.064474</td><td>33.934211</td><td>3.312763</td><td>2.048684</td><td>0.552237</td><td>0.176184</td><td>0.048421</td><td>53.514474</td><td>33.488158</td><td>9.121053</td><td>2.827632</td><td>0.796053</td><td>208.286842</td><td>57.072368</td><td>151.214474</td><td>123.967895</td><td>136.232895</td><td>0.868421</td></tr><tr><td>&quot;std&quot;</td><td>null</td><td>0.493384</td><td>0.50031</td><td>null</td><td>null</td><td>null</td><td>null</td><td>3.084736</td><td>0.499973</td><td>0.651198</td><td>null</td><td>4.633075</td><td>0.425589</td><td>0.501198</td><td>0.921349</td><td>0.663416</td><td>0.422174</td><td>0.072169</td><td>0.389479</td><td>0.813194</td><td>0.537201</td><td>0.518316</td><td>7.922371</td><td>4.521618</td><td>4.541644</td><td>21.339283</td><td>8.864073</td><td>7.028247</td><td>6.258715</td><td>5.65778</td><td>7.058352</td><td>3.326144</td><td>0.559151</td><td>0.559977</td><td>0.681052</td><td>0.640907</td><td>&hellip;</td><td>2.697682</td><td>1.975306</td><td>2.534233</td><td>2.039504</td><td>4.499633</td><td>1.644409</td><td>1.531519</td><td>1.063407</td><td>1.108921</td><td>1.483845</td><td>0.444528</td><td>1.378839</td><td>3.492147</td><td>4.051142</td><td>1.635784</td><td>1.080305</td><td>0.964361</td><td>50.925145</td><td>2.343356</td><td>0.980436</td><td>8.175044</td><td>0.995279</td><td>0.669227</td><td>0.140405</td><td>0.127069</td><td>0.02327</td><td>7.782317</td><td>7.364925</td><td>1.920647</td><td>1.820154</td><td>0.361272</td><td>41.788634</td><td>17.398694</td><td>37.9591</td><td>35.399487</td><td>59.981067</td><td>0.340279</td></tr><tr><td>&quot;min&quot;</td><td>&quot;sub-01&quot;</td><td>0.0</td><td>0.0</td><td>&quot;C/C&quot;</td><td>&quot;C/C&quot;</td><td>&quot;e2/e2&quot;</td><td>&quot;A/A&quot;</td><td>50.0</td><td>0.0</td><td>1.0</td><td>&quot;0&quot;</td><td>19.03</td><td>0.0</td><td>0.0</td><td>0.0</td><td>0.0</td><td>0.0</td><td>0.0</td><td>0.0</td><td>0.0</td><td>0.0</td><td>0.0</td><td>0.0</td><td>17.0</td><td>33.0</td><td>20.0</td><td>0.0</td><td>6.0</td><td>14.0</td><td>12.0</td><td>14.0</td><td>0.0</td><td>0.5</td><td>0.5</td><td>0.0</td><td>0.0</td><td>&hellip;</td><td>5.0</td><td>6.0</td><td>4.0</td><td>3.0</td><td>0.0</td><td>0.0</td><td>0.0</td><td>10.0</td><td>0.0</td><td>3.5</td><td>3.9</td><td>10.8</td><td>37.0</td><td>83.0</td><td>24.0</td><td>28.8</td><td>11.8</td><td>167.0</td><td>10.0</td><td>9.4</td><td>20.6</td><td>1.53</td><td>1.0</td><td>0.3</td><td>0.0</td><td>0.01</td><td>36.3</td><td>15.5</td><td>5.9</td><td>0.0</td><td>0.2</td><td>117.9</td><td>28.1</td><td>74.6</td><td>54.12</td><td>43.6</td><td>0.0</td></tr><tr><td>&quot;25%&quot;</td><td>null</td><td>0.0</td><td>0.0</td><td>null</td><td>null</td><td>null</td><td>null</td><td>52.0</td><td>0.0</td><td>3.0</td><td>null</td><td>23.46</td><td>0.0</td><td>0.0</td><td>1.0</td><td>0.0</td><td>0.0</td><td>0.0</td><td>0.0</td><td>0.0</td><td>1.0</td><td>0.0</td><td>2.0</td><td>29.0</td><td>50.0</td><td>70.0</td><td>12.0</td><td>21.0</td><td>28.0</td><td>29.0</td><td>26.0</td><td>1.0</td><td>2.0</td><td>2.0</td><td>1.5</td><td>2.0</td><td>&hellip;</td><td>11.0</td><td>12.0</td><td>12.0</td><td>13.0</td><td>1.0</td><td>0.0</td><td>0.0</td><td>15.0</td><td>0.0</td><td>5.3</td><td>4.6</td><td>13.8</td><td>42.0</td><td>89.0</td><td>30.0</td><td>32.4</td><td>12.6</td><td>216.0</td><td>11.9</td><td>10.2</td><td>26.9</td><td>2.52</td><td>1.6</td><td>0.46</td><td>0.11</td><td>0.03</td><td>47.8</td><td>27.0</td><td>8.0</td><td>1.9</td><td>0.5</td><td>176.0</td><td>43.3</td><td>117.3</td><td>95.14</td><td>83.4</td><td>1.0</td></tr><tr><td>&quot;50%&quot;</td><td>null</td><td>0.0</td><td>1.0</td><td>null</td><td>null</td><td>null</td><td>null</td><td>55.0</td><td>1.0</td><td>3.0</td><td>null</td><td>26.03</td><td>0.0</td><td>1.0</td><td>1.0</td><td>0.0</td><td>0.0</td><td>0.0</td><td>0.0</td><td>0.0</td><td>1.0</td><td>0.0</td><td>7.0</td><td>31.0</td><td>53.0</td><td>100.0</td><td>17.0</td><td>27.0</td><td>32.0</td><td>33.0</td><td>30.0</td><td>3.0</td><td>2.5</td><td>2.5</td><td>2.0</td><td>2.0</td><td>&hellip;</td><td>13.0</td><td>14.0</td><td>14.0</td><td>14.0</td><td>3.0</td><td>1.0</td><td>0.0</td><td>16.0</td><td>0.0</td><td>6.1</td><td>5.0</td><td>14.8</td><td>44.0</td><td>91.0</td><td>30.0</td><td>33.0</td><td>13.0</td><td>254.0</td><td>13.6</td><td>11.1</td><td>34.4</td><td>3.21</td><td>1.9</td><td>0.52</td><td>0.15</td><td>0.05</td><td>55.2</td><td>33.9</td><td>8.9</td><td>2.4</td><td>0.8</td><td>203.4</td><td>54.0</td><td>149.2</td><td>123.34</td><td>120.1</td><td>1.0</td></tr><tr><td>&quot;75%&quot;</td><td>null</td><td>1.0</td><td>1.0</td><td>null</td><td>null</td><td>null</td><td>null</td><td>57.0</td><td>1.0</td><td>3.0</td><td>null</td><td>29.67</td><td>0.0</td><td>1.0</td><td>2.0</td><td>0.0</td><td>0.0</td><td>0.0</td><td>0.0</td><td>1.0</td><td>1.0</td><td>1.0</td><td>12.0</td><td>34.0</td><td>56.0</td><td>100.0</td><td>24.0</td><td>32.0</td><td>35.0</td><td>36.0</td><td>36.0</td><td>5.0</td><td>3.0</td><td>3.0</td><td>2.5</td><td>2.5</td><td>&hellip;</td><td>15.0</td><td>15.0</td><td>15.0</td><td>15.0</td><td>6.0</td><td>2.0</td><td>1.0</td><td>16.0</td><td>1.0</td><td>6.84</td><td>5.2</td><td>15.6</td><td>47.0</td><td>93.0</td><td>31.0</td><td>33.8</td><td>13.4</td><td>288.0</td><td>15.0</td><td>11.6</td><td>37.9</td><td>3.75</td><td>2.3</td><td>0.64</td><td>0.21</td><td>0.06</td><td>58.1</td><td>38.1</td><td>10.0</td><td>3.5</td><td>1.0</td><td>242.4</td><td>67.5</td><td>176.7</td><td>150.48</td><td>179.6</td><td>1.0</td></tr><tr><td>&quot;max&quot;</td><td>&quot;sub-99&quot;</td><td>1.0</td><td>1.0</td><td>&quot;T/T&quot;</td><td>&quot;T/T&quot;</td><td>&quot;e4/e4&quot;</td><td>&quot;G/G&quot;</td><td>63.0</td><td>1.0</td><td>3.0</td><td>&quot;[1. 2]&quot;</td><td>39.04</td><td>1.0</td><td>1.0</td><td>4.0</td><td>3.0</td><td>1.0</td><td>1.0</td><td>1.0</td><td>2.0</td><td>3.0</td><td>2.0</td><td>39.0</td><td>40.0</td><td>60.0</td><td>100.0</td><td>41.0</td><td>44.0</td><td>45.0</td><td>47.0</td><td>47.0</td><td>23.0</td><td>3.0</td><td>3.0</td><td>3.0</td><td>3.0</td><td>&hellip;</td><td>16.0</td><td>16.0</td><td>16.0</td><td>16.0</td><td>23.0</td><td>9.0</td><td>14.0</td><td>16.0</td><td>9.0</td><td>11.3</td><td>5.9</td><td>18.1</td><td>55.0</td><td>102.0</td><td>34.0</td><td>35.3</td><td>19.0</td><td>410.0</td><td>20.5</td><td>13.5</td><td>53.6</td><td>5.91</td><td>5.4</td><td>1.03</td><td>1.0</td><td>0.13</td><td>75.3</td><td>53.1</td><td>16.8</td><td>14.6</td><td>2.0</td><td>284.7</td><td>110.3</td><td>230.7</td><td>200.36</td><td>307.3</td><td>1.0</td></tr></tbody></table></div>"
      ],
      "text/plain": [
       "shape: (9, 88)\n",
       "┌───────────┬───────────┬───────────┬───────────┬───┬───────────┬───────────┬───────────┬──────────┐\n",
       "│ statistic ┆ participa ┆ second_ph ┆ session_o ┆ … ┆ non-HDL_c ┆ LDL_chole ┆ triglycer ┆ HSV_r    │\n",
       "│ ---       ┆ nt_id     ┆ ase       ┆ rder      ┆   ┆ holestero ┆ sterol    ┆ ides      ┆ ---      │\n",
       "│ str       ┆ ---       ┆ ---       ┆ ---       ┆   ┆ l         ┆ ---       ┆ ---       ┆ f64      │\n",
       "│           ┆ str       ┆ f64       ┆ f64       ┆   ┆ ---       ┆ f64       ┆ f64       ┆          │\n",
       "│           ┆           ┆           ┆           ┆   ┆ f64       ┆           ┆           ┆          │\n",
       "╞═══════════╪═══════════╪═══════════╪═══════════╪═══╪═══════════╪═══════════╪═══════════╪══════════╡\n",
       "│ count     ┆ 192       ┆ 192.0     ┆ 70.0      ┆ … ┆ 76.0      ┆ 76.0      ┆ 76.0      ┆ 76.0     │\n",
       "│ null_coun ┆ 0         ┆ 0.0       ┆ 122.0     ┆ … ┆ 116.0     ┆ 116.0     ┆ 116.0     ┆ 116.0    │\n",
       "│ t         ┆           ┆           ┆           ┆   ┆           ┆           ┆           ┆          │\n",
       "│ mean      ┆ null      ┆ 0.411458  ┆ 0.557143  ┆ … ┆ 151.21447 ┆ 123.96789 ┆ 136.23289 ┆ 0.868421 │\n",
       "│           ┆           ┆           ┆           ┆   ┆ 4         ┆ 5         ┆ 5         ┆          │\n",
       "│ std       ┆ null      ┆ 0.493384  ┆ 0.50031   ┆ … ┆ 37.9591   ┆ 35.399487 ┆ 59.981067 ┆ 0.340279 │\n",
       "│ min       ┆ sub-01    ┆ 0.0       ┆ 0.0       ┆ … ┆ 74.6      ┆ 54.12     ┆ 43.6      ┆ 0.0      │\n",
       "│ 25%       ┆ null      ┆ 0.0       ┆ 0.0       ┆ … ┆ 117.3     ┆ 95.14     ┆ 83.4      ┆ 1.0      │\n",
       "│ 50%       ┆ null      ┆ 0.0       ┆ 1.0       ┆ … ┆ 149.2     ┆ 123.34    ┆ 120.1     ┆ 1.0      │\n",
       "│ 75%       ┆ null      ┆ 1.0       ┆ 1.0       ┆ … ┆ 176.7     ┆ 150.48    ┆ 179.6     ┆ 1.0      │\n",
       "│ max       ┆ sub-99    ┆ 1.0       ┆ 1.0       ┆ … ┆ 230.7     ┆ 200.36    ┆ 307.3     ┆ 1.0      │\n",
       "└───────────┴───────────┴───────────┴───────────┴───┴───────────┴───────────┴───────────┴──────────┘"
      ]
     },
     "metadata": {},
     "output_type": "display_data"
    },
    {
     "name": "stdout",
     "output_type": "stream",
     "text": [
      "\n",
      "APOE Haplotype Percentages:\n",
      "shape: (7, 3)\n",
      "┌────────────────┬───────┬────────────┐\n",
      "│ APOE_haplotype ┆ count ┆ percentage │\n",
      "│ ---            ┆ ---   ┆ ---        │\n",
      "│ str            ┆ u32   ┆ f64        │\n",
      "╞════════════════╪═══════╪════════════╡\n",
      "│ e4/e4          ┆ 2     ┆ 1.041667   │\n",
      "│ e2/e4          ┆ 3     ┆ 1.5625     │\n",
      "│ e3/e2          ┆ 2     ┆ 1.041667   │\n",
      "│ e3/e2          ┆ 19    ┆ 9.895833   │\n",
      "│ e3/e3          ┆ 119   ┆ 61.979167  │\n",
      "│ e2/e2          ┆ 1     ┆ 0.520833   │\n",
      "│ e3/e4          ┆ 46    ┆ 23.958333  │\n",
      "└────────────────┴───────┴────────────┘\n"
     ]
    }
   ],
   "source": [
    "display(df.describe())\n",
    "\n",
    "apoe_counts = df[\"APOE_haplotype\"].value_counts()\n",
    "\n",
    "# Calculate percentages\n",
    "total_count = apoe_counts[\"count\"].sum()\n",
    "apoe_percentages = apoe_counts.with_columns(\n",
    "    [(pl.col(\"count\") / total_count * 100).alias(\"percentage\")]\n",
    ")\n",
    "\n",
    "print(\"\\nAPOE Haplotype Percentages:\")\n",
    "print(apoe_percentages)"
   ]
  }
 ],
 "metadata": {
  "kernelspec": {
   "display_name": "brainlat-3.12.4",
   "language": "python",
   "name": "brainlat-3.12.4"
  },
  "language_info": {
   "codemirror_mode": {
    "name": "ipython",
    "version": 3
   },
   "file_extension": ".py",
   "mimetype": "text/x-python",
   "name": "python",
   "nbconvert_exporter": "python",
   "pygments_lexer": "ipython3",
   "version": "3.12.4"
  }
 },
 "nbformat": 4,
 "nbformat_minor": 2
}
