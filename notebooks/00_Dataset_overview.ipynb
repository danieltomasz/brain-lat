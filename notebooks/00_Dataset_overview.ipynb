{
 "cells": [
  {
   "cell_type": "raw",
   "metadata": {},
   "source": [
    "---\n",
    "title: \"Exploring brainlat dataset\"\n",
    "format: pdf\n",
    "---"
   ]
  },
  {
   "cell_type": "code",
   "execution_count": 1,
   "metadata": {
    "execution": {
     "iopub.execute_input": "2024-01-22T01:12:51.498374Z",
     "iopub.status.busy": "2024-01-22T01:12:51.498095Z",
     "iopub.status.idle": "2024-01-22T01:12:53.253819Z",
     "shell.execute_reply": "2024-01-22T01:12:53.253392Z"
    }
   },
   "outputs": [
    {
     "data": {
      "text/html": [
       "<div><style>\n",
       ".dataframe > thead > tr,\n",
       ".dataframe > tbody > tr {\n",
       "  text-align: right;\n",
       "  white-space: pre-wrap;\n",
       "}\n",
       "</style>\n",
       "<small>shape: (152, 7)</small><table border=\"1\" class=\"dataframe\"><thead><tr><th>id</th><th>diagnosis</th><th>T1</th><th>Rest</th><th>DWI</th><th>MF</th><th>eeg</th></tr><tr><td>str</td><td>str</td><td>i64</td><td>i64</td><td>i64</td><td>f64</td><td>i64</td></tr></thead><tbody><tr><td>&quot;PIB00002&quot;</td><td>&quot;CN&quot;</td><td>0</td><td>0</td><td>0</td><td>null</td><td>1</td></tr><tr><td>&quot;PIB00003&quot;</td><td>&quot;CN&quot;</td><td>1</td><td>1</td><td>1</td><td>3.0</td><td>1</td></tr><tr><td>&quot;PIB00004&quot;</td><td>&quot;CN&quot;</td><td>1</td><td>1</td><td>1</td><td>3.0</td><td>1</td></tr><tr><td>&quot;PIB00006&quot;</td><td>&quot;CN&quot;</td><td>1</td><td>1</td><td>1</td><td>3.0</td><td>1</td></tr><tr><td>&quot;PIB00007&quot;</td><td>&quot;CN&quot;</td><td>1</td><td>1</td><td>1</td><td>3.0</td><td>1</td></tr><tr><td>&quot;PIB00008&quot;</td><td>&quot;CN&quot;</td><td>1</td><td>1</td><td>1</td><td>3.0</td><td>1</td></tr><tr><td>&quot;PIB00010&quot;</td><td>&quot;CN&quot;</td><td>1</td><td>1</td><td>1</td><td>3.0</td><td>1</td></tr><tr><td>&quot;PIB00012&quot;</td><td>&quot;CN&quot;</td><td>1</td><td>1</td><td>1</td><td>3.0</td><td>1</td></tr><tr><td>&quot;PIB00014&quot;</td><td>&quot;CN&quot;</td><td>1</td><td>1</td><td>1</td><td>3.0</td><td>1</td></tr><tr><td>&quot;PIB00015&quot;</td><td>&quot;CN&quot;</td><td>1</td><td>1</td><td>1</td><td>3.0</td><td>1</td></tr><tr><td>&quot;PIB00017&quot;</td><td>&quot;CN&quot;</td><td>1</td><td>1</td><td>1</td><td>3.0</td><td>1</td></tr><tr><td>&quot;PIB00018&quot;</td><td>&quot;CN&quot;</td><td>1</td><td>1</td><td>1</td><td>3.0</td><td>1</td></tr><tr><td>&hellip;</td><td>&hellip;</td><td>&hellip;</td><td>&hellip;</td><td>&hellip;</td><td>&hellip;</td><td>&hellip;</td></tr><tr><td>&quot;PIB00510&quot;</td><td>&quot;MS&quot;</td><td>1</td><td>1</td><td>0</td><td>3.0</td><td>1</td></tr><tr><td>&quot;PIB00514&quot;</td><td>&quot;MS&quot;</td><td>1</td><td>1</td><td>0</td><td>3.0</td><td>1</td></tr><tr><td>&quot;PIB00508&quot;</td><td>&quot;MS&quot;</td><td>1</td><td>1</td><td>0</td><td>3.0</td><td>1</td></tr><tr><td>&quot;PIB00526&quot;</td><td>&quot;MS&quot;</td><td>1</td><td>1</td><td>0</td><td>3.0</td><td>1</td></tr><tr><td>&quot;PIB00534&quot;</td><td>&quot;MS&quot;</td><td>1</td><td>1</td><td>0</td><td>3.0</td><td>1</td></tr><tr><td>&quot;PIB00529&quot;</td><td>&quot;MS&quot;</td><td>1</td><td>1</td><td>0</td><td>3.0</td><td>1</td></tr><tr><td>&quot;PIB00525&quot;</td><td>&quot;MS&quot;</td><td>1</td><td>1</td><td>0</td><td>3.0</td><td>1</td></tr><tr><td>&quot;PIB00504&quot;</td><td>&quot;MS&quot;</td><td>1</td><td>1</td><td>0</td><td>3.0</td><td>1</td></tr><tr><td>&quot;PIB00522&quot;</td><td>&quot;MS&quot;</td><td>1</td><td>1</td><td>0</td><td>3.0</td><td>1</td></tr><tr><td>&quot;PIB00513&quot;</td><td>&quot;MS&quot;</td><td>1</td><td>1</td><td>0</td><td>3.0</td><td>1</td></tr><tr><td>&quot;PIB00511&quot;</td><td>&quot;MS&quot;</td><td>1</td><td>0</td><td>0</td><td>3.0</td><td>1</td></tr><tr><td>&quot;PIB00521&quot;</td><td>&quot;MS&quot;</td><td>0</td><td>0</td><td>0</td><td>3.0</td><td>1</td></tr></tbody></table></div>"
      ],
      "text/plain": [
       "shape: (152, 7)\n",
       "┌──────────┬───────────┬─────┬──────┬─────┬──────┬─────┐\n",
       "│ id       ┆ diagnosis ┆ T1  ┆ Rest ┆ DWI ┆ MF   ┆ eeg │\n",
       "│ ---      ┆ ---       ┆ --- ┆ ---  ┆ --- ┆ ---  ┆ --- │\n",
       "│ str      ┆ str       ┆ i64 ┆ i64  ┆ i64 ┆ f64  ┆ i64 │\n",
       "╞══════════╪═══════════╪═════╪══════╪═════╪══════╪═════╡\n",
       "│ PIB00002 ┆ CN        ┆ 0   ┆ 0    ┆ 0   ┆ null ┆ 1   │\n",
       "│ PIB00003 ┆ CN        ┆ 1   ┆ 1    ┆ 1   ┆ 3.0  ┆ 1   │\n",
       "│ PIB00004 ┆ CN        ┆ 1   ┆ 1    ┆ 1   ┆ 3.0  ┆ 1   │\n",
       "│ PIB00006 ┆ CN        ┆ 1   ┆ 1    ┆ 1   ┆ 3.0  ┆ 1   │\n",
       "│ PIB00007 ┆ CN        ┆ 1   ┆ 1    ┆ 1   ┆ 3.0  ┆ 1   │\n",
       "│ …        ┆ …         ┆ …   ┆ …    ┆ …   ┆ …    ┆ …   │\n",
       "│ PIB00504 ┆ MS        ┆ 1   ┆ 1    ┆ 0   ┆ 3.0  ┆ 1   │\n",
       "│ PIB00522 ┆ MS        ┆ 1   ┆ 1    ┆ 0   ┆ 3.0  ┆ 1   │\n",
       "│ PIB00513 ┆ MS        ┆ 1   ┆ 1    ┆ 0   ┆ 3.0  ┆ 1   │\n",
       "│ PIB00511 ┆ MS        ┆ 1   ┆ 0    ┆ 0   ┆ 3.0  ┆ 1   │\n",
       "│ PIB00521 ┆ MS        ┆ 0   ┆ 0    ┆ 0   ┆ 3.0  ┆ 1   │\n",
       "└──────────┴───────────┴─────┴──────┴─────┴──────┴─────┘"
      ]
     },
     "metadata": {},
     "output_type": "display_data"
    }
   ],
   "source": [
    "# | echo: true\n",
    "# | output: false\n",
    "\n",
    "import polars as pl\n",
    "import seaborn.objects as so\n",
    "from tabulate import tabulate\n",
    "\n",
    "root = \"/Volumes/T7/BrainLat/\"\n",
    "records_path = f\"{root}/BrainLat_records.csv\"\n",
    "only_eeg = pl.scan_csv(records_path).filter(pl.col(\"eeg\") == 1.0).collect()\n",
    "display(only_eeg)"
   ]
  },
  {
   "cell_type": "code",
   "execution_count": 2,
   "metadata": {
    "execution": {
     "iopub.execute_input": "2024-01-22T01:12:53.280194Z",
     "iopub.status.busy": "2024-01-22T01:12:53.279959Z",
     "iopub.status.idle": "2024-01-22T01:12:53.304666Z",
     "shell.execute_reply": "2024-01-22T01:12:53.304380Z"
    }
   },
   "outputs": [
    {
     "data": {
      "text/html": [
       "<div><style>\n",
       ".dataframe > thead > tr,\n",
       ".dataframe > tbody > tr {\n",
       "  text-align: right;\n",
       "  white-space: pre-wrap;\n",
       "}\n",
       "</style>\n",
       "<small>shape: (5, 2)</small><table border=\"1\" class=\"dataframe\"><thead><tr><th>diagnosis</th><th>eeg</th></tr><tr><td>str</td><td>i64</td></tr></thead><tbody><tr><td>&quot;MS&quot;</td><td>32</td></tr><tr><td>&quot;CN&quot;</td><td>42</td></tr><tr><td>&quot;FTD&quot;</td><td>16</td></tr><tr><td>&quot;AD&quot;</td><td>35</td></tr><tr><td>&quot;PD&quot;</td><td>27</td></tr></tbody></table></div>"
      ],
      "text/plain": [
       "shape: (5, 2)\n",
       "┌───────────┬─────┐\n",
       "│ diagnosis ┆ eeg │\n",
       "│ ---       ┆ --- │\n",
       "│ str       ┆ i64 │\n",
       "╞═══════════╪═════╡\n",
       "│ MS        ┆ 32  │\n",
       "│ CN        ┆ 42  │\n",
       "│ FTD       ┆ 16  │\n",
       "│ AD        ┆ 35  │\n",
       "│ PD        ┆ 27  │\n",
       "└───────────┴─────┘"
      ]
     },
     "metadata": {},
     "output_type": "display_data"
    },
    {
     "data": {
      "text/html": [
       "<div><style>\n",
       ".dataframe > thead > tr,\n",
       ".dataframe > tbody > tr {\n",
       "  text-align: right;\n",
       "  white-space: pre-wrap;\n",
       "}\n",
       "</style>\n",
       "<small>shape: (152, 6)</small><table border=\"1\" class=\"dataframe\"><thead><tr><th>id</th><th>diagnosis</th><th>sex</th><th>Age</th><th>years_education</th><th>laterality</th></tr><tr><td>str</td><td>str</td><td>i64</td><td>i64</td><td>i64</td><td>i64</td></tr></thead><tbody><tr><td>&quot;PIB00002&quot;</td><td>&quot;CN&quot;</td><td>0</td><td>69</td><td>15</td><td>1</td></tr><tr><td>&quot;PIB00003&quot;</td><td>&quot;CN&quot;</td><td>0</td><td>74</td><td>15</td><td>1</td></tr><tr><td>&quot;PIB00004&quot;</td><td>&quot;CN&quot;</td><td>0</td><td>68</td><td>15</td><td>1</td></tr><tr><td>&quot;PIB00006&quot;</td><td>&quot;CN&quot;</td><td>1</td><td>58</td><td>15</td><td>1</td></tr><tr><td>&quot;PIB00007&quot;</td><td>&quot;CN&quot;</td><td>0</td><td>57</td><td>14</td><td>1</td></tr><tr><td>&quot;PIB00008&quot;</td><td>&quot;CN&quot;</td><td>0</td><td>77</td><td>18</td><td>1</td></tr><tr><td>&quot;PIB00010&quot;</td><td>&quot;CN&quot;</td><td>1</td><td>74</td><td>12</td><td>1</td></tr><tr><td>&quot;PIB00012&quot;</td><td>&quot;CN&quot;</td><td>0</td><td>70</td><td>12</td><td>0</td></tr><tr><td>&quot;PIB00014&quot;</td><td>&quot;CN&quot;</td><td>0</td><td>61</td><td>15</td><td>1</td></tr><tr><td>&quot;PIB00015&quot;</td><td>&quot;CN&quot;</td><td>1</td><td>66</td><td>18</td><td>1</td></tr><tr><td>&quot;PIB00017&quot;</td><td>&quot;CN&quot;</td><td>0</td><td>77</td><td>20</td><td>1</td></tr><tr><td>&quot;PIB00018&quot;</td><td>&quot;CN&quot;</td><td>0</td><td>61</td><td>20</td><td>1</td></tr><tr><td>&hellip;</td><td>&hellip;</td><td>&hellip;</td><td>&hellip;</td><td>&hellip;</td><td>&hellip;</td></tr><tr><td>&quot;PIB00510&quot;</td><td>&quot;MS&quot;</td><td>0</td><td>43</td><td>12</td><td>null</td></tr><tr><td>&quot;PIB00514&quot;</td><td>&quot;MS&quot;</td><td>0</td><td>43</td><td>18</td><td>null</td></tr><tr><td>&quot;PIB00508&quot;</td><td>&quot;MS&quot;</td><td>0</td><td>44</td><td>24</td><td>null</td></tr><tr><td>&quot;PIB00526&quot;</td><td>&quot;MS&quot;</td><td>0</td><td>44</td><td>17</td><td>null</td></tr><tr><td>&quot;PIB00534&quot;</td><td>&quot;MS&quot;</td><td>0</td><td>44</td><td>17</td><td>null</td></tr><tr><td>&quot;PIB00529&quot;</td><td>&quot;MS&quot;</td><td>0</td><td>44</td><td>12</td><td>null</td></tr><tr><td>&quot;PIB00525&quot;</td><td>&quot;MS&quot;</td><td>0</td><td>46</td><td>16</td><td>null</td></tr><tr><td>&quot;PIB00504&quot;</td><td>&quot;MS&quot;</td><td>0</td><td>47</td><td>20</td><td>null</td></tr><tr><td>&quot;PIB00522&quot;</td><td>&quot;MS&quot;</td><td>0</td><td>47</td><td>15</td><td>null</td></tr><tr><td>&quot;PIB00513&quot;</td><td>&quot;MS&quot;</td><td>0</td><td>53</td><td>20</td><td>null</td></tr><tr><td>&quot;PIB00511&quot;</td><td>&quot;MS&quot;</td><td>1</td><td>54</td><td>9</td><td>null</td></tr><tr><td>&quot;PIB00521&quot;</td><td>&quot;MS&quot;</td><td>0</td><td>55</td><td>16</td><td>null</td></tr></tbody></table></div>"
      ],
      "text/plain": [
       "shape: (152, 6)\n",
       "┌──────────┬───────────┬─────┬─────┬─────────────────┬────────────┐\n",
       "│ id       ┆ diagnosis ┆ sex ┆ Age ┆ years_education ┆ laterality │\n",
       "│ ---      ┆ ---       ┆ --- ┆ --- ┆ ---             ┆ ---        │\n",
       "│ str      ┆ str       ┆ i64 ┆ i64 ┆ i64             ┆ i64        │\n",
       "╞══════════╪═══════════╪═════╪═════╪═════════════════╪════════════╡\n",
       "│ PIB00002 ┆ CN        ┆ 0   ┆ 69  ┆ 15              ┆ 1          │\n",
       "│ PIB00003 ┆ CN        ┆ 0   ┆ 74  ┆ 15              ┆ 1          │\n",
       "│ PIB00004 ┆ CN        ┆ 0   ┆ 68  ┆ 15              ┆ 1          │\n",
       "│ PIB00006 ┆ CN        ┆ 1   ┆ 58  ┆ 15              ┆ 1          │\n",
       "│ PIB00007 ┆ CN        ┆ 0   ┆ 57  ┆ 14              ┆ 1          │\n",
       "│ …        ┆ …         ┆ …   ┆ …   ┆ …               ┆ …          │\n",
       "│ PIB00504 ┆ MS        ┆ 0   ┆ 47  ┆ 20              ┆ null       │\n",
       "│ PIB00522 ┆ MS        ┆ 0   ┆ 47  ┆ 15              ┆ null       │\n",
       "│ PIB00513 ┆ MS        ┆ 0   ┆ 53  ┆ 20              ┆ null       │\n",
       "│ PIB00511 ┆ MS        ┆ 1   ┆ 54  ┆ 9               ┆ null       │\n",
       "│ PIB00521 ┆ MS        ┆ 0   ┆ 55  ┆ 16              ┆ null       │\n",
       "└──────────┴───────────┴─────┴─────┴─────────────────┴────────────┘"
      ]
     },
     "metadata": {},
     "output_type": "display_data"
    },
    {
     "data": {
      "text/html": [
       "<div><style>\n",
       ".dataframe > thead > tr,\n",
       ".dataframe > tbody > tr {\n",
       "  text-align: right;\n",
       "  white-space: pre-wrap;\n",
       "}\n",
       "</style>\n",
       "<small>shape: (152, 22)</small><table border=\"1\" class=\"dataframe\"><thead><tr><th>id</th><th>diagnosis</th><th>moca_total</th><th>moca_visuospatial</th><th>moca_recog</th><th>moca_attention</th><th>moca_language</th><th>moca_abstraction</th><th>moca_memory</th><th>moca_orientation</th><th>ifs_total_score</th><th>ifs_motor_series</th><th>ifs_conflicting_instructions</th><th>ifs_motor_inhibition</th><th>ifs_digits</th><th>ifs_months</th><th>ifs_visual_wm</th><th>ifs_proverb</th><th>ifs_verbal_inhibition</th><th>mini_sea_fer</th><th>mini_sea_tom</th><th>emotion recog</th></tr><tr><td>str</td><td>str</td><td>i64</td><td>i64</td><td>i64</td><td>i64</td><td>i64</td><td>i64</td><td>i64</td><td>i64</td><td>i64</td><td>i64</td><td>i64</td><td>i64</td><td>i64</td><td>i64</td><td>i64</td><td>i64</td><td>i64</td><td>f64</td><td>f64</td><td>str</td></tr></thead><tbody><tr><td>&quot;PIB00002&quot;</td><td>&quot;CN&quot;</td><td>26</td><td>5</td><td>3</td><td>6</td><td>2</td><td>2</td><td>2</td><td>6</td><td>25</td><td>3</td><td>3</td><td>3</td><td>4</td><td>2</td><td>2</td><td>3</td><td>5</td><td>14.1</td><td>9.8</td><td>null</td></tr><tr><td>&quot;PIB00003&quot;</td><td>&quot;CN&quot;</td><td>28</td><td>5</td><td>3</td><td>6</td><td>3</td><td>2</td><td>3</td><td>6</td><td>24</td><td>3</td><td>3</td><td>3</td><td>3</td><td>2</td><td>2</td><td>3</td><td>5</td><td>11.6</td><td>13.9</td><td>null</td></tr><tr><td>&quot;PIB00004&quot;</td><td>&quot;CN&quot;</td><td>28</td><td>5</td><td>3</td><td>6</td><td>3</td><td>2</td><td>3</td><td>6</td><td>24</td><td>3</td><td>3</td><td>3</td><td>3</td><td>2</td><td>2</td><td>3</td><td>5</td><td>13.7</td><td>10.5</td><td>null</td></tr><tr><td>&quot;PIB00006&quot;</td><td>&quot;CN&quot;</td><td>25</td><td>5</td><td>3</td><td>6</td><td>2</td><td>2</td><td>1</td><td>6</td><td>28</td><td>3</td><td>3</td><td>3</td><td>4</td><td>2</td><td>4</td><td>3</td><td>6</td><td>12.4</td><td>15.0</td><td>null</td></tr><tr><td>&quot;PIB00007&quot;</td><td>&quot;CN&quot;</td><td>23</td><td>5</td><td>3</td><td>5</td><td>3</td><td>1</td><td>0</td><td>6</td><td>23</td><td>3</td><td>3</td><td>2</td><td>3</td><td>2</td><td>3</td><td>3</td><td>4</td><td>12.0</td><td>12.0</td><td>null</td></tr><tr><td>&quot;PIB00008&quot;</td><td>&quot;CN&quot;</td><td>29</td><td>5</td><td>3</td><td>6</td><td>3</td><td>2</td><td>4</td><td>6</td><td>24</td><td>3</td><td>3</td><td>3</td><td>3</td><td>2</td><td>2</td><td>3</td><td>5</td><td>12.9</td><td>15.0</td><td>null</td></tr><tr><td>&quot;PIB00010&quot;</td><td>&quot;CN&quot;</td><td>18</td><td>5</td><td>3</td><td>3</td><td>1</td><td>1</td><td>0</td><td>5</td><td>20</td><td>3</td><td>3</td><td>2</td><td>2</td><td>1</td><td>4</td><td>1</td><td>4</td><td>7.7</td><td>10.1</td><td>null</td></tr><tr><td>&quot;PIB00012&quot;</td><td>&quot;CN&quot;</td><td>29</td><td>5</td><td>3</td><td>6</td><td>3</td><td>2</td><td>4</td><td>6</td><td>25</td><td>3</td><td>3</td><td>3</td><td>4</td><td>2</td><td>2</td><td>3</td><td>5</td><td>14.1</td><td>14.3</td><td>null</td></tr><tr><td>&quot;PIB00014&quot;</td><td>&quot;CN&quot;</td><td>26</td><td>5</td><td>3</td><td>6</td><td>2</td><td>2</td><td>2</td><td>6</td><td>25</td><td>3</td><td>3</td><td>3</td><td>3</td><td>2</td><td>3</td><td>3</td><td>5</td><td>12.9</td><td>13.9</td><td>null</td></tr><tr><td>&quot;PIB00015&quot;</td><td>&quot;CN&quot;</td><td>27</td><td>5</td><td>3</td><td>6</td><td>2</td><td>2</td><td>3</td><td>6</td><td>23</td><td>3</td><td>3</td><td>2</td><td>4</td><td>2</td><td>1</td><td>3</td><td>5</td><td>10.3</td><td>13.9</td><td>null</td></tr><tr><td>&quot;PIB00017&quot;</td><td>&quot;CN&quot;</td><td>25</td><td>4</td><td>3</td><td>6</td><td>2</td><td>2</td><td>2</td><td>6</td><td>26</td><td>3</td><td>3</td><td>2</td><td>4</td><td>2</td><td>3</td><td>3</td><td>6</td><td>11.6</td><td>15.0</td><td>null</td></tr><tr><td>&quot;PIB00018&quot;</td><td>&quot;CN&quot;</td><td>26</td><td>5</td><td>3</td><td>6</td><td>3</td><td>2</td><td>1</td><td>6</td><td>24</td><td>3</td><td>3</td><td>3</td><td>3</td><td>2</td><td>2</td><td>3</td><td>5</td><td>13.7</td><td>14.3</td><td>null</td></tr><tr><td>&hellip;</td><td>&hellip;</td><td>&hellip;</td><td>&hellip;</td><td>&hellip;</td><td>&hellip;</td><td>&hellip;</td><td>&hellip;</td><td>&hellip;</td><td>&hellip;</td><td>&hellip;</td><td>&hellip;</td><td>&hellip;</td><td>&hellip;</td><td>&hellip;</td><td>&hellip;</td><td>&hellip;</td><td>&hellip;</td><td>&hellip;</td><td>&hellip;</td><td>&hellip;</td><td>&hellip;</td></tr><tr><td>&quot;PIB00510&quot;</td><td>&quot;MS&quot;</td><td>null</td><td>null</td><td>null</td><td>null</td><td>null</td><td>null</td><td>null</td><td>null</td><td>18</td><td>3</td><td>null</td><td>null</td><td>null</td><td>null</td><td>null</td><td>null</td><td>null</td><td>null</td><td>null</td><td>null</td></tr><tr><td>&quot;PIB00514&quot;</td><td>&quot;MS&quot;</td><td>null</td><td>null</td><td>null</td><td>null</td><td>null</td><td>null</td><td>null</td><td>null</td><td>28</td><td>3</td><td>null</td><td>null</td><td>null</td><td>null</td><td>null</td><td>null</td><td>null</td><td>null</td><td>null</td><td>null</td></tr><tr><td>&quot;PIB00508&quot;</td><td>&quot;MS&quot;</td><td>null</td><td>null</td><td>null</td><td>null</td><td>null</td><td>null</td><td>null</td><td>null</td><td>null</td><td>null</td><td>null</td><td>null</td><td>null</td><td>null</td><td>null</td><td>null</td><td>null</td><td>null</td><td>null</td><td>null</td></tr><tr><td>&quot;PIB00526&quot;</td><td>&quot;MS&quot;</td><td>null</td><td>null</td><td>null</td><td>null</td><td>null</td><td>null</td><td>null</td><td>null</td><td>20</td><td>3</td><td>null</td><td>null</td><td>null</td><td>null</td><td>null</td><td>null</td><td>null</td><td>null</td><td>null</td><td>null</td></tr><tr><td>&quot;PIB00534&quot;</td><td>&quot;MS&quot;</td><td>null</td><td>null</td><td>null</td><td>null</td><td>null</td><td>null</td><td>null</td><td>null</td><td>26</td><td>3</td><td>null</td><td>null</td><td>null</td><td>null</td><td>null</td><td>null</td><td>null</td><td>null</td><td>null</td><td>null</td></tr><tr><td>&quot;PIB00529&quot;</td><td>&quot;MS&quot;</td><td>null</td><td>null</td><td>null</td><td>null</td><td>null</td><td>null</td><td>null</td><td>null</td><td>9</td><td>1</td><td>null</td><td>null</td><td>null</td><td>null</td><td>null</td><td>null</td><td>null</td><td>null</td><td>null</td><td>null</td></tr><tr><td>&quot;PIB00525&quot;</td><td>&quot;MS&quot;</td><td>null</td><td>null</td><td>null</td><td>null</td><td>null</td><td>null</td><td>null</td><td>null</td><td>30</td><td>3</td><td>null</td><td>null</td><td>null</td><td>null</td><td>null</td><td>null</td><td>null</td><td>null</td><td>null</td><td>null</td></tr><tr><td>&quot;PIB00504&quot;</td><td>&quot;MS&quot;</td><td>null</td><td>null</td><td>null</td><td>null</td><td>null</td><td>null</td><td>null</td><td>null</td><td>24</td><td>3</td><td>null</td><td>null</td><td>null</td><td>null</td><td>null</td><td>null</td><td>null</td><td>null</td><td>null</td><td>null</td></tr><tr><td>&quot;PIB00522&quot;</td><td>&quot;MS&quot;</td><td>null</td><td>null</td><td>null</td><td>null</td><td>null</td><td>null</td><td>null</td><td>null</td><td>26</td><td>3</td><td>null</td><td>null</td><td>null</td><td>null</td><td>null</td><td>null</td><td>null</td><td>null</td><td>null</td><td>null</td></tr><tr><td>&quot;PIB00513&quot;</td><td>&quot;MS&quot;</td><td>null</td><td>null</td><td>null</td><td>null</td><td>null</td><td>null</td><td>null</td><td>null</td><td>21</td><td>3</td><td>null</td><td>null</td><td>null</td><td>null</td><td>null</td><td>null</td><td>null</td><td>null</td><td>null</td><td>null</td></tr><tr><td>&quot;PIB00511&quot;</td><td>&quot;MS&quot;</td><td>null</td><td>null</td><td>null</td><td>null</td><td>null</td><td>null</td><td>null</td><td>null</td><td>null</td><td>null</td><td>null</td><td>null</td><td>null</td><td>null</td><td>null</td><td>null</td><td>null</td><td>null</td><td>null</td><td>null</td></tr><tr><td>&quot;PIB00521&quot;</td><td>&quot;MS&quot;</td><td>null</td><td>null</td><td>null</td><td>null</td><td>null</td><td>null</td><td>null</td><td>null</td><td>25</td><td>3</td><td>null</td><td>null</td><td>null</td><td>null</td><td>null</td><td>null</td><td>null</td><td>null</td><td>null</td><td>null</td></tr></tbody></table></div>"
      ],
      "text/plain": [
       "shape: (152, 22)\n",
       "┌──────────┬───────────┬───────────┬───────────┬───┬───────────┬───────────┬───────────┬───────────┐\n",
       "│ id       ┆ diagnosis ┆ moca_tota ┆ moca_visu ┆ … ┆ ifs_verba ┆ mini_sea_ ┆ mini_sea_ ┆ emotion   │\n",
       "│ ---      ┆ ---       ┆ l         ┆ ospatial  ┆   ┆ l_inhibit ┆ fer       ┆ tom       ┆ recog     │\n",
       "│ str      ┆ str       ┆ ---       ┆ ---       ┆   ┆ ion       ┆ ---       ┆ ---       ┆ ---       │\n",
       "│          ┆           ┆ i64       ┆ i64       ┆   ┆ ---       ┆ f64       ┆ f64       ┆ str       │\n",
       "│          ┆           ┆           ┆           ┆   ┆ i64       ┆           ┆           ┆           │\n",
       "╞══════════╪═══════════╪═══════════╪═══════════╪═══╪═══════════╪═══════════╪═══════════╪═══════════╡\n",
       "│ PIB00002 ┆ CN        ┆ 26        ┆ 5         ┆ … ┆ 5         ┆ 14.1      ┆ 9.8       ┆ null      │\n",
       "│ PIB00003 ┆ CN        ┆ 28        ┆ 5         ┆ … ┆ 5         ┆ 11.6      ┆ 13.9      ┆ null      │\n",
       "│ PIB00004 ┆ CN        ┆ 28        ┆ 5         ┆ … ┆ 5         ┆ 13.7      ┆ 10.5      ┆ null      │\n",
       "│ PIB00006 ┆ CN        ┆ 25        ┆ 5         ┆ … ┆ 6         ┆ 12.4      ┆ 15.0      ┆ null      │\n",
       "│ PIB00007 ┆ CN        ┆ 23        ┆ 5         ┆ … ┆ 4         ┆ 12.0      ┆ 12.0      ┆ null      │\n",
       "│ …        ┆ …         ┆ …         ┆ …         ┆ … ┆ …         ┆ …         ┆ …         ┆ …         │\n",
       "│ PIB00504 ┆ MS        ┆ null      ┆ null      ┆ … ┆ null      ┆ null      ┆ null      ┆ null      │\n",
       "│ PIB00522 ┆ MS        ┆ null      ┆ null      ┆ … ┆ null      ┆ null      ┆ null      ┆ null      │\n",
       "│ PIB00513 ┆ MS        ┆ null      ┆ null      ┆ … ┆ null      ┆ null      ┆ null      ┆ null      │\n",
       "│ PIB00511 ┆ MS        ┆ null      ┆ null      ┆ … ┆ null      ┆ null      ┆ null      ┆ null      │\n",
       "│ PIB00521 ┆ MS        ┆ null      ┆ null      ┆ … ┆ null      ┆ null      ┆ null      ┆ null      │\n",
       "└──────────┴───────────┴───────────┴───────────┴───┴───────────┴───────────┴───────────┴───────────┘"
      ]
     },
     "metadata": {},
     "output_type": "display_data"
    }
   ],
   "source": [
    "# | output: false\n",
    "counts = only_eeg.select([\"diagnosis\", \"eeg\"]).group_by(\n",
    "    \"diagnosis\").agg(pl.all().sum())\n",
    "\n",
    "cognition_path = f\"{root}/Demographic and cognition/BrainLat_Cognition.csv\"\n",
    "cognition = (\n",
    "    pl.scan_csv(cognition_path)\n",
    "    .filter((pl.col(\"id\").is_in(only_eeg.get_column(\"id\").to_list())))\n",
    "    .collect()\n",
    ")\n",
    "demographics_path = (\n",
    "    \"/Volumes/T7/BrainLat/Demographic and cognition/BrainLat_Demographic.csv\"\n",
    ")\n",
    "demographics = (\n",
    "    pl.scan_csv(demographics_path, dtypes={\"Age\": float})\n",
    "    .filter((pl.col(\"id\").is_in(only_eeg.get_column(\"id\").to_list())))\n",
    "    .collect()\n",
    "    .with_columns(pl.col(\"Age\").cast(pl.Int64, strict=False))\n",
    ")\n",
    "display(counts)\n",
    "display(demographics)\n",
    "display(cognition)"
   ]
  },
  {
   "cell_type": "code",
   "execution_count": 3,
   "metadata": {
    "execution": {
     "iopub.execute_input": "2024-01-22T01:12:53.306284Z",
     "iopub.status.busy": "2024-01-22T01:12:53.306167Z",
     "iopub.status.idle": "2024-01-22T01:12:53.311183Z",
     "shell.execute_reply": "2024-01-22T01:12:53.310901Z"
    }
   },
   "outputs": [
    {
     "data": {
      "text/html": [
       "<div><style>\n",
       ".dataframe > thead > tr,\n",
       ".dataframe > tbody > tr {\n",
       "  text-align: right;\n",
       "  white-space: pre-wrap;\n",
       "}\n",
       "</style>\n",
       "<small>shape: (5, 22)</small><table border=\"1\" class=\"dataframe\"><thead><tr><th>diagnosis</th><th>id</th><th>moca_total</th><th>moca_visuospatial</th><th>moca_recog</th><th>moca_attention</th><th>moca_language</th><th>moca_abstraction</th><th>moca_memory</th><th>moca_orientation</th><th>ifs_total_score</th><th>ifs_motor_series</th><th>ifs_conflicting_instructions</th><th>ifs_motor_inhibition</th><th>ifs_digits</th><th>ifs_months</th><th>ifs_visual_wm</th><th>ifs_proverb</th><th>ifs_verbal_inhibition</th><th>mini_sea_fer</th><th>mini_sea_tom</th><th>emotion recog</th></tr><tr><td>str</td><td>u32</td><td>u32</td><td>u32</td><td>u32</td><td>u32</td><td>u32</td><td>u32</td><td>u32</td><td>u32</td><td>u32</td><td>u32</td><td>u32</td><td>u32</td><td>u32</td><td>u32</td><td>u32</td><td>u32</td><td>u32</td><td>u32</td><td>u32</td><td>u32</td></tr></thead><tbody><tr><td>&quot;CN&quot;</td><td>42</td><td>30</td><td>30</td><td>30</td><td>30</td><td>30</td><td>30</td><td>30</td><td>30</td><td>27</td><td>24</td><td>24</td><td>23</td><td>23</td><td>23</td><td>23</td><td>23</td><td>25</td><td>29</td><td>29</td><td>0</td></tr><tr><td>&quot;MS&quot;</td><td>32</td><td>0</td><td>0</td><td>0</td><td>0</td><td>0</td><td>0</td><td>0</td><td>0</td><td>28</td><td>28</td><td>0</td><td>0</td><td>0</td><td>0</td><td>0</td><td>0</td><td>0</td><td>0</td><td>0</td><td>0</td></tr><tr><td>&quot;PD&quot;</td><td>27</td><td>26</td><td>19</td><td>19</td><td>26</td><td>26</td><td>26</td><td>26</td><td>26</td><td>25</td><td>17</td><td>17</td><td>16</td><td>7</td><td>0</td><td>24</td><td>7</td><td>0</td><td>25</td><td>24</td><td>0</td></tr><tr><td>&quot;AD&quot;</td><td>35</td><td>29</td><td>29</td><td>29</td><td>29</td><td>29</td><td>29</td><td>29</td><td>29</td><td>33</td><td>31</td><td>30</td><td>31</td><td>31</td><td>31</td><td>31</td><td>31</td><td>31</td><td>31</td><td>31</td><td>0</td></tr><tr><td>&quot;FTD&quot;</td><td>16</td><td>14</td><td>14</td><td>14</td><td>14</td><td>14</td><td>14</td><td>14</td><td>14</td><td>14</td><td>14</td><td>14</td><td>14</td><td>14</td><td>13</td><td>14</td><td>14</td><td>16</td><td>16</td><td>16</td><td>0</td></tr></tbody></table></div>"
      ],
      "text/plain": [
       "shape: (5, 22)\n",
       "┌───────────┬─────┬────────────┬────────────┬───┬────────────┬────────────┬────────────┬───────────┐\n",
       "│ diagnosis ┆ id  ┆ moca_total ┆ moca_visuo ┆ … ┆ ifs_verbal ┆ mini_sea_f ┆ mini_sea_t ┆ emotion   │\n",
       "│ ---       ┆ --- ┆ ---        ┆ spatial    ┆   ┆ _inhibitio ┆ er         ┆ om         ┆ recog     │\n",
       "│ str       ┆ u32 ┆ u32        ┆ ---        ┆   ┆ n          ┆ ---        ┆ ---        ┆ ---       │\n",
       "│           ┆     ┆            ┆ u32        ┆   ┆ ---        ┆ u32        ┆ u32        ┆ u32       │\n",
       "│           ┆     ┆            ┆            ┆   ┆ u32        ┆            ┆            ┆           │\n",
       "╞═══════════╪═════╪════════════╪════════════╪═══╪════════════╪════════════╪════════════╪═══════════╡\n",
       "│ CN        ┆ 42  ┆ 30         ┆ 30         ┆ … ┆ 25         ┆ 29         ┆ 29         ┆ 0         │\n",
       "│ MS        ┆ 32  ┆ 0          ┆ 0          ┆ … ┆ 0          ┆ 0          ┆ 0          ┆ 0         │\n",
       "│ PD        ┆ 27  ┆ 26         ┆ 19         ┆ … ┆ 0          ┆ 25         ┆ 24         ┆ 0         │\n",
       "│ AD        ┆ 35  ┆ 29         ┆ 29         ┆ … ┆ 31         ┆ 31         ┆ 31         ┆ 0         │\n",
       "│ FTD       ┆ 16  ┆ 14         ┆ 14         ┆ … ┆ 16         ┆ 16         ┆ 16         ┆ 0         │\n",
       "└───────────┴─────┴────────────┴────────────┴───┴────────────┴────────────┴────────────┴───────────┘"
      ]
     },
     "metadata": {},
     "output_type": "display_data"
    }
   ],
   "source": [
    "# | output: false\n",
    "\n",
    "cognition_summary = cognition.group_by(\"diagnosis\").agg(pl.all().count())\n",
    "display(cognition_summary)"
   ]
  },
  {
   "cell_type": "code",
   "execution_count": 4,
   "metadata": {
    "execution": {
     "iopub.execute_input": "2024-01-22T01:12:53.313592Z",
     "iopub.status.busy": "2024-01-22T01:12:53.313357Z",
     "iopub.status.idle": "2024-01-22T01:12:53.333454Z",
     "shell.execute_reply": "2024-01-22T01:12:53.333134Z"
    }
   },
   "outputs": [
    {
     "name": "stdout",
     "output_type": "stream",
     "text": [
      "+------------------------------+------+------+------+------+-------+\n",
      "|                              |   CN |   MS |   PD |   AD |   FTD |\n",
      "+==============================+======+======+======+======+=======+\n",
      "| id                           |   42 |   32 |   27 |   35 |    16 |\n",
      "+------------------------------+------+------+------+------+-------+\n",
      "| moca_total                   |   30 |    0 |   26 |   29 |    14 |\n",
      "+------------------------------+------+------+------+------+-------+\n",
      "| moca_visuospatial            |   30 |    0 |   19 |   29 |    14 |\n",
      "+------------------------------+------+------+------+------+-------+\n",
      "| moca_recog                   |   30 |    0 |   19 |   29 |    14 |\n",
      "+------------------------------+------+------+------+------+-------+\n",
      "| moca_attention               |   30 |    0 |   26 |   29 |    14 |\n",
      "+------------------------------+------+------+------+------+-------+\n",
      "| moca_language                |   30 |    0 |   26 |   29 |    14 |\n",
      "+------------------------------+------+------+------+------+-------+\n",
      "| moca_abstraction             |   30 |    0 |   26 |   29 |    14 |\n",
      "+------------------------------+------+------+------+------+-------+\n",
      "| moca_memory                  |   30 |    0 |   26 |   29 |    14 |\n",
      "+------------------------------+------+------+------+------+-------+\n",
      "| moca_orientation             |   30 |    0 |   26 |   29 |    14 |\n",
      "+------------------------------+------+------+------+------+-------+\n",
      "| ifs_total_score              |   27 |   28 |   25 |   33 |    14 |\n",
      "+------------------------------+------+------+------+------+-------+\n",
      "| ifs_motor_series             |   24 |   28 |   17 |   31 |    14 |\n",
      "+------------------------------+------+------+------+------+-------+\n",
      "| ifs_conflicting_instructions |   24 |    0 |   17 |   30 |    14 |\n",
      "+------------------------------+------+------+------+------+-------+\n",
      "| ifs_motor_inhibition         |   23 |    0 |   16 |   31 |    14 |\n",
      "+------------------------------+------+------+------+------+-------+\n",
      "| ifs_digits                   |   23 |    0 |    7 |   31 |    14 |\n",
      "+------------------------------+------+------+------+------+-------+\n",
      "| ifs_months                   |   23 |    0 |    0 |   31 |    13 |\n",
      "+------------------------------+------+------+------+------+-------+\n",
      "| ifs_visual_wm                |   23 |    0 |   24 |   31 |    14 |\n",
      "+------------------------------+------+------+------+------+-------+\n",
      "| ifs_proverb                  |   23 |    0 |    7 |   31 |    14 |\n",
      "+------------------------------+------+------+------+------+-------+\n",
      "| ifs_verbal_inhibition        |   25 |    0 |    0 |   31 |    16 |\n",
      "+------------------------------+------+------+------+------+-------+\n",
      "| mini_sea_fer                 |   29 |    0 |   25 |   31 |    16 |\n",
      "+------------------------------+------+------+------+------+-------+\n",
      "| mini_sea_tom                 |   29 |    0 |   24 |   31 |    16 |\n",
      "+------------------------------+------+------+------+------+-------+\n",
      "| emotion recog                |    0 |    0 |    0 |    0 |     0 |\n",
      "+------------------------------+------+------+------+------+-------+\n"
     ]
    }
   ],
   "source": [
    "df = cognition_summary.to_pandas().T\n",
    "df.columns = df.iloc[0]\n",
    "df = df.iloc[1:]\n",
    "print(tabulate(df, headers=\"keys\", tablefmt=\"grid\"))"
   ]
  },
  {
   "cell_type": "markdown",
   "metadata": {},
   "source": [
    "First lets have 2 models first model that is used only on behavioral variables, then the second we use only on the people who have a eeg data\n"
   ]
  },
  {
   "cell_type": "code",
   "execution_count": 5,
   "metadata": {
    "execution": {
     "iopub.execute_input": "2024-01-22T01:12:53.335193Z",
     "iopub.status.busy": "2024-01-22T01:12:53.335079Z",
     "iopub.status.idle": "2024-01-22T01:12:53.342311Z",
     "shell.execute_reply": "2024-01-22T01:12:53.342031Z"
    }
   },
   "outputs": [
    {
     "data": {
      "text/html": [
       "<div><style>\n",
       ".dataframe > thead > tr,\n",
       ".dataframe > tbody > tr {\n",
       "  text-align: right;\n",
       "  white-space: pre-wrap;\n",
       "}\n",
       "</style>\n",
       "<small>shape: (5, 22)</small><table border=\"1\" class=\"dataframe\"><thead><tr><th>diagnosis</th><th>id</th><th>moca_total</th><th>moca_visuospatial</th><th>moca_recog</th><th>moca_attention</th><th>moca_language</th><th>moca_abstraction</th><th>moca_memory</th><th>moca_orientation</th><th>ifs_total_score</th><th>ifs_motor_series</th><th>ifs_conflicting_instructions</th><th>ifs_motor_inhibition</th><th>ifs_digits</th><th>ifs_months</th><th>ifs_visual_wm</th><th>ifs_proverb</th><th>ifs_verbal_inhibition</th><th>mini_sea_fer</th><th>mini_sea_tom</th><th>emotion recog</th></tr><tr><td>str</td><td>u32</td><td>u32</td><td>u32</td><td>u32</td><td>u32</td><td>u32</td><td>u32</td><td>u32</td><td>u32</td><td>u32</td><td>u32</td><td>u32</td><td>u32</td><td>u32</td><td>u32</td><td>u32</td><td>u32</td><td>u32</td><td>u32</td><td>u32</td><td>u32</td></tr></thead><tbody><tr><td>&quot;CN&quot;</td><td>250</td><td>156</td><td>154</td><td>154</td><td>154</td><td>154</td><td>154</td><td>154</td><td>154</td><td>166</td><td>162</td><td>162</td><td>161</td><td>161</td><td>161</td><td>161</td><td>161</td><td>169</td><td>113</td><td>122</td><td>0</td></tr><tr><td>&quot;MS&quot;</td><td>34</td><td>0</td><td>0</td><td>0</td><td>0</td><td>0</td><td>0</td><td>0</td><td>0</td><td>29</td><td>29</td><td>0</td><td>0</td><td>0</td><td>0</td><td>0</td><td>0</td><td>0</td><td>0</td><td>0</td><td>0</td></tr><tr><td>&quot;FTD&quot;</td><td>165</td><td>94</td><td>95</td><td>95</td><td>95</td><td>95</td><td>95</td><td>95</td><td>95</td><td>115</td><td>112</td><td>112</td><td>112</td><td>112</td><td>112</td><td>113</td><td>113</td><td>119</td><td>59</td><td>59</td><td>0</td></tr><tr><td>&quot;AD&quot;</td><td>279</td><td>111</td><td>111</td><td>111</td><td>111</td><td>111</td><td>111</td><td>111</td><td>111</td><td>177</td><td>175</td><td>174</td><td>175</td><td>176</td><td>176</td><td>176</td><td>176</td><td>182</td><td>169</td><td>162</td><td>0</td></tr><tr><td>&quot;PD&quot;</td><td>56</td><td>55</td><td>20</td><td>20</td><td>33</td><td>33</td><td>33</td><td>33</td><td>33</td><td>54</td><td>18</td><td>18</td><td>17</td><td>13</td><td>0</td><td>53</td><td>13</td><td>0</td><td>32</td><td>31</td><td>22</td></tr></tbody></table></div>"
      ],
      "text/plain": [
       "shape: (5, 22)\n",
       "┌───────────┬─────┬────────────┬────────────┬───┬────────────┬────────────┬────────────┬───────────┐\n",
       "│ diagnosis ┆ id  ┆ moca_total ┆ moca_visuo ┆ … ┆ ifs_verbal ┆ mini_sea_f ┆ mini_sea_t ┆ emotion   │\n",
       "│ ---       ┆ --- ┆ ---        ┆ spatial    ┆   ┆ _inhibitio ┆ er         ┆ om         ┆ recog     │\n",
       "│ str       ┆ u32 ┆ u32        ┆ ---        ┆   ┆ n          ┆ ---        ┆ ---        ┆ ---       │\n",
       "│           ┆     ┆            ┆ u32        ┆   ┆ ---        ┆ u32        ┆ u32        ┆ u32       │\n",
       "│           ┆     ┆            ┆            ┆   ┆ u32        ┆            ┆            ┆           │\n",
       "╞═══════════╪═════╪════════════╪════════════╪═══╪════════════╪════════════╪════════════╪═══════════╡\n",
       "│ CN        ┆ 250 ┆ 156        ┆ 154        ┆ … ┆ 169        ┆ 113        ┆ 122        ┆ 0         │\n",
       "│ MS        ┆ 34  ┆ 0          ┆ 0          ┆ … ┆ 0          ┆ 0          ┆ 0          ┆ 0         │\n",
       "│ FTD       ┆ 165 ┆ 94         ┆ 95         ┆ … ┆ 119        ┆ 59         ┆ 59         ┆ 0         │\n",
       "│ AD        ┆ 279 ┆ 111        ┆ 111        ┆ … ┆ 182        ┆ 169        ┆ 162        ┆ 0         │\n",
       "│ PD        ┆ 56  ┆ 55         ┆ 20         ┆ … ┆ 0          ┆ 32         ┆ 31         ┆ 22        │\n",
       "└───────────┴─────┴────────────┴────────────┴───┴────────────┴────────────┴────────────┴───────────┘"
      ]
     },
     "metadata": {},
     "output_type": "display_data"
    }
   ],
   "source": [
    "# | output: false\n",
    "\n",
    "cognition_path = \"/Volumes/T7/BrainLat/Demographic and cognition/BrainLat_Cognition.csv\"\n",
    "cognition_all = (\n",
    "    pl.scan_csv(cognition_path)\n",
    "    .collect()\n",
    "    .filter(~pl.all_horizontal(pl.all().is_null()))\n",
    "    .group_by(\"diagnosis\")\n",
    "    .agg(pl.all().count())\n",
    ")\n",
    "display(cognition_all)"
   ]
  },
  {
   "cell_type": "code",
   "execution_count": 6,
   "metadata": {
    "execution": {
     "iopub.execute_input": "2024-01-22T01:12:53.343768Z",
     "iopub.status.busy": "2024-01-22T01:12:53.343659Z",
     "iopub.status.idle": "2024-01-22T01:12:53.347988Z",
     "shell.execute_reply": "2024-01-22T01:12:53.347723Z"
    }
   },
   "outputs": [
    {
     "name": "stdout",
     "output_type": "stream",
     "text": [
      "+------------------------------+------+------+-------+------+------+\n",
      "|                              |   CN |   MS |   FTD |   AD |   PD |\n",
      "+==============================+======+======+=======+======+======+\n",
      "| id                           |  250 |   34 |   165 |  279 |   56 |\n",
      "+------------------------------+------+------+-------+------+------+\n",
      "| moca_total                   |  156 |    0 |    94 |  111 |   55 |\n",
      "+------------------------------+------+------+-------+------+------+\n",
      "| moca_visuospatial            |  154 |    0 |    95 |  111 |   20 |\n",
      "+------------------------------+------+------+-------+------+------+\n",
      "| moca_recog                   |  154 |    0 |    95 |  111 |   20 |\n",
      "+------------------------------+------+------+-------+------+------+\n",
      "| moca_attention               |  154 |    0 |    95 |  111 |   33 |\n",
      "+------------------------------+------+------+-------+------+------+\n",
      "| moca_language                |  154 |    0 |    95 |  111 |   33 |\n",
      "+------------------------------+------+------+-------+------+------+\n",
      "| moca_abstraction             |  154 |    0 |    95 |  111 |   33 |\n",
      "+------------------------------+------+------+-------+------+------+\n",
      "| moca_memory                  |  154 |    0 |    95 |  111 |   33 |\n",
      "+------------------------------+------+------+-------+------+------+\n",
      "| moca_orientation             |  154 |    0 |    95 |  111 |   33 |\n",
      "+------------------------------+------+------+-------+------+------+\n",
      "| ifs_total_score              |  166 |   29 |   115 |  177 |   54 |\n",
      "+------------------------------+------+------+-------+------+------+\n",
      "| ifs_motor_series             |  162 |   29 |   112 |  175 |   18 |\n",
      "+------------------------------+------+------+-------+------+------+\n",
      "| ifs_conflicting_instructions |  162 |    0 |   112 |  174 |   18 |\n",
      "+------------------------------+------+------+-------+------+------+\n",
      "| ifs_motor_inhibition         |  161 |    0 |   112 |  175 |   17 |\n",
      "+------------------------------+------+------+-------+------+------+\n",
      "| ifs_digits                   |  161 |    0 |   112 |  176 |   13 |\n",
      "+------------------------------+------+------+-------+------+------+\n",
      "| ifs_months                   |  161 |    0 |   112 |  176 |    0 |\n",
      "+------------------------------+------+------+-------+------+------+\n",
      "| ifs_visual_wm                |  161 |    0 |   113 |  176 |   53 |\n",
      "+------------------------------+------+------+-------+------+------+\n",
      "| ifs_proverb                  |  161 |    0 |   113 |  176 |   13 |\n",
      "+------------------------------+------+------+-------+------+------+\n",
      "| ifs_verbal_inhibition        |  169 |    0 |   119 |  182 |    0 |\n",
      "+------------------------------+------+------+-------+------+------+\n",
      "| mini_sea_fer                 |  113 |    0 |    59 |  169 |   32 |\n",
      "+------------------------------+------+------+-------+------+------+\n",
      "| mini_sea_tom                 |  122 |    0 |    59 |  162 |   31 |\n",
      "+------------------------------+------+------+-------+------+------+\n",
      "| emotion recog                |    0 |    0 |     0 |    0 |   22 |\n",
      "+------------------------------+------+------+-------+------+------+\n"
     ]
    }
   ],
   "source": [
    "df_all = cognition_all.to_pandas().T\n",
    "df_all.columns = df_all.iloc[0]\n",
    "df_all = df_all.iloc[1:]\n",
    "print(tabulate(df_all, headers=\"keys\", tablefmt=\"grid\"))"
   ]
  }
 ],
 "metadata": {
  "kernelspec": {
   "display_name": "brainlat-3.12.1",
   "language": "python",
   "name": "brainlat-3.12.1"
  },
  "language_info": {
   "codemirror_mode": {
    "name": "ipython",
    "version": 3
   },
   "file_extension": ".py",
   "mimetype": "text/x-python",
   "name": "python",
   "nbconvert_exporter": "python",
   "pygments_lexer": "ipython3",
   "version": "3.12.1"
  }
 },
 "nbformat": 4,
 "nbformat_minor": 2
}
